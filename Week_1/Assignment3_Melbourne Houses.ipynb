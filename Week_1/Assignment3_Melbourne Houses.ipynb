{
 "cells": [
  {
   "cell_type": "markdown",
   "metadata": {},
   "source": [
    "# MELBORNE HOUSING PRICE\n"
   ]
  },
  {
   "cell_type": "markdown",
   "metadata": {},
   "source": [
    "#### Some Key Details:\n",
    "Suburb: Suburb\n",
    "\n",
    "Address: Address\n",
    "\n",
    "Rooms: Number of rooms\n",
    "\n",
    "Price: Price in Australian dollars\n",
    "\n",
    "#### Method:\n",
    "S: property sold\n",
    "SP: property sold prior\n",
    "PI: property passed in\n",
    "PN : sold prior not disclosed\n",
    "SN : sold not disclosed\n",
    "NB : no bid\n",
    "VB : vendor bid\n",
    "W : withdrawn prior to auction\n",
    "SA : sold after auction\n",
    "SS : sold after auction price not disclosed\n",
    "N/A : price or highest bid not available\n",
    "\n",
    "#### Type:\n",
    "br : bedroom(s)\n",
    "h : house,cottage,villa, semi,terrace\n",
    "u : unit, duplex\n",
    "t : townhouse\n",
    "dev site : development site\n",
    "o res : other residential\n",
    "\n",
    "#### Other\n",
    "\n",
    "SellerG: Real Estate Agent\n",
    "\n",
    "Date: Date sold\n",
    "\n",
    "Distance: Distance from CBD in Kilometres\n",
    "\n",
    "Regionname: General Region (West, North West, North, North east …etc)\n",
    "\n",
    "Propertycount: Number of properties that exist in the suburb.\n",
    "\n",
    "Bedroom2 : Scraped # of Bedrooms (from different source)\n",
    "\n",
    "Bathroom: Number of Bathrooms\n",
    "\n",
    "Car: Number of carspots\n",
    "\n",
    "Landsize: Land Size in Metres\n",
    "\n",
    "BuildingArea: Building Size in Metres\n",
    "\n",
    "YearBuilt: Year the house was built\n",
    "\n",
    "CouncilArea: Governing council for the area\n",
    "\n",
    "Lattitude: Self explanitory\n",
    "\n",
    "Longtitude: Self explanitory"
   ]
  },
  {
   "cell_type": "code",
   "execution_count": 264,
   "metadata": {},
   "outputs": [],
   "source": [
    "import numpy as np\n",
    "import pandas as pd\n",
    "import json\n",
    "import matplotlib.pyplot as plt\n",
    "import sklearn\n",
    "import seaborn as sns\n",
    "import scipy.stats as stats\n",
    "import tensorflow as tf\n",
    "from scipy.stats import f_oneway\n",
    "from sklearn.preprocessing import PowerTransformer\n",
    "from IPython.display import Image"
   ]
  },
  {
   "cell_type": "code",
   "execution_count": 265,
   "metadata": {},
   "outputs": [],
   "source": [
    "df_csv = pd.read_csv(\"C:/Users/Admin/Desktop/1CBDRobotic/res/week4/archive/Melbourne_housing_FULL.csv\")\n",
    "df_csv['Date'] = pd.to_datetime(df_csv['Date']).apply(lambda x: x.date())"
   ]
  },
  {
   "cell_type": "markdown",
   "metadata": {},
   "source": [
    "### CHECK INSIGHT"
   ]
  },
  {
   "cell_type": "code",
   "execution_count": 266,
   "metadata": {},
   "outputs": [
    {
     "name": "stdout",
     "output_type": "stream",
     "text": [
      "(34857, 21)\n",
      "              Rooms         Price      Distance      Postcode      Bedroom2  \\\n",
      "count  34857.000000  2.724700e+04  34856.000000  34856.000000  26640.000000   \n",
      "mean       3.031012  1.050173e+06     11.184929   3116.062859      3.084647   \n",
      "std        0.969933  6.414671e+05      6.788892    109.023903      0.980690   \n",
      "min        1.000000  8.500000e+04      0.000000   3000.000000      0.000000   \n",
      "25%        2.000000  6.350000e+05      6.400000   3051.000000      2.000000   \n",
      "50%        3.000000  8.700000e+05     10.300000   3103.000000      3.000000   \n",
      "75%        4.000000  1.295000e+06     14.000000   3156.000000      4.000000   \n",
      "max       16.000000  1.120000e+07     48.100000   3978.000000     30.000000   \n",
      "\n",
      "           Bathroom           Car       Landsize  BuildingArea     YearBuilt  \\\n",
      "count  26631.000000  26129.000000   23047.000000   13742.00000  15551.000000   \n",
      "mean       1.624798      1.728845     593.598993     160.25640   1965.289885   \n",
      "std        0.724212      1.010771    3398.841946     401.26706     37.328178   \n",
      "min        0.000000      0.000000       0.000000       0.00000   1196.000000   \n",
      "25%        1.000000      1.000000     224.000000     102.00000   1940.000000   \n",
      "50%        2.000000      2.000000     521.000000     136.00000   1970.000000   \n",
      "75%        2.000000      2.000000     670.000000     188.00000   2000.000000   \n",
      "max       12.000000     26.000000  433014.000000   44515.00000   2106.000000   \n",
      "\n",
      "          Lattitude    Longtitude  Propertycount  \n",
      "count  26881.000000  26881.000000   34854.000000  \n",
      "mean     -37.810634    145.001851    7572.888306  \n",
      "std        0.090279      0.120169    4428.090313  \n",
      "min      -38.190430    144.423790      83.000000  \n",
      "25%      -37.862950    144.933500    4385.000000  \n",
      "50%      -37.807600    145.007800    6763.000000  \n",
      "75%      -37.754100    145.071900   10412.000000  \n",
      "max      -37.390200    145.526350   21650.000000  \n"
     ]
    }
   ],
   "source": [
    "print(df_csv.shape)\n",
    "print(df_csv.describe())"
   ]
  },
  {
   "cell_type": "markdown",
   "metadata": {},
   "source": [
    "## NOTE:\n",
    "#### We can see that in some features, min = 0, also max values is too big, these can be a sign to detect ouliners."
   ]
  },
  {
   "cell_type": "code",
   "execution_count": 267,
   "metadata": {},
   "outputs": [
    {
     "name": "stdout",
     "output_type": "stream",
     "text": [
      "<class 'pandas.core.frame.DataFrame'>\n",
      "RangeIndex: 34857 entries, 0 to 34856\n",
      "Data columns (total 21 columns):\n",
      " #   Column         Non-Null Count  Dtype  \n",
      "---  ------         --------------  -----  \n",
      " 0   Suburb         34857 non-null  object \n",
      " 1   Address        34857 non-null  object \n",
      " 2   Rooms          34857 non-null  int64  \n",
      " 3   Type           34857 non-null  object \n",
      " 4   Price          27247 non-null  float64\n",
      " 5   Method         34857 non-null  object \n",
      " 6   SellerG        34857 non-null  object \n",
      " 7   Date           34857 non-null  object \n",
      " 8   Distance       34856 non-null  float64\n",
      " 9   Postcode       34856 non-null  float64\n",
      " 10  Bedroom2       26640 non-null  float64\n",
      " 11  Bathroom       26631 non-null  float64\n",
      " 12  Car            26129 non-null  float64\n",
      " 13  Landsize       23047 non-null  float64\n",
      " 14  BuildingArea   13742 non-null  float64\n",
      " 15  YearBuilt      15551 non-null  float64\n",
      " 16  CouncilArea    34854 non-null  object \n",
      " 17  Lattitude      26881 non-null  float64\n",
      " 18  Longtitude     26881 non-null  float64\n",
      " 19  Regionname     34854 non-null  object \n",
      " 20  Propertycount  34854 non-null  float64\n",
      "dtypes: float64(12), int64(1), object(8)\n",
      "memory usage: 5.6+ MB\n",
      "None\n"
     ]
    }
   ],
   "source": [
    "print(df_csv.info())"
   ]
  },
  {
   "cell_type": "markdown",
   "metadata": {},
   "source": [
    "#### Some features included null values, also Dtype still not ideal for building a ML model."
   ]
  },
  {
   "cell_type": "markdown",
   "metadata": {},
   "source": [
    "#### Check Propertycount base on Suburb"
   ]
  },
  {
   "cell_type": "code",
   "execution_count": 268,
   "metadata": {},
   "outputs": [
    {
     "data": {
      "text/html": [
       "<div>\n",
       "<style scoped>\n",
       "    .dataframe tbody tr th:only-of-type {\n",
       "        vertical-align: middle;\n",
       "    }\n",
       "\n",
       "    .dataframe tbody tr th {\n",
       "        vertical-align: top;\n",
       "    }\n",
       "\n",
       "    .dataframe thead th {\n",
       "        text-align: right;\n",
       "    }\n",
       "</style>\n",
       "<table border=\"1\" class=\"dataframe\">\n",
       "  <thead>\n",
       "    <tr style=\"text-align: right;\">\n",
       "      <th></th>\n",
       "      <th>Suburb</th>\n",
       "      <th>Propertycount</th>\n",
       "    </tr>\n",
       "  </thead>\n",
       "  <tbody>\n",
       "    <tr>\n",
       "      <th>0</th>\n",
       "      <td>Abbotsford</td>\n",
       "      <td>4019.0</td>\n",
       "    </tr>\n",
       "    <tr>\n",
       "      <th>1</th>\n",
       "      <td>Abbotsford</td>\n",
       "      <td>4019.0</td>\n",
       "    </tr>\n",
       "    <tr>\n",
       "      <th>2</th>\n",
       "      <td>Abbotsford</td>\n",
       "      <td>4019.0</td>\n",
       "    </tr>\n",
       "  </tbody>\n",
       "</table>\n",
       "</div>"
      ],
      "text/plain": [
       "       Suburb  Propertycount\n",
       "0  Abbotsford         4019.0\n",
       "1  Abbotsford         4019.0\n",
       "2  Abbotsford         4019.0"
      ]
     },
     "execution_count": 268,
     "metadata": {},
     "output_type": "execute_result"
    }
   ],
   "source": [
    "df_temp1 = df_csv[['Suburb','Propertycount']]\n",
    "df_temp1.head(3)"
   ]
  },
  {
   "cell_type": "code",
   "execution_count": 269,
   "metadata": {},
   "outputs": [
    {
     "data": {
      "image/png": "[encoded data removed]",
      "text/plain": [
       "<Figure size 1296x432 with 1 Axes>"
      ]
     },
     "metadata": {},
     "output_type": "display_data"
    }
   ],
   "source": [
    "plt.figure(figsize=(18,6))\n",
    "temp1 = sns.barplot(x='Suburb',y='Propertycount',data=df_temp1,palette=\"rocket\")\n",
    "plt.show()"
   ]
  },
  {
   "cell_type": "markdown",
   "metadata": {},
   "source": [
    "#### Comment: Amounts of PropertyCount is ok, we can use for further purposes."
   ]
  },
  {
   "cell_type": "markdown",
   "metadata": {},
   "source": [
    "#### In my hypothesis, we can combine these 4 features because its all indicate positions, thus we can just pick the feature that have most amounts."
   ]
  },
  {
   "cell_type": "code",
   "execution_count": 270,
   "metadata": {},
   "outputs": [
    {
     "name": "stdout",
     "output_type": "stream",
     "text": [
      "9\n",
      "343\n",
      "212\n",
      "351\n"
     ]
    }
   ],
   "source": [
    "print(len(df_csv.Regionname.unique()))\n",
    "print(len(df_csv.Propertycount.unique()))\n",
    "print(len(df_csv.Postcode.unique()))\n",
    "print(len(df_csv.Suburb.unique()))"
   ]
  },
  {
   "cell_type": "markdown",
   "metadata": {},
   "source": [
    "#### Suburb is the feature has most amount\n",
    "#### We will get some insight of this feature"
   ]
  },
  {
   "cell_type": "code",
   "execution_count": 271,
   "metadata": {},
   "outputs": [],
   "source": [
    "# # index all suburbs\n",
    "# Suburb_dict = dict(zip(df_csv.Suburb.unique(), range(len(df_csv.Suburb.unique()))))\n",
    "# print(Suburb_dict)"
   ]
  },
  {
   "cell_type": "code",
   "execution_count": 272,
   "metadata": {},
   "outputs": [
    {
     "name": "stdout",
     "output_type": "stream",
     "text": [
      "<class 'pandas.core.series.Series'>\n"
     ]
    }
   ],
   "source": [
    "df_temp2 = df_csv.Suburb.value_counts()\n",
    "print(type(df_temp2))"
   ]
  },
  {
   "cell_type": "code",
   "execution_count": 273,
   "metadata": {},
   "outputs": [
    {
     "name": "stdout",
     "output_type": "stream",
     "text": [
      "Reservoir          844\n",
      "Bentleigh East     583\n",
      "Richmond           552\n",
      "Glen Iris          491\n",
      "Preston            485\n",
      "                  ... \n",
      "Belgrave             1\n",
      "Guys Hill            1\n",
      "Wildwood             1\n",
      "Hopetoun Park        1\n",
      "Cranbourne East      1\n",
      "Name: Suburb, Length: 351, dtype: int64\n"
     ]
    }
   ],
   "source": [
    "print(df_temp2)"
   ]
  },
  {
   "cell_type": "code",
   "execution_count": 274,
   "metadata": {},
   "outputs": [
    {
     "data": {
      "image/png": "[encoded data removed]",
      "text/plain": [
       "<Figure size 1296x432 with 1 Axes>"
      ]
     },
     "metadata": {},
     "output_type": "display_data"
    }
   ],
   "source": [
    "plt.figure(figsize=(18,6))\n",
    "temp2 = sns.barplot(x=df_temp2.index,y=df_temp2.values,data=df_temp2)"
   ]
  },
  {
   "cell_type": "code",
   "execution_count": 275,
   "metadata": {},
   "outputs": [
    {
     "data": {
      "text/plain": [
       "count    351.000000\n",
       "mean      99.307692\n",
       "std      120.491503\n",
       "min        1.000000\n",
       "25%       16.000000\n",
       "50%       55.000000\n",
       "75%      135.500000\n",
       "max      844.000000\n",
       "Name: Suburb, dtype: float64"
      ]
     },
     "execution_count": 275,
     "metadata": {},
     "output_type": "execute_result"
    }
   ],
   "source": [
    "df_temp2.describe()"
   ]
  },
  {
   "cell_type": "markdown",
   "metadata": {},
   "source": [
    "#### Some suburbs only have a few samples, we will remove half of them, which mean we just keep suburbs having more than 55 samples"
   ]
  },
  {
   "cell_type": "code",
   "execution_count": 276,
   "metadata": {},
   "outputs": [
    {
     "data": {
      "text/html": [
       "<div>\n",
       "<style scoped>\n",
       "    .dataframe tbody tr th:only-of-type {\n",
       "        vertical-align: middle;\n",
       "    }\n",
       "\n",
       "    .dataframe tbody tr th {\n",
       "        vertical-align: top;\n",
       "    }\n",
       "\n",
       "    .dataframe thead th {\n",
       "        text-align: right;\n",
       "    }\n",
       "</style>\n",
       "<table border=\"1\" class=\"dataframe\">\n",
       "  <thead>\n",
       "    <tr style=\"text-align: right;\">\n",
       "      <th></th>\n",
       "      <th>Suburb</th>\n",
       "    </tr>\n",
       "  </thead>\n",
       "  <tbody>\n",
       "    <tr>\n",
       "      <th>Reservoir</th>\n",
       "      <td>844</td>\n",
       "    </tr>\n",
       "    <tr>\n",
       "      <th>Bentleigh East</th>\n",
       "      <td>583</td>\n",
       "    </tr>\n",
       "    <tr>\n",
       "      <th>Richmond</th>\n",
       "      <td>552</td>\n",
       "    </tr>\n",
       "    <tr>\n",
       "      <th>Glen Iris</th>\n",
       "      <td>491</td>\n",
       "    </tr>\n",
       "    <tr>\n",
       "      <th>Preston</th>\n",
       "      <td>485</td>\n",
       "    </tr>\n",
       "    <tr>\n",
       "      <th>...</th>\n",
       "      <td>...</td>\n",
       "    </tr>\n",
       "    <tr>\n",
       "      <th>Taylors Lakes</th>\n",
       "      <td>62</td>\n",
       "    </tr>\n",
       "    <tr>\n",
       "      <th>Mooroolbark</th>\n",
       "      <td>62</td>\n",
       "    </tr>\n",
       "    <tr>\n",
       "      <th>Mordialloc</th>\n",
       "      <td>62</td>\n",
       "    </tr>\n",
       "    <tr>\n",
       "      <th>Blackburn South</th>\n",
       "      <td>62</td>\n",
       "    </tr>\n",
       "    <tr>\n",
       "      <th>Burwood East</th>\n",
       "      <td>60</td>\n",
       "    </tr>\n",
       "  </tbody>\n",
       "</table>\n",
       "<p>163 rows × 1 columns</p>\n",
       "</div>"
      ],
      "text/plain": [
       "                 Suburb\n",
       "Reservoir           844\n",
       "Bentleigh East      583\n",
       "Richmond            552\n",
       "Glen Iris           491\n",
       "Preston             485\n",
       "...                 ...\n",
       "Taylors Lakes        62\n",
       "Mooroolbark          62\n",
       "Mordialloc           62\n",
       "Blackburn South      62\n",
       "Burwood East         60\n",
       "\n",
       "[163 rows x 1 columns]"
      ]
     },
     "execution_count": 276,
     "metadata": {},
     "output_type": "execute_result"
    }
   ],
   "source": [
    "df_temp3 = pd.DataFrame(df_temp2)\n",
    "df = df_temp3[df_temp3.Suburb >=60]\n",
    "df"
   ]
  },
  {
   "cell_type": "code",
   "execution_count": 277,
   "metadata": {},
   "outputs": [
    {
     "name": "stdout",
     "output_type": "stream",
     "text": [
      "Index(['Reservoir', 'Bentleigh East', 'Richmond', 'Glen Iris', 'Preston',\n",
      "       'Kew', 'Brighton', 'Brunswick', 'South Yarra', 'Hawthorn',\n",
      "       ...\n",
      "       'West Melbourne', 'Melton South', 'Balaclava', 'Wollert', 'Montmorency',\n",
      "       'Taylors Lakes', 'Mooroolbark', 'Mordialloc', 'Blackburn South',\n",
      "       'Burwood East'],\n",
      "      dtype='object', length=163)\n"
     ]
    }
   ],
   "source": [
    "print(df.index)"
   ]
  },
  {
   "cell_type": "markdown",
   "metadata": {},
   "source": [
    "#### We have a new dataframe:"
   ]
  },
  {
   "cell_type": "code",
   "execution_count": 278,
   "metadata": {},
   "outputs": [],
   "source": [
    "df_af1 = df_csv.head(1)"
   ]
  },
  {
   "cell_type": "code",
   "execution_count": 279,
   "metadata": {},
   "outputs": [],
   "source": [
    "for i in df.index:\n",
    "    df_af1 = df_af1.append(df_csv[df_csv.Suburb == i], ignore_index=True)"
   ]
  },
  {
   "cell_type": "code",
   "execution_count": 280,
   "metadata": {},
   "outputs": [
    {
     "name": "stdout",
     "output_type": "stream",
     "text": [
      "(30624, 21)\n"
     ]
    },
    {
     "data": {
      "text/html": [
       "<div>\n",
       "<style scoped>\n",
       "    .dataframe tbody tr th:only-of-type {\n",
       "        vertical-align: middle;\n",
       "    }\n",
       "\n",
       "    .dataframe tbody tr th {\n",
       "        vertical-align: top;\n",
       "    }\n",
       "\n",
       "    .dataframe thead th {\n",
       "        text-align: right;\n",
       "    }\n",
       "</style>\n",
       "<table border=\"1\" class=\"dataframe\">\n",
       "  <thead>\n",
       "    <tr style=\"text-align: right;\">\n",
       "      <th></th>\n",
       "      <th>Suburb</th>\n",
       "      <th>Address</th>\n",
       "      <th>Rooms</th>\n",
       "      <th>Type</th>\n",
       "      <th>Price</th>\n",
       "      <th>Method</th>\n",
       "      <th>SellerG</th>\n",
       "      <th>Date</th>\n",
       "      <th>Distance</th>\n",
       "      <th>Postcode</th>\n",
       "      <th>...</th>\n",
       "      <th>Bathroom</th>\n",
       "      <th>Car</th>\n",
       "      <th>Landsize</th>\n",
       "      <th>BuildingArea</th>\n",
       "      <th>YearBuilt</th>\n",
       "      <th>CouncilArea</th>\n",
       "      <th>Lattitude</th>\n",
       "      <th>Longtitude</th>\n",
       "      <th>Regionname</th>\n",
       "      <th>Propertycount</th>\n",
       "    </tr>\n",
       "  </thead>\n",
       "  <tbody>\n",
       "    <tr>\n",
       "      <th>0</th>\n",
       "      <td>Abbotsford</td>\n",
       "      <td>68 Studley St</td>\n",
       "      <td>2</td>\n",
       "      <td>h</td>\n",
       "      <td>NaN</td>\n",
       "      <td>SS</td>\n",
       "      <td>Jellis</td>\n",
       "      <td>2016-03-09</td>\n",
       "      <td>2.5</td>\n",
       "      <td>3067.0</td>\n",
       "      <td>...</td>\n",
       "      <td>1.0</td>\n",
       "      <td>1.0</td>\n",
       "      <td>126.0</td>\n",
       "      <td>NaN</td>\n",
       "      <td>NaN</td>\n",
       "      <td>Yarra City Council</td>\n",
       "      <td>-37.8014</td>\n",
       "      <td>144.9958</td>\n",
       "      <td>Northern Metropolitan</td>\n",
       "      <td>4019.0</td>\n",
       "    </tr>\n",
       "    <tr>\n",
       "      <th>1</th>\n",
       "      <td>Reservoir</td>\n",
       "      <td>36a Ashton St</td>\n",
       "      <td>3</td>\n",
       "      <td>u</td>\n",
       "      <td>666000.0</td>\n",
       "      <td>S</td>\n",
       "      <td>Barry</td>\n",
       "      <td>2016-03-09</td>\n",
       "      <td>11.2</td>\n",
       "      <td>3073.0</td>\n",
       "      <td>...</td>\n",
       "      <td>NaN</td>\n",
       "      <td>NaN</td>\n",
       "      <td>NaN</td>\n",
       "      <td>NaN</td>\n",
       "      <td>NaN</td>\n",
       "      <td>Darebin City Council</td>\n",
       "      <td>NaN</td>\n",
       "      <td>NaN</td>\n",
       "      <td>Northern Metropolitan</td>\n",
       "      <td>21650.0</td>\n",
       "    </tr>\n",
       "    <tr>\n",
       "      <th>2</th>\n",
       "      <td>Reservoir</td>\n",
       "      <td>3/39 Chaleyer St</td>\n",
       "      <td>2</td>\n",
       "      <td>u</td>\n",
       "      <td>NaN</td>\n",
       "      <td>S</td>\n",
       "      <td>Barry</td>\n",
       "      <td>2016-03-09</td>\n",
       "      <td>11.2</td>\n",
       "      <td>3073.0</td>\n",
       "      <td>...</td>\n",
       "      <td>1.0</td>\n",
       "      <td>1.0</td>\n",
       "      <td>147.0</td>\n",
       "      <td>NaN</td>\n",
       "      <td>1998.0</td>\n",
       "      <td>Darebin City Council</td>\n",
       "      <td>-37.7281</td>\n",
       "      <td>145.0231</td>\n",
       "      <td>Northern Metropolitan</td>\n",
       "      <td>21650.0</td>\n",
       "    </tr>\n",
       "    <tr>\n",
       "      <th>3</th>\n",
       "      <td>Reservoir</td>\n",
       "      <td>1/21 Dumbarton St</td>\n",
       "      <td>3</td>\n",
       "      <td>u</td>\n",
       "      <td>475000.0</td>\n",
       "      <td>S</td>\n",
       "      <td>Ray</td>\n",
       "      <td>2016-03-09</td>\n",
       "      <td>11.2</td>\n",
       "      <td>3073.0</td>\n",
       "      <td>...</td>\n",
       "      <td>1.0</td>\n",
       "      <td>1.0</td>\n",
       "      <td>191.0</td>\n",
       "      <td>107.0</td>\n",
       "      <td>1990.0</td>\n",
       "      <td>Darebin City Council</td>\n",
       "      <td>-37.7019</td>\n",
       "      <td>145.0256</td>\n",
       "      <td>Northern Metropolitan</td>\n",
       "      <td>21650.0</td>\n",
       "    </tr>\n",
       "    <tr>\n",
       "      <th>4</th>\n",
       "      <td>Reservoir</td>\n",
       "      <td>39 Gertz Av</td>\n",
       "      <td>5</td>\n",
       "      <td>h</td>\n",
       "      <td>NaN</td>\n",
       "      <td>W</td>\n",
       "      <td>Barry</td>\n",
       "      <td>2016-03-09</td>\n",
       "      <td>11.2</td>\n",
       "      <td>3073.0</td>\n",
       "      <td>...</td>\n",
       "      <td>NaN</td>\n",
       "      <td>NaN</td>\n",
       "      <td>NaN</td>\n",
       "      <td>NaN</td>\n",
       "      <td>NaN</td>\n",
       "      <td>Darebin City Council</td>\n",
       "      <td>NaN</td>\n",
       "      <td>NaN</td>\n",
       "      <td>Northern Metropolitan</td>\n",
       "      <td>21650.0</td>\n",
       "    </tr>\n",
       "  </tbody>\n",
       "</table>\n",
       "<p>5 rows × 21 columns</p>\n",
       "</div>"
      ],
      "text/plain": [
       "       Suburb            Address  Rooms Type     Price Method SellerG  \\\n",
       "0  Abbotsford      68 Studley St      2    h       NaN     SS  Jellis   \n",
       "1   Reservoir      36a Ashton St      3    u  666000.0      S   Barry   \n",
       "2   Reservoir   3/39 Chaleyer St      2    u       NaN      S   Barry   \n",
       "3   Reservoir  1/21 Dumbarton St      3    u  475000.0      S     Ray   \n",
       "4   Reservoir        39 Gertz Av      5    h       NaN      W   Barry   \n",
       "\n",
       "         Date  Distance  Postcode  ...  Bathroom  Car  Landsize  BuildingArea  \\\n",
       "0  2016-03-09       2.5    3067.0  ...       1.0  1.0     126.0           NaN   \n",
       "1  2016-03-09      11.2    3073.0  ...       NaN  NaN       NaN           NaN   \n",
       "2  2016-03-09      11.2    3073.0  ...       1.0  1.0     147.0           NaN   \n",
       "3  2016-03-09      11.2    3073.0  ...       1.0  1.0     191.0         107.0   \n",
       "4  2016-03-09      11.2    3073.0  ...       NaN  NaN       NaN           NaN   \n",
       "\n",
       "   YearBuilt           CouncilArea Lattitude  Longtitude  \\\n",
       "0        NaN    Yarra City Council  -37.8014    144.9958   \n",
       "1        NaN  Darebin City Council       NaN         NaN   \n",
       "2     1998.0  Darebin City Council  -37.7281    145.0231   \n",
       "3     1990.0  Darebin City Council  -37.7019    145.0256   \n",
       "4        NaN  Darebin City Council       NaN         NaN   \n",
       "\n",
       "              Regionname Propertycount  \n",
       "0  Northern Metropolitan        4019.0  \n",
       "1  Northern Metropolitan       21650.0  \n",
       "2  Northern Metropolitan       21650.0  \n",
       "3  Northern Metropolitan       21650.0  \n",
       "4  Northern Metropolitan       21650.0  \n",
       "\n",
       "[5 rows x 21 columns]"
      ]
     },
     "execution_count": 280,
     "metadata": {},
     "output_type": "execute_result"
    }
   ],
   "source": [
    "print(df_af1.shape)\n",
    "df_af1.head(5)"
   ]
  },
  {
   "cell_type": "markdown",
   "metadata": {},
   "source": [
    "#### After removed some suburbs, we will continue with some features that have a high correlation\n"
   ]
  },
  {
   "cell_type": "markdown",
   "metadata": {},
   "source": [
    "#### Correlation 4 feature 'Rooms', 'Bathroom', 'Bedroom2', 'Car' :"
   ]
  },
  {
   "cell_type": "code",
   "execution_count": 281,
   "metadata": {},
   "outputs": [],
   "source": [
    "df_temp3 = df_af1[['Rooms','Bathroom','Bedroom2','Car']]\n"
   ]
  },
  {
   "cell_type": "code",
   "execution_count": 282,
   "metadata": {},
   "outputs": [
    {
     "data": {
      "text/html": [
       "<div>\n",
       "<style scoped>\n",
       "    .dataframe tbody tr th:only-of-type {\n",
       "        vertical-align: middle;\n",
       "    }\n",
       "\n",
       "    .dataframe tbody tr th {\n",
       "        vertical-align: top;\n",
       "    }\n",
       "\n",
       "    .dataframe thead th {\n",
       "        text-align: right;\n",
       "    }\n",
       "</style>\n",
       "<table border=\"1\" class=\"dataframe\">\n",
       "  <thead>\n",
       "    <tr style=\"text-align: right;\">\n",
       "      <th></th>\n",
       "      <th>Rooms</th>\n",
       "      <th>Bathroom</th>\n",
       "      <th>Bedroom2</th>\n",
       "      <th>Car</th>\n",
       "    </tr>\n",
       "  </thead>\n",
       "  <tbody>\n",
       "    <tr>\n",
       "      <th>0</th>\n",
       "      <td>2</td>\n",
       "      <td>1.0</td>\n",
       "      <td>2.0</td>\n",
       "      <td>1.0</td>\n",
       "    </tr>\n",
       "    <tr>\n",
       "      <th>1</th>\n",
       "      <td>3</td>\n",
       "      <td>NaN</td>\n",
       "      <td>NaN</td>\n",
       "      <td>NaN</td>\n",
       "    </tr>\n",
       "    <tr>\n",
       "      <th>2</th>\n",
       "      <td>2</td>\n",
       "      <td>1.0</td>\n",
       "      <td>2.0</td>\n",
       "      <td>1.0</td>\n",
       "    </tr>\n",
       "  </tbody>\n",
       "</table>\n",
       "</div>"
      ],
      "text/plain": [
       "   Rooms  Bathroom  Bedroom2  Car\n",
       "0      2       1.0       2.0  1.0\n",
       "1      3       NaN       NaN  NaN\n",
       "2      2       1.0       2.0  1.0"
      ]
     },
     "execution_count": 282,
     "metadata": {},
     "output_type": "execute_result"
    }
   ],
   "source": [
    "df_temp3.head(3)"
   ]
  },
  {
   "cell_type": "code",
   "execution_count": 283,
   "metadata": {},
   "outputs": [
    {
     "name": "stdout",
     "output_type": "stream",
     "text": [
      "             Rooms  Bathroom  Bedroom2       Car\n",
      "Rooms     1.000000  0.610462  0.949574  0.396181\n",
      "Bathroom  0.610462  1.000000  0.616389  0.305820\n",
      "Bedroom2  0.949574  0.616389  1.000000  0.389704\n",
      "Car       0.396181  0.305820  0.389704  1.000000\n"
     ]
    }
   ],
   "source": [
    "corr = df_temp3.corr()\n",
    "print(corr)"
   ]
  },
  {
   "cell_type": "code",
   "execution_count": 284,
   "metadata": {},
   "outputs": [
    {
     "data": {
      "image/png": "[encoded data removed]",
      "text/plain": [
       "<Figure size 432x288 with 2 Axes>"
      ]
     },
     "metadata": {},
     "output_type": "display_data"
    }
   ],
   "source": [
    "sns.set_theme()\n",
    "ax = sns.heatmap(corr)"
   ]
  },
  {
   "cell_type": "markdown",
   "metadata": {},
   "source": [
    "#### the correlation between Rooms and Bedroom2 is high (0,95), so that we can remove one of them. We can see above that Rooms didn't have any Null value, whereas Bedroom2 had more than 10000, so we will remove Bedroom2.\n"
   ]
  },
  {
   "cell_type": "markdown",
   "metadata": {},
   "source": [
    "#### Check corellation between landsize and building Area"
   ]
  },
  {
   "cell_type": "code",
   "execution_count": 285,
   "metadata": {},
   "outputs": [],
   "source": [
    "df_temp4 = df_af1[['Landsize','BuildingArea']]"
   ]
  },
  {
   "cell_type": "code",
   "execution_count": 286,
   "metadata": {},
   "outputs": [
    {
     "name": "stdout",
     "output_type": "stream",
     "text": [
      "              Landsize  BuildingArea\n",
      "Landsize      1.000000      0.077385\n",
      "BuildingArea  0.077385      1.000000\n"
     ]
    }
   ],
   "source": [
    "corr2 = df_temp4.corr()\n",
    "print(corr2)"
   ]
  },
  {
   "cell_type": "markdown",
   "metadata": {},
   "source": [
    "#### Clearly that these features don't have any relation.\n",
    "#### => explant: because the price higher when Building Area higher, but Landsize bigger doesn't mean that Building Area is bigger, because the precent of floor area we are allowed to build is in respect of building code, so its limit the floor area we can build."
   ]
  },
  {
   "cell_type": "markdown",
   "metadata": {},
   "source": [
    "# BRIEFLY SUMMARY:\n",
    "##### 5 feature : region name, suburb, property count, council area, postcode will be combined into just 1 feature, is Suburb\n",
    "##### Remove feature Bedroom2,  region name, property count, council, postcode, Lattitude, Longtitude ( we will remove Lattitude and Longtitude because its too specific and can be a future problem about overfitting)\n",
    "##### Remove Seller, although seller can potentially affect to price, but this is a temporary feature (Seller can be difference by time)."
   ]
  },
  {
   "cell_type": "markdown",
   "metadata": {},
   "source": [
    "### We have new dataframe:\n"
   ]
  },
  {
   "cell_type": "code",
   "execution_count": 287,
   "metadata": {},
   "outputs": [],
   "source": [
    "df_af2 = df_af1[['Suburb','Address','Rooms','Type','Price','Method','Date','Distance','Bathroom','Car','Landsize','BuildingArea','YearBuilt']]"
   ]
  },
  {
   "cell_type": "code",
   "execution_count": 288,
   "metadata": {},
   "outputs": [
    {
     "data": {
      "text/html": [
       "<div>\n",
       "<style scoped>\n",
       "    .dataframe tbody tr th:only-of-type {\n",
       "        vertical-align: middle;\n",
       "    }\n",
       "\n",
       "    .dataframe tbody tr th {\n",
       "        vertical-align: top;\n",
       "    }\n",
       "\n",
       "    .dataframe thead th {\n",
       "        text-align: right;\n",
       "    }\n",
       "</style>\n",
       "<table border=\"1\" class=\"dataframe\">\n",
       "  <thead>\n",
       "    <tr style=\"text-align: right;\">\n",
       "      <th></th>\n",
       "      <th>Suburb</th>\n",
       "      <th>Address</th>\n",
       "      <th>Rooms</th>\n",
       "      <th>Type</th>\n",
       "      <th>Price</th>\n",
       "      <th>Method</th>\n",
       "      <th>Date</th>\n",
       "      <th>Distance</th>\n",
       "      <th>Bathroom</th>\n",
       "      <th>Car</th>\n",
       "      <th>Landsize</th>\n",
       "      <th>BuildingArea</th>\n",
       "      <th>YearBuilt</th>\n",
       "    </tr>\n",
       "  </thead>\n",
       "  <tbody>\n",
       "    <tr>\n",
       "      <th>0</th>\n",
       "      <td>Abbotsford</td>\n",
       "      <td>68 Studley St</td>\n",
       "      <td>2</td>\n",
       "      <td>h</td>\n",
       "      <td>NaN</td>\n",
       "      <td>SS</td>\n",
       "      <td>2016-03-09</td>\n",
       "      <td>2.5</td>\n",
       "      <td>1.0</td>\n",
       "      <td>1.0</td>\n",
       "      <td>126.0</td>\n",
       "      <td>NaN</td>\n",
       "      <td>NaN</td>\n",
       "    </tr>\n",
       "    <tr>\n",
       "      <th>1</th>\n",
       "      <td>Reservoir</td>\n",
       "      <td>36a Ashton St</td>\n",
       "      <td>3</td>\n",
       "      <td>u</td>\n",
       "      <td>666000.0</td>\n",
       "      <td>S</td>\n",
       "      <td>2016-03-09</td>\n",
       "      <td>11.2</td>\n",
       "      <td>NaN</td>\n",
       "      <td>NaN</td>\n",
       "      <td>NaN</td>\n",
       "      <td>NaN</td>\n",
       "      <td>NaN</td>\n",
       "    </tr>\n",
       "    <tr>\n",
       "      <th>2</th>\n",
       "      <td>Reservoir</td>\n",
       "      <td>3/39 Chaleyer St</td>\n",
       "      <td>2</td>\n",
       "      <td>u</td>\n",
       "      <td>NaN</td>\n",
       "      <td>S</td>\n",
       "      <td>2016-03-09</td>\n",
       "      <td>11.2</td>\n",
       "      <td>1.0</td>\n",
       "      <td>1.0</td>\n",
       "      <td>147.0</td>\n",
       "      <td>NaN</td>\n",
       "      <td>1998.0</td>\n",
       "    </tr>\n",
       "    <tr>\n",
       "      <th>3</th>\n",
       "      <td>Reservoir</td>\n",
       "      <td>1/21 Dumbarton St</td>\n",
       "      <td>3</td>\n",
       "      <td>u</td>\n",
       "      <td>475000.0</td>\n",
       "      <td>S</td>\n",
       "      <td>2016-03-09</td>\n",
       "      <td>11.2</td>\n",
       "      <td>1.0</td>\n",
       "      <td>1.0</td>\n",
       "      <td>191.0</td>\n",
       "      <td>107.0</td>\n",
       "      <td>1990.0</td>\n",
       "    </tr>\n",
       "    <tr>\n",
       "      <th>4</th>\n",
       "      <td>Reservoir</td>\n",
       "      <td>39 Gertz Av</td>\n",
       "      <td>5</td>\n",
       "      <td>h</td>\n",
       "      <td>NaN</td>\n",
       "      <td>W</td>\n",
       "      <td>2016-03-09</td>\n",
       "      <td>11.2</td>\n",
       "      <td>NaN</td>\n",
       "      <td>NaN</td>\n",
       "      <td>NaN</td>\n",
       "      <td>NaN</td>\n",
       "      <td>NaN</td>\n",
       "    </tr>\n",
       "  </tbody>\n",
       "</table>\n",
       "</div>"
      ],
      "text/plain": [
       "       Suburb            Address  Rooms Type     Price Method        Date  \\\n",
       "0  Abbotsford      68 Studley St      2    h       NaN     SS  2016-03-09   \n",
       "1   Reservoir      36a Ashton St      3    u  666000.0      S  2016-03-09   \n",
       "2   Reservoir   3/39 Chaleyer St      2    u       NaN      S  2016-03-09   \n",
       "3   Reservoir  1/21 Dumbarton St      3    u  475000.0      S  2016-03-09   \n",
       "4   Reservoir        39 Gertz Av      5    h       NaN      W  2016-03-09   \n",
       "\n",
       "   Distance  Bathroom  Car  Landsize  BuildingArea  YearBuilt  \n",
       "0       2.5       1.0  1.0     126.0           NaN        NaN  \n",
       "1      11.2       NaN  NaN       NaN           NaN        NaN  \n",
       "2      11.2       1.0  1.0     147.0           NaN     1998.0  \n",
       "3      11.2       1.0  1.0     191.0         107.0     1990.0  \n",
       "4      11.2       NaN  NaN       NaN           NaN        NaN  "
      ]
     },
     "execution_count": 288,
     "metadata": {},
     "output_type": "execute_result"
    }
   ],
   "source": [
    "df_af2.head(5)"
   ]
  },
  {
   "cell_type": "code",
   "execution_count": 289,
   "metadata": {},
   "outputs": [
    {
     "data": {
      "text/html": [
       "<div>\n",
       "<style scoped>\n",
       "    .dataframe tbody tr th:only-of-type {\n",
       "        vertical-align: middle;\n",
       "    }\n",
       "\n",
       "    .dataframe tbody tr th {\n",
       "        vertical-align: top;\n",
       "    }\n",
       "\n",
       "    .dataframe thead th {\n",
       "        text-align: right;\n",
       "    }\n",
       "</style>\n",
       "<table border=\"1\" class=\"dataframe\">\n",
       "  <thead>\n",
       "    <tr style=\"text-align: right;\">\n",
       "      <th></th>\n",
       "      <th>Rooms</th>\n",
       "      <th>Price</th>\n",
       "      <th>Distance</th>\n",
       "      <th>Bathroom</th>\n",
       "      <th>Car</th>\n",
       "      <th>Landsize</th>\n",
       "      <th>BuildingArea</th>\n",
       "      <th>YearBuilt</th>\n",
       "    </tr>\n",
       "  </thead>\n",
       "  <tbody>\n",
       "    <tr>\n",
       "      <th>count</th>\n",
       "      <td>30624.00000</td>\n",
       "      <td>2.390600e+04</td>\n",
       "      <td>30624.000000</td>\n",
       "      <td>23319.000000</td>\n",
       "      <td>22855.000000</td>\n",
       "      <td>20370.000000</td>\n",
       "      <td>11987.000000</td>\n",
       "      <td>13648.000000</td>\n",
       "    </tr>\n",
       "    <tr>\n",
       "      <th>mean</th>\n",
       "      <td>2.99631</td>\n",
       "      <td>1.079449e+06</td>\n",
       "      <td>10.173664</td>\n",
       "      <td>1.611947</td>\n",
       "      <td>1.693765</td>\n",
       "      <td>543.136132</td>\n",
       "      <td>155.187417</td>\n",
       "      <td>1963.271395</td>\n",
       "    </tr>\n",
       "    <tr>\n",
       "      <th>std</th>\n",
       "      <td>0.97184</td>\n",
       "      <td>6.598827e+05</td>\n",
       "      <td>5.633624</td>\n",
       "      <td>0.729217</td>\n",
       "      <td>0.993936</td>\n",
       "      <td>3195.230774</td>\n",
       "      <td>134.403348</td>\n",
       "      <td>38.239260</td>\n",
       "    </tr>\n",
       "    <tr>\n",
       "      <th>min</th>\n",
       "      <td>1.00000</td>\n",
       "      <td>8.500000e+04</td>\n",
       "      <td>0.000000</td>\n",
       "      <td>0.000000</td>\n",
       "      <td>0.000000</td>\n",
       "      <td>0.000000</td>\n",
       "      <td>0.000000</td>\n",
       "      <td>1196.000000</td>\n",
       "    </tr>\n",
       "    <tr>\n",
       "      <th>25%</th>\n",
       "      <td>2.00000</td>\n",
       "      <td>6.480000e+05</td>\n",
       "      <td>6.200000</td>\n",
       "      <td>1.000000</td>\n",
       "      <td>1.000000</td>\n",
       "      <td>208.000000</td>\n",
       "      <td>100.000000</td>\n",
       "      <td>1938.000000</td>\n",
       "    </tr>\n",
       "    <tr>\n",
       "      <th>50%</th>\n",
       "      <td>3.00000</td>\n",
       "      <td>9.000000e+05</td>\n",
       "      <td>9.400000</td>\n",
       "      <td>1.000000</td>\n",
       "      <td>2.000000</td>\n",
       "      <td>482.000000</td>\n",
       "      <td>134.000000</td>\n",
       "      <td>1970.000000</td>\n",
       "    </tr>\n",
       "    <tr>\n",
       "      <th>75%</th>\n",
       "      <td>4.00000</td>\n",
       "      <td>1.326000e+06</td>\n",
       "      <td>13.100000</td>\n",
       "      <td>2.000000</td>\n",
       "      <td>2.000000</td>\n",
       "      <td>661.000000</td>\n",
       "      <td>185.000000</td>\n",
       "      <td>2000.000000</td>\n",
       "    </tr>\n",
       "    <tr>\n",
       "      <th>max</th>\n",
       "      <td>16.00000</td>\n",
       "      <td>1.120000e+07</td>\n",
       "      <td>38.000000</td>\n",
       "      <td>12.000000</td>\n",
       "      <td>26.000000</td>\n",
       "      <td>433014.000000</td>\n",
       "      <td>6791.000000</td>\n",
       "      <td>2106.000000</td>\n",
       "    </tr>\n",
       "  </tbody>\n",
       "</table>\n",
       "</div>"
      ],
      "text/plain": [
       "             Rooms         Price      Distance      Bathroom           Car  \\\n",
       "count  30624.00000  2.390600e+04  30624.000000  23319.000000  22855.000000   \n",
       "mean       2.99631  1.079449e+06     10.173664      1.611947      1.693765   \n",
       "std        0.97184  6.598827e+05      5.633624      0.729217      0.993936   \n",
       "min        1.00000  8.500000e+04      0.000000      0.000000      0.000000   \n",
       "25%        2.00000  6.480000e+05      6.200000      1.000000      1.000000   \n",
       "50%        3.00000  9.000000e+05      9.400000      1.000000      2.000000   \n",
       "75%        4.00000  1.326000e+06     13.100000      2.000000      2.000000   \n",
       "max       16.00000  1.120000e+07     38.000000     12.000000     26.000000   \n",
       "\n",
       "            Landsize  BuildingArea     YearBuilt  \n",
       "count   20370.000000  11987.000000  13648.000000  \n",
       "mean      543.136132    155.187417   1963.271395  \n",
       "std      3195.230774    134.403348     38.239260  \n",
       "min         0.000000      0.000000   1196.000000  \n",
       "25%       208.000000    100.000000   1938.000000  \n",
       "50%       482.000000    134.000000   1970.000000  \n",
       "75%       661.000000    185.000000   2000.000000  \n",
       "max    433014.000000   6791.000000   2106.000000  "
      ]
     },
     "execution_count": 289,
     "metadata": {},
     "output_type": "execute_result"
    }
   ],
   "source": [
    "df_af2.describe()"
   ]
  },
  {
   "cell_type": "markdown",
   "metadata": {},
   "source": [
    "## Outliners and NaN values\n",
    "#### We have 2 main problems:\n",
    "#####  1. Features: Rooms, Distance, Bathroom, Car, Landsize, BuildingArea và YearBuilt can have ouliners\n",
    "#####  2. Need to deal with 0 values in features: Distance, Landsize, BuildingArea "
   ]
  },
  {
   "cell_type": "code",
   "execution_count": 290,
   "metadata": {},
   "outputs": [],
   "source": [
    "for i in ['Distance','Landsize','BuildingArea']:\n",
    "    df_af2 = df_af2[df_af2[i] != 0]"
   ]
  },
  {
   "cell_type": "code",
   "execution_count": 291,
   "metadata": {},
   "outputs": [
    {
     "data": {
      "text/html": [
       "<div>\n",
       "<style scoped>\n",
       "    .dataframe tbody tr th:only-of-type {\n",
       "        vertical-align: middle;\n",
       "    }\n",
       "\n",
       "    .dataframe tbody tr th {\n",
       "        vertical-align: top;\n",
       "    }\n",
       "\n",
       "    .dataframe thead th {\n",
       "        text-align: right;\n",
       "    }\n",
       "</style>\n",
       "<table border=\"1\" class=\"dataframe\">\n",
       "  <thead>\n",
       "    <tr style=\"text-align: right;\">\n",
       "      <th></th>\n",
       "      <th>Rooms</th>\n",
       "      <th>Price</th>\n",
       "      <th>Distance</th>\n",
       "      <th>Bathroom</th>\n",
       "      <th>Car</th>\n",
       "      <th>Landsize</th>\n",
       "      <th>BuildingArea</th>\n",
       "      <th>YearBuilt</th>\n",
       "    </tr>\n",
       "  </thead>\n",
       "  <tbody>\n",
       "    <tr>\n",
       "      <th>count</th>\n",
       "      <td>28156.000000</td>\n",
       "      <td>2.194000e+04</td>\n",
       "      <td>28156.000000</td>\n",
       "      <td>20918.000000</td>\n",
       "      <td>20458.000000</td>\n",
       "      <td>17988.000000</td>\n",
       "      <td>10642.000000</td>\n",
       "      <td>12036.000000</td>\n",
       "    </tr>\n",
       "    <tr>\n",
       "      <th>mean</th>\n",
       "      <td>3.081581</td>\n",
       "      <td>1.116735e+06</td>\n",
       "      <td>10.516249</td>\n",
       "      <td>1.651831</td>\n",
       "      <td>1.757454</td>\n",
       "      <td>613.492050</td>\n",
       "      <td>164.617681</td>\n",
       "      <td>1961.295115</td>\n",
       "    </tr>\n",
       "    <tr>\n",
       "      <th>std</th>\n",
       "      <td>0.941507</td>\n",
       "      <td>6.656174e+05</td>\n",
       "      <td>5.642470</td>\n",
       "      <td>0.739455</td>\n",
       "      <td>1.012376</td>\n",
       "      <td>3393.642997</td>\n",
       "      <td>137.753801</td>\n",
       "      <td>38.945950</td>\n",
       "    </tr>\n",
       "    <tr>\n",
       "      <th>min</th>\n",
       "      <td>1.000000</td>\n",
       "      <td>1.120000e+05</td>\n",
       "      <td>0.700000</td>\n",
       "      <td>0.000000</td>\n",
       "      <td>0.000000</td>\n",
       "      <td>1.000000</td>\n",
       "      <td>0.010000</td>\n",
       "      <td>1196.000000</td>\n",
       "    </tr>\n",
       "    <tr>\n",
       "      <th>25%</th>\n",
       "      <td>2.000000</td>\n",
       "      <td>6.780000e+05</td>\n",
       "      <td>6.400000</td>\n",
       "      <td>1.000000</td>\n",
       "      <td>1.000000</td>\n",
       "      <td>291.000000</td>\n",
       "      <td>109.000000</td>\n",
       "      <td>1930.000000</td>\n",
       "    </tr>\n",
       "    <tr>\n",
       "      <th>50%</th>\n",
       "      <td>3.000000</td>\n",
       "      <td>9.320000e+05</td>\n",
       "      <td>10.100000</td>\n",
       "      <td>2.000000</td>\n",
       "      <td>2.000000</td>\n",
       "      <td>544.000000</td>\n",
       "      <td>141.000000</td>\n",
       "      <td>1965.000000</td>\n",
       "    </tr>\n",
       "    <tr>\n",
       "      <th>75%</th>\n",
       "      <td>4.000000</td>\n",
       "      <td>1.361500e+06</td>\n",
       "      <td>13.700000</td>\n",
       "      <td>2.000000</td>\n",
       "      <td>2.000000</td>\n",
       "      <td>682.000000</td>\n",
       "      <td>195.000000</td>\n",
       "      <td>1998.000000</td>\n",
       "    </tr>\n",
       "    <tr>\n",
       "      <th>max</th>\n",
       "      <td>16.000000</td>\n",
       "      <td>1.120000e+07</td>\n",
       "      <td>38.000000</td>\n",
       "      <td>12.000000</td>\n",
       "      <td>26.000000</td>\n",
       "      <td>433014.000000</td>\n",
       "      <td>6791.000000</td>\n",
       "      <td>2106.000000</td>\n",
       "    </tr>\n",
       "  </tbody>\n",
       "</table>\n",
       "</div>"
      ],
      "text/plain": [
       "              Rooms         Price      Distance      Bathroom           Car  \\\n",
       "count  28156.000000  2.194000e+04  28156.000000  20918.000000  20458.000000   \n",
       "mean       3.081581  1.116735e+06     10.516249      1.651831      1.757454   \n",
       "std        0.941507  6.656174e+05      5.642470      0.739455      1.012376   \n",
       "min        1.000000  1.120000e+05      0.700000      0.000000      0.000000   \n",
       "25%        2.000000  6.780000e+05      6.400000      1.000000      1.000000   \n",
       "50%        3.000000  9.320000e+05     10.100000      2.000000      2.000000   \n",
       "75%        4.000000  1.361500e+06     13.700000      2.000000      2.000000   \n",
       "max       16.000000  1.120000e+07     38.000000     12.000000     26.000000   \n",
       "\n",
       "            Landsize  BuildingArea     YearBuilt  \n",
       "count   17988.000000  10642.000000  12036.000000  \n",
       "mean      613.492050    164.617681   1961.295115  \n",
       "std      3393.642997    137.753801     38.945950  \n",
       "min         1.000000      0.010000   1196.000000  \n",
       "25%       291.000000    109.000000   1930.000000  \n",
       "50%       544.000000    141.000000   1965.000000  \n",
       "75%       682.000000    195.000000   1998.000000  \n",
       "max    433014.000000   6791.000000   2106.000000  "
      ]
     },
     "execution_count": 291,
     "metadata": {},
     "output_type": "execute_result"
    }
   ],
   "source": [
    "df_af2.describe()\n"
   ]
  },
  {
   "cell_type": "code",
   "execution_count": 292,
   "metadata": {},
   "outputs": [
    {
     "name": "stdout",
     "output_type": "stream",
     "text": [
      "<class 'pandas.core.frame.DataFrame'>\n",
      "Int64Index: 28156 entries, 0 to 30623\n",
      "Data columns (total 13 columns):\n",
      " #   Column        Non-Null Count  Dtype  \n",
      "---  ------        --------------  -----  \n",
      " 0   Suburb        28156 non-null  object \n",
      " 1   Address       28156 non-null  object \n",
      " 2   Rooms         28156 non-null  int64  \n",
      " 3   Type          28156 non-null  object \n",
      " 4   Price         21940 non-null  float64\n",
      " 5   Method        28156 non-null  object \n",
      " 6   Date          28156 non-null  object \n",
      " 7   Distance      28156 non-null  float64\n",
      " 8   Bathroom      20918 non-null  float64\n",
      " 9   Car           20458 non-null  float64\n",
      " 10  Landsize      17988 non-null  float64\n",
      " 11  BuildingArea  10642 non-null  float64\n",
      " 12  YearBuilt     12036 non-null  float64\n",
      "dtypes: float64(7), int64(1), object(5)\n",
      "memory usage: 3.0+ MB\n"
     ]
    }
   ],
   "source": [
    "df_af2.info()"
   ]
  },
  {
   "cell_type": "markdown",
   "metadata": {},
   "source": [
    "## Replace NaN values by quantile 0.5\n",
    "#### Because NaN values are quite much, remove them may not be a good choice, we could replace these with a quantile 0.5 instead\n"
   ]
  },
  {
   "cell_type": "code",
   "execution_count": 293,
   "metadata": {},
   "outputs": [
    {
     "data": {
      "text/html": [
       "<div>\n",
       "<style scoped>\n",
       "    .dataframe tbody tr th:only-of-type {\n",
       "        vertical-align: middle;\n",
       "    }\n",
       "\n",
       "    .dataframe tbody tr th {\n",
       "        vertical-align: top;\n",
       "    }\n",
       "\n",
       "    .dataframe thead th {\n",
       "        text-align: right;\n",
       "    }\n",
       "</style>\n",
       "<table border=\"1\" class=\"dataframe\">\n",
       "  <thead>\n",
       "    <tr style=\"text-align: right;\">\n",
       "      <th></th>\n",
       "      <th>Suburb</th>\n",
       "      <th>Address</th>\n",
       "      <th>Rooms</th>\n",
       "      <th>Type</th>\n",
       "      <th>Price</th>\n",
       "      <th>Method</th>\n",
       "      <th>Date</th>\n",
       "      <th>Distance</th>\n",
       "      <th>Bathroom</th>\n",
       "      <th>Car</th>\n",
       "      <th>Landsize</th>\n",
       "      <th>BuildingArea</th>\n",
       "      <th>YearBuilt</th>\n",
       "    </tr>\n",
       "  </thead>\n",
       "  <tbody>\n",
       "    <tr>\n",
       "      <th>0</th>\n",
       "      <td>Abbotsford</td>\n",
       "      <td>68 Studley St</td>\n",
       "      <td>2</td>\n",
       "      <td>h</td>\n",
       "      <td>NaN</td>\n",
       "      <td>SS</td>\n",
       "      <td>2016-03-09</td>\n",
       "      <td>2.5</td>\n",
       "      <td>1.0</td>\n",
       "      <td>1.0</td>\n",
       "      <td>126.0</td>\n",
       "      <td>NaN</td>\n",
       "      <td>NaN</td>\n",
       "    </tr>\n",
       "    <tr>\n",
       "      <th>1</th>\n",
       "      <td>Reservoir</td>\n",
       "      <td>36a Ashton St</td>\n",
       "      <td>3</td>\n",
       "      <td>u</td>\n",
       "      <td>666000.0</td>\n",
       "      <td>S</td>\n",
       "      <td>2016-03-09</td>\n",
       "      <td>11.2</td>\n",
       "      <td>NaN</td>\n",
       "      <td>NaN</td>\n",
       "      <td>NaN</td>\n",
       "      <td>NaN</td>\n",
       "      <td>NaN</td>\n",
       "    </tr>\n",
       "    <tr>\n",
       "      <th>2</th>\n",
       "      <td>Reservoir</td>\n",
       "      <td>3/39 Chaleyer St</td>\n",
       "      <td>2</td>\n",
       "      <td>u</td>\n",
       "      <td>NaN</td>\n",
       "      <td>S</td>\n",
       "      <td>2016-03-09</td>\n",
       "      <td>11.2</td>\n",
       "      <td>1.0</td>\n",
       "      <td>1.0</td>\n",
       "      <td>147.0</td>\n",
       "      <td>NaN</td>\n",
       "      <td>1998.0</td>\n",
       "    </tr>\n",
       "    <tr>\n",
       "      <th>3</th>\n",
       "      <td>Reservoir</td>\n",
       "      <td>1/21 Dumbarton St</td>\n",
       "      <td>3</td>\n",
       "      <td>u</td>\n",
       "      <td>475000.0</td>\n",
       "      <td>S</td>\n",
       "      <td>2016-03-09</td>\n",
       "      <td>11.2</td>\n",
       "      <td>1.0</td>\n",
       "      <td>1.0</td>\n",
       "      <td>191.0</td>\n",
       "      <td>107.0</td>\n",
       "      <td>1990.0</td>\n",
       "    </tr>\n",
       "    <tr>\n",
       "      <th>4</th>\n",
       "      <td>Reservoir</td>\n",
       "      <td>39 Gertz Av</td>\n",
       "      <td>5</td>\n",
       "      <td>h</td>\n",
       "      <td>NaN</td>\n",
       "      <td>W</td>\n",
       "      <td>2016-03-09</td>\n",
       "      <td>11.2</td>\n",
       "      <td>NaN</td>\n",
       "      <td>NaN</td>\n",
       "      <td>NaN</td>\n",
       "      <td>NaN</td>\n",
       "      <td>NaN</td>\n",
       "    </tr>\n",
       "  </tbody>\n",
       "</table>\n",
       "</div>"
      ],
      "text/plain": [
       "       Suburb            Address  Rooms Type     Price Method        Date  \\\n",
       "0  Abbotsford      68 Studley St      2    h       NaN     SS  2016-03-09   \n",
       "1   Reservoir      36a Ashton St      3    u  666000.0      S  2016-03-09   \n",
       "2   Reservoir   3/39 Chaleyer St      2    u       NaN      S  2016-03-09   \n",
       "3   Reservoir  1/21 Dumbarton St      3    u  475000.0      S  2016-03-09   \n",
       "4   Reservoir        39 Gertz Av      5    h       NaN      W  2016-03-09   \n",
       "\n",
       "   Distance  Bathroom  Car  Landsize  BuildingArea  YearBuilt  \n",
       "0       2.5       1.0  1.0     126.0           NaN        NaN  \n",
       "1      11.2       NaN  NaN       NaN           NaN        NaN  \n",
       "2      11.2       1.0  1.0     147.0           NaN     1998.0  \n",
       "3      11.2       1.0  1.0     191.0         107.0     1990.0  \n",
       "4      11.2       NaN  NaN       NaN           NaN        NaN  "
      ]
     },
     "execution_count": 293,
     "metadata": {},
     "output_type": "execute_result"
    }
   ],
   "source": [
    "df_af2.head(5)"
   ]
  },
  {
   "cell_type": "code",
   "execution_count": 294,
   "metadata": {},
   "outputs": [],
   "source": [
    "df_af3 = df_af2.copy()"
   ]
  },
  {
   "cell_type": "code",
   "execution_count": 295,
   "metadata": {},
   "outputs": [
    {
     "data": {
      "text/html": [
       "<div>\n",
       "<style scoped>\n",
       "    .dataframe tbody tr th:only-of-type {\n",
       "        vertical-align: middle;\n",
       "    }\n",
       "\n",
       "    .dataframe tbody tr th {\n",
       "        vertical-align: top;\n",
       "    }\n",
       "\n",
       "    .dataframe thead th {\n",
       "        text-align: right;\n",
       "    }\n",
       "</style>\n",
       "<table border=\"1\" class=\"dataframe\">\n",
       "  <thead>\n",
       "    <tr style=\"text-align: right;\">\n",
       "      <th></th>\n",
       "      <th>Suburb</th>\n",
       "      <th>Address</th>\n",
       "      <th>Rooms</th>\n",
       "      <th>Type</th>\n",
       "      <th>Price</th>\n",
       "      <th>Method</th>\n",
       "      <th>Date</th>\n",
       "      <th>Distance</th>\n",
       "      <th>Bathroom</th>\n",
       "      <th>Car</th>\n",
       "      <th>Landsize</th>\n",
       "      <th>BuildingArea</th>\n",
       "      <th>YearBuilt</th>\n",
       "    </tr>\n",
       "  </thead>\n",
       "  <tbody>\n",
       "    <tr>\n",
       "      <th>0</th>\n",
       "      <td>Abbotsford</td>\n",
       "      <td>68 Studley St</td>\n",
       "      <td>2</td>\n",
       "      <td>h</td>\n",
       "      <td>NaN</td>\n",
       "      <td>SS</td>\n",
       "      <td>2016-03-09</td>\n",
       "      <td>2.5</td>\n",
       "      <td>1.0</td>\n",
       "      <td>1.0</td>\n",
       "      <td>126.0</td>\n",
       "      <td>NaN</td>\n",
       "      <td>NaN</td>\n",
       "    </tr>\n",
       "    <tr>\n",
       "      <th>1</th>\n",
       "      <td>Reservoir</td>\n",
       "      <td>36a Ashton St</td>\n",
       "      <td>3</td>\n",
       "      <td>u</td>\n",
       "      <td>666000.0</td>\n",
       "      <td>S</td>\n",
       "      <td>2016-03-09</td>\n",
       "      <td>11.2</td>\n",
       "      <td>NaN</td>\n",
       "      <td>NaN</td>\n",
       "      <td>NaN</td>\n",
       "      <td>NaN</td>\n",
       "      <td>NaN</td>\n",
       "    </tr>\n",
       "    <tr>\n",
       "      <th>2</th>\n",
       "      <td>Reservoir</td>\n",
       "      <td>3/39 Chaleyer St</td>\n",
       "      <td>2</td>\n",
       "      <td>u</td>\n",
       "      <td>NaN</td>\n",
       "      <td>S</td>\n",
       "      <td>2016-03-09</td>\n",
       "      <td>11.2</td>\n",
       "      <td>1.0</td>\n",
       "      <td>1.0</td>\n",
       "      <td>147.0</td>\n",
       "      <td>NaN</td>\n",
       "      <td>1998.0</td>\n",
       "    </tr>\n",
       "    <tr>\n",
       "      <th>3</th>\n",
       "      <td>Reservoir</td>\n",
       "      <td>1/21 Dumbarton St</td>\n",
       "      <td>3</td>\n",
       "      <td>u</td>\n",
       "      <td>475000.0</td>\n",
       "      <td>S</td>\n",
       "      <td>2016-03-09</td>\n",
       "      <td>11.2</td>\n",
       "      <td>1.0</td>\n",
       "      <td>1.0</td>\n",
       "      <td>191.0</td>\n",
       "      <td>107.0</td>\n",
       "      <td>1990.0</td>\n",
       "    </tr>\n",
       "    <tr>\n",
       "      <th>4</th>\n",
       "      <td>Reservoir</td>\n",
       "      <td>39 Gertz Av</td>\n",
       "      <td>5</td>\n",
       "      <td>h</td>\n",
       "      <td>NaN</td>\n",
       "      <td>W</td>\n",
       "      <td>2016-03-09</td>\n",
       "      <td>11.2</td>\n",
       "      <td>NaN</td>\n",
       "      <td>NaN</td>\n",
       "      <td>NaN</td>\n",
       "      <td>NaN</td>\n",
       "      <td>NaN</td>\n",
       "    </tr>\n",
       "  </tbody>\n",
       "</table>\n",
       "</div>"
      ],
      "text/plain": [
       "       Suburb            Address  Rooms Type     Price Method        Date  \\\n",
       "0  Abbotsford      68 Studley St      2    h       NaN     SS  2016-03-09   \n",
       "1   Reservoir      36a Ashton St      3    u  666000.0      S  2016-03-09   \n",
       "2   Reservoir   3/39 Chaleyer St      2    u       NaN      S  2016-03-09   \n",
       "3   Reservoir  1/21 Dumbarton St      3    u  475000.0      S  2016-03-09   \n",
       "4   Reservoir        39 Gertz Av      5    h       NaN      W  2016-03-09   \n",
       "\n",
       "   Distance  Bathroom  Car  Landsize  BuildingArea  YearBuilt  \n",
       "0       2.5       1.0  1.0     126.0           NaN        NaN  \n",
       "1      11.2       NaN  NaN       NaN           NaN        NaN  \n",
       "2      11.2       1.0  1.0     147.0           NaN     1998.0  \n",
       "3      11.2       1.0  1.0     191.0         107.0     1990.0  \n",
       "4      11.2       NaN  NaN       NaN           NaN        NaN  "
      ]
     },
     "execution_count": 295,
     "metadata": {},
     "output_type": "execute_result"
    }
   ],
   "source": [
    "df_af3.head(5)"
   ]
  },
  {
   "cell_type": "code",
   "execution_count": 296,
   "metadata": {},
   "outputs": [],
   "source": [
    "for i in ['Price', 'Bathroom', 'Car', 'Landsize', 'BuildingArea', 'YearBuilt']:\n",
    "    df_af3[i].replace([np.nan], df_af2[i].quantile(0.5) , inplace=True)"
   ]
  },
  {
   "cell_type": "code",
   "execution_count": 297,
   "metadata": {},
   "outputs": [
    {
     "data": {
      "text/html": [
       "<div>\n",
       "<style scoped>\n",
       "    .dataframe tbody tr th:only-of-type {\n",
       "        vertical-align: middle;\n",
       "    }\n",
       "\n",
       "    .dataframe tbody tr th {\n",
       "        vertical-align: top;\n",
       "    }\n",
       "\n",
       "    .dataframe thead th {\n",
       "        text-align: right;\n",
       "    }\n",
       "</style>\n",
       "<table border=\"1\" class=\"dataframe\">\n",
       "  <thead>\n",
       "    <tr style=\"text-align: right;\">\n",
       "      <th></th>\n",
       "      <th>Suburb</th>\n",
       "      <th>Address</th>\n",
       "      <th>Rooms</th>\n",
       "      <th>Type</th>\n",
       "      <th>Price</th>\n",
       "      <th>Method</th>\n",
       "      <th>Date</th>\n",
       "      <th>Distance</th>\n",
       "      <th>Bathroom</th>\n",
       "      <th>Car</th>\n",
       "      <th>Landsize</th>\n",
       "      <th>BuildingArea</th>\n",
       "      <th>YearBuilt</th>\n",
       "    </tr>\n",
       "  </thead>\n",
       "  <tbody>\n",
       "    <tr>\n",
       "      <th>0</th>\n",
       "      <td>Abbotsford</td>\n",
       "      <td>68 Studley St</td>\n",
       "      <td>2</td>\n",
       "      <td>h</td>\n",
       "      <td>932000.0</td>\n",
       "      <td>SS</td>\n",
       "      <td>2016-03-09</td>\n",
       "      <td>2.5</td>\n",
       "      <td>1.0</td>\n",
       "      <td>1.0</td>\n",
       "      <td>126.0</td>\n",
       "      <td>141.0</td>\n",
       "      <td>1965.0</td>\n",
       "    </tr>\n",
       "    <tr>\n",
       "      <th>1</th>\n",
       "      <td>Reservoir</td>\n",
       "      <td>36a Ashton St</td>\n",
       "      <td>3</td>\n",
       "      <td>u</td>\n",
       "      <td>666000.0</td>\n",
       "      <td>S</td>\n",
       "      <td>2016-03-09</td>\n",
       "      <td>11.2</td>\n",
       "      <td>2.0</td>\n",
       "      <td>2.0</td>\n",
       "      <td>544.0</td>\n",
       "      <td>141.0</td>\n",
       "      <td>1965.0</td>\n",
       "    </tr>\n",
       "    <tr>\n",
       "      <th>2</th>\n",
       "      <td>Reservoir</td>\n",
       "      <td>3/39 Chaleyer St</td>\n",
       "      <td>2</td>\n",
       "      <td>u</td>\n",
       "      <td>932000.0</td>\n",
       "      <td>S</td>\n",
       "      <td>2016-03-09</td>\n",
       "      <td>11.2</td>\n",
       "      <td>1.0</td>\n",
       "      <td>1.0</td>\n",
       "      <td>147.0</td>\n",
       "      <td>141.0</td>\n",
       "      <td>1998.0</td>\n",
       "    </tr>\n",
       "    <tr>\n",
       "      <th>3</th>\n",
       "      <td>Reservoir</td>\n",
       "      <td>1/21 Dumbarton St</td>\n",
       "      <td>3</td>\n",
       "      <td>u</td>\n",
       "      <td>475000.0</td>\n",
       "      <td>S</td>\n",
       "      <td>2016-03-09</td>\n",
       "      <td>11.2</td>\n",
       "      <td>1.0</td>\n",
       "      <td>1.0</td>\n",
       "      <td>191.0</td>\n",
       "      <td>107.0</td>\n",
       "      <td>1990.0</td>\n",
       "    </tr>\n",
       "    <tr>\n",
       "      <th>4</th>\n",
       "      <td>Reservoir</td>\n",
       "      <td>39 Gertz Av</td>\n",
       "      <td>5</td>\n",
       "      <td>h</td>\n",
       "      <td>932000.0</td>\n",
       "      <td>W</td>\n",
       "      <td>2016-03-09</td>\n",
       "      <td>11.2</td>\n",
       "      <td>2.0</td>\n",
       "      <td>2.0</td>\n",
       "      <td>544.0</td>\n",
       "      <td>141.0</td>\n",
       "      <td>1965.0</td>\n",
       "    </tr>\n",
       "  </tbody>\n",
       "</table>\n",
       "</div>"
      ],
      "text/plain": [
       "       Suburb            Address  Rooms Type     Price Method        Date  \\\n",
       "0  Abbotsford      68 Studley St      2    h  932000.0     SS  2016-03-09   \n",
       "1   Reservoir      36a Ashton St      3    u  666000.0      S  2016-03-09   \n",
       "2   Reservoir   3/39 Chaleyer St      2    u  932000.0      S  2016-03-09   \n",
       "3   Reservoir  1/21 Dumbarton St      3    u  475000.0      S  2016-03-09   \n",
       "4   Reservoir        39 Gertz Av      5    h  932000.0      W  2016-03-09   \n",
       "\n",
       "   Distance  Bathroom  Car  Landsize  BuildingArea  YearBuilt  \n",
       "0       2.5       1.0  1.0     126.0         141.0     1965.0  \n",
       "1      11.2       2.0  2.0     544.0         141.0     1965.0  \n",
       "2      11.2       1.0  1.0     147.0         141.0     1998.0  \n",
       "3      11.2       1.0  1.0     191.0         107.0     1990.0  \n",
       "4      11.2       2.0  2.0     544.0         141.0     1965.0  "
      ]
     },
     "execution_count": 297,
     "metadata": {},
     "output_type": "execute_result"
    }
   ],
   "source": [
    "df_af3.head(5)"
   ]
  },
  {
   "cell_type": "code",
   "execution_count": 298,
   "metadata": {},
   "outputs": [
    {
     "name": "stdout",
     "output_type": "stream",
     "text": [
      "<class 'pandas.core.frame.DataFrame'>\n",
      "Int64Index: 28156 entries, 0 to 30623\n",
      "Data columns (total 13 columns):\n",
      " #   Column        Non-Null Count  Dtype  \n",
      "---  ------        --------------  -----  \n",
      " 0   Suburb        28156 non-null  object \n",
      " 1   Address       28156 non-null  object \n",
      " 2   Rooms         28156 non-null  int64  \n",
      " 3   Type          28156 non-null  object \n",
      " 4   Price         28156 non-null  float64\n",
      " 5   Method        28156 non-null  object \n",
      " 6   Date          28156 non-null  object \n",
      " 7   Distance      28156 non-null  float64\n",
      " 8   Bathroom      28156 non-null  float64\n",
      " 9   Car           28156 non-null  float64\n",
      " 10  Landsize      28156 non-null  float64\n",
      " 11  BuildingArea  28156 non-null  float64\n",
      " 12  YearBuilt     28156 non-null  float64\n",
      "dtypes: float64(7), int64(1), object(5)\n",
      "memory usage: 3.0+ MB\n"
     ]
    }
   ],
   "source": [
    "df_af3.info()"
   ]
  },
  {
   "cell_type": "markdown",
   "metadata": {},
   "source": [
    "## Finding Outliner:"
   ]
  },
  {
   "cell_type": "code",
   "execution_count": 299,
   "metadata": {},
   "outputs": [],
   "source": [
    "def Zscore_outlier(df):\n",
    "    out = []\n",
    "    mean = np.mean(df)\n",
    "    std = np.std(df)\n",
    "    for i in df: \n",
    "        z = (i - mean) / std\n",
    "        if np.abs(z) > 3: \n",
    "            out.append(i)\n",
    "    return out\n",
    "    #print(\"Outliers:\",out)"
   ]
  },
  {
   "cell_type": "markdown",
   "metadata": {},
   "source": [
    "##### Car"
   ]
  },
  {
   "cell_type": "code",
   "execution_count": 300,
   "metadata": {},
   "outputs": [],
   "source": [
    "outliner_car = Zscore_outlier(df_af3['Car'])"
   ]
  },
  {
   "cell_type": "code",
   "execution_count": 301,
   "metadata": {},
   "outputs": [
    {
     "name": "stdout",
     "output_type": "stream",
     "text": [
      "5.0\n"
     ]
    },
    {
     "data": {
      "image/png": "[encoded data removed]",
      "text/plain": [
       "<Figure size 432x288 with 1 Axes>"
      ]
     },
     "metadata": {},
     "output_type": "display_data"
    }
   ],
   "source": [
    "#print(outliner_car)\n",
    "print(min(outliner_car))\n",
    "plt.hist(outliner_car,50)\n",
    "plt.show()"
   ]
  },
  {
   "cell_type": "markdown",
   "metadata": {},
   "source": [
    "#### Rooms"
   ]
  },
  {
   "cell_type": "code",
   "execution_count": 302,
   "metadata": {},
   "outputs": [],
   "source": [
    "outliner_rooms = Zscore_outlier(df_af3['Rooms'])"
   ]
  },
  {
   "cell_type": "code",
   "execution_count": 303,
   "metadata": {},
   "outputs": [
    {
     "name": "stdout",
     "output_type": "stream",
     "text": [
      "6\n"
     ]
    },
    {
     "data": {
      "image/png": "[encoded data removed]",
      "text/plain": [
       "<Figure size 432x288 with 1 Axes>"
      ]
     },
     "metadata": {},
     "output_type": "display_data"
    }
   ],
   "source": [
    "#print(outliner_rooms)\n",
    "print(min(outliner_rooms))\n",
    "plt.hist(outliner_rooms,50)\n",
    "plt.show()"
   ]
  },
  {
   "cell_type": "markdown",
   "metadata": {},
   "source": [
    "#### Price"
   ]
  },
  {
   "cell_type": "code",
   "execution_count": 304,
   "metadata": {},
   "outputs": [],
   "source": [
    "outliner_price = Zscore_outlier(df_af3['Price'])"
   ]
  },
  {
   "cell_type": "code",
   "execution_count": 305,
   "metadata": {},
   "outputs": [
    {
     "name": "stdout",
     "output_type": "stream",
     "text": [
      "2855000.0\n"
     ]
    },
    {
     "data": {
      "image/png": "[encoded data removed]",
      "text/plain": [
       "<Figure size 432x288 with 1 Axes>"
      ]
     },
     "metadata": {},
     "output_type": "display_data"
    }
   ],
   "source": [
    "# print(outliner_price)\n",
    "print(min(outliner_price))\n",
    "plt.hist(outliner_price,50)\n",
    "plt.show()"
   ]
  },
  {
   "cell_type": "markdown",
   "metadata": {},
   "source": [
    "#### Distance"
   ]
  },
  {
   "cell_type": "code",
   "execution_count": 306,
   "metadata": {},
   "outputs": [],
   "source": [
    "outliner_distance = Zscore_outlier(df_af3['Distance'])"
   ]
  },
  {
   "cell_type": "code",
   "execution_count": 307,
   "metadata": {},
   "outputs": [
    {
     "name": "stdout",
     "output_type": "stream",
     "text": [
      "29.8\n"
     ]
    },
    {
     "data": {
      "image/png": "[encoded data removed]",
      "text/plain": [
       "<Figure size 432x288 with 1 Axes>"
      ]
     },
     "metadata": {},
     "output_type": "display_data"
    }
   ],
   "source": [
    "#print(outliner_distance)\n",
    "print(min(outliner_distance))\n",
    "plt.hist(outliner_distance,50)\n",
    "plt.show()"
   ]
  },
  {
   "cell_type": "markdown",
   "metadata": {},
   "source": [
    "#### Bathroom"
   ]
  },
  {
   "cell_type": "code",
   "execution_count": 308,
   "metadata": {},
   "outputs": [],
   "source": [
    "outliner_Bathroom = Zscore_outlier(df_af3['Bathroom'])"
   ]
  },
  {
   "cell_type": "code",
   "execution_count": 309,
   "metadata": {},
   "outputs": [
    {
     "name": "stdout",
     "output_type": "stream",
     "text": [
      "4.0\n"
     ]
    },
    {
     "data": {
      "image/png": "[encoded data removed]",
      "text/plain": [
       "<Figure size 432x288 with 1 Axes>"
      ]
     },
     "metadata": {},
     "output_type": "display_data"
    }
   ],
   "source": [
    "#print(outliner_distance)\n",
    "print(min(outliner_Bathroom))\n",
    "plt.hist(outliner_Bathroom,50)\n",
    "plt.show()"
   ]
  },
  {
   "cell_type": "markdown",
   "metadata": {},
   "source": [
    "#### Landsize"
   ]
  },
  {
   "cell_type": "code",
   "execution_count": 310,
   "metadata": {},
   "outputs": [],
   "source": [
    "outliner_Landsize = Zscore_outlier(df_af3['Landsize'])"
   ]
  },
  {
   "cell_type": "code",
   "execution_count": 311,
   "metadata": {},
   "outputs": [
    {
     "name": "stdout",
     "output_type": "stream",
     "text": [
      "[41400.0, 14196.0, 14294.0, 14500.0, 17200.0, 17200.0, 14500.0, 17200.0, 17200.0, 17200.0, 17200.0, 9900.0, 75100.0, 21700.0, 14545.0, 21715.0, 15946.0, 9071.0, 9838.0, 37000.0, 37000.0, 9198.0, 9338.0, 9338.0, 15100.0, 433014.0, 12300.0, 15900.0, 15900.0, 15600.0, 9405.0, 13733.0, 10036.0, 8888.0, 8888.0]\n",
      "8888.0\n"
     ]
    },
    {
     "data": {
      "image/png": "[encoded data removed]",
      "text/plain": [
       "<Figure size 432x288 with 1 Axes>"
      ]
     },
     "metadata": {},
     "output_type": "display_data"
    }
   ],
   "source": [
    "print(outliner_Landsize)\n",
    "print(min(outliner_Landsize))\n",
    "plt.hist(outliner_Landsize,100)\n",
    "plt.show()"
   ]
  },
  {
   "cell_type": "markdown",
   "metadata": {},
   "source": [
    "#### BuildingArea"
   ]
  },
  {
   "cell_type": "code",
   "execution_count": 312,
   "metadata": {},
   "outputs": [],
   "source": [
    "outliner_BuildingArea = Zscore_outlier(df_af3['BuildingArea'])"
   ]
  },
  {
   "cell_type": "code",
   "execution_count": 313,
   "metadata": {},
   "outputs": [
    {
     "name": "stdout",
     "output_type": "stream",
     "text": [
      "407.0\n"
     ]
    },
    {
     "data": {
      "image/png": "[encoded data removed]",
      "text/plain": [
       "<Figure size 432x288 with 1 Axes>"
      ]
     },
     "metadata": {},
     "output_type": "display_data"
    }
   ],
   "source": [
    "#print(outliner_distance)\n",
    "print(min(outliner_BuildingArea))\n",
    "plt.hist(outliner_BuildingArea,50)\n",
    "plt.show()"
   ]
  },
  {
   "cell_type": "markdown",
   "metadata": {},
   "source": [
    "#### YearBuilt"
   ]
  },
  {
   "cell_type": "code",
   "execution_count": 314,
   "metadata": {},
   "outputs": [],
   "source": [
    "outliner_YearBuilt = Zscore_outlier(df_af3['YearBuilt'])"
   ]
  },
  {
   "cell_type": "code",
   "execution_count": 315,
   "metadata": {},
   "outputs": [
    {
     "name": "stdout",
     "output_type": "stream",
     "text": [
      "[1850.0, 1860.0, 1880.0, 1880.0, 1875.0, 1885.0, 1880.0, 1880.0, 1872.0, 1880.0, 1880.0, 1880.0, 1880.0, 1880.0, 1860.0, 1880.0, 1880.0, 1880.0, 1880.0, 1880.0, 1880.0, 1880.0, 1880.0, 1880.0, 1880.0, 1885.0, 1880.0, 1880.0, 1880.0, 1880.0, 1880.0, 1880.0, 1880.0, 1885.0, 1880.0, 1863.0, 1880.0, 1870.0, 1880.0, 1880.0, 1880.0, 1885.0, 1880.0, 1880.0, 1886.0, 1880.0, 1880.0, 1880.0, 1886.0, 1857.0, 1880.0, 1868.0, 1884.0, 1880.0, 1880.0, 1863.0, 1880.0, 1880.0, 1860.0, 1880.0, 1880.0, 1880.0, 1880.0, 1886.0, 1880.0, 1880.0, 1880.0, 1880.0, 1880.0, 1880.0, 1880.0, 1885.0, 1880.0, 1880.0, 1880.0, 1880.0, 1880.0, 1886.0, 1880.0, 1880.0, 1880.0, 1880.0, 1880.0, 1877.0, 1880.0, 1880.0, 1880.0, 1880.0, 1880.0, 1880.0, 1886.0, 1196.0, 1880.0, 1880.0, 1880.0, 1880.0, 1880.0, 1860.0, 1880.0, 1860.0, 1886.0, 1880.0, 1880.0, 1880.0, 1880.0, 1856.0, 1860.0, 1880.0, 1863.0, 1800.0, 1880.0, 1880.0, 1860.0, 1857.0, 1880.0, 1880.0, 1880.0, 1870.0, 1880.0, 1880.0, 1877.0, 1880.0, 1880.0, 1880.0, 1880.0, 1880.0, 1885.0, 1880.0, 1880.0, 1880.0, 1880.0, 1880.0, 1880.0, 1880.0, 1880.0, 1880.0, 1880.0, 1880.0, 2106.0, 1880.0, 1881.0, 1880.0, 1880.0, 1880.0, 1880.0, 1855.0, 1854.0, 1880.0, 1880.0, 1850.0, 1880.0, 1860.0, 1854.0, 1880.0, 1862.0, 1885.0, 1881.0, 1880.0, 1880.0, 1880.0, 1880.0, 1880.0, 1875.0, 1880.0, 1860.0, 1880.0, 1880.0, 1880.0, 1880.0, 1880.0, 1885.0, 1880.0, 1880.0, 1880.0, 1880.0, 1880.0, 1880.0, 1880.0, 1885.0, 1880.0, 1880.0, 1880.0, 1830.0, 1880.0, 1880.0, 1880.0, 1880.0, 1880.0, 1885.0, 1880.0, 1880.0, 1885.0, 1880.0, 1880.0, 1880.0, 1883.0, 1880.0, 1820.0, 1880.0, 1880.0, 1880.0, 1880.0, 1880.0, 1880.0, 1870.0, 1880.0, 1880.0, 1880.0, 1880.0, 1880.0, 1880.0, 1880.0, 1885.0, 1880.0, 1880.0, 1869.0, 1880.0, 1872.0, 1880.0, 1870.0, 1880.0, 1880.0, 1880.0]\n",
      "2106.0\n"
     ]
    },
    {
     "data": {
      "image/png": "[encoded data removed]",
      "text/plain": [
       "<Figure size 432x288 with 1 Axes>"
      ]
     },
     "metadata": {},
     "output_type": "display_data"
    }
   ],
   "source": [
    "print(outliner_YearBuilt)\n",
    "print(max(outliner_YearBuilt))\n",
    "plt.hist(outliner_YearBuilt,100)\n",
    "plt.show()"
   ]
  },
  {
   "cell_type": "markdown",
   "metadata": {},
   "source": [
    "##### 2106 is a above outliner, find ouliner below:"
   ]
  },
  {
   "cell_type": "code",
   "execution_count": 316,
   "metadata": {},
   "outputs": [
    {
     "name": "stdout",
     "output_type": "stream",
     "text": [
      "1886.0\n"
     ]
    }
   ],
   "source": [
    "outliner_YearBuilt = list(filter(lambda x : x != 2106, outliner_YearBuilt))\n",
    "print(max(outliner_YearBuilt))"
   ]
  },
  {
   "cell_type": "code",
   "execution_count": 317,
   "metadata": {},
   "outputs": [
    {
     "name": "stdout",
     "output_type": "stream",
     "text": [
      "[1850.0, 1860.0, 1880.0, 1880.0, 1875.0, 1885.0, 1880.0, 1880.0, 1872.0, 1880.0, 1880.0, 1880.0, 1880.0, 1880.0, 1860.0, 1880.0, 1880.0, 1880.0, 1880.0, 1880.0, 1880.0, 1880.0, 1880.0, 1880.0, 1880.0, 1885.0, 1880.0, 1880.0, 1880.0, 1880.0, 1880.0, 1880.0, 1880.0, 1885.0, 1880.0, 1863.0, 1880.0, 1870.0, 1880.0, 1880.0, 1880.0, 1885.0, 1880.0, 1880.0, 1886.0, 1880.0, 1880.0, 1880.0, 1886.0, 1857.0, 1880.0, 1868.0, 1884.0, 1880.0, 1880.0, 1863.0, 1880.0, 1880.0, 1860.0, 1880.0, 1880.0, 1880.0, 1880.0, 1886.0, 1880.0, 1880.0, 1880.0, 1880.0, 1880.0, 1880.0, 1880.0, 1885.0, 1880.0, 1880.0, 1880.0, 1880.0, 1880.0, 1886.0, 1880.0, 1880.0, 1880.0, 1880.0, 1880.0, 1877.0, 1880.0, 1880.0, 1880.0, 1880.0, 1880.0, 1880.0, 1886.0, 1196.0, 1880.0, 1880.0, 1880.0, 1880.0, 1880.0, 1860.0, 1880.0, 1860.0, 1886.0, 1880.0, 1880.0, 1880.0, 1880.0, 1856.0, 1860.0, 1880.0, 1863.0, 1800.0, 1880.0, 1880.0, 1860.0, 1857.0, 1880.0, 1880.0, 1880.0, 1870.0, 1880.0, 1880.0, 1877.0, 1880.0, 1880.0, 1880.0, 1880.0, 1880.0, 1885.0, 1880.0, 1880.0, 1880.0, 1880.0, 1880.0, 1880.0, 1880.0, 1880.0, 1880.0, 1880.0, 1880.0, 1880.0, 1881.0, 1880.0, 1880.0, 1880.0, 1880.0, 1855.0, 1854.0, 1880.0, 1880.0, 1850.0, 1880.0, 1860.0, 1854.0, 1880.0, 1862.0, 1885.0, 1881.0, 1880.0, 1880.0, 1880.0, 1880.0, 1880.0, 1875.0, 1880.0, 1860.0, 1880.0, 1880.0, 1880.0, 1880.0, 1880.0, 1885.0, 1880.0, 1880.0, 1880.0, 1880.0, 1880.0, 1880.0, 1880.0, 1885.0, 1880.0, 1880.0, 1880.0, 1830.0, 1880.0, 1880.0, 1880.0, 1880.0, 1880.0, 1885.0, 1880.0, 1880.0, 1885.0, 1880.0, 1880.0, 1880.0, 1883.0, 1880.0, 1820.0, 1880.0, 1880.0, 1880.0, 1880.0, 1880.0, 1880.0, 1870.0, 1880.0, 1880.0, 1880.0, 1880.0, 1880.0, 1880.0, 1880.0, 1885.0, 1880.0, 1880.0, 1869.0, 1880.0, 1872.0, 1880.0, 1870.0, 1880.0, 1880.0, 1880.0]\n"
     ]
    }
   ],
   "source": [
    "print(outliner_YearBuilt)"
   ]
  },
  {
   "cell_type": "markdown",
   "metadata": {},
   "source": [
    "#### Date "
   ]
  },
  {
   "cell_type": "code",
   "execution_count": 318,
   "metadata": {},
   "outputs": [],
   "source": [
    "year = []\n",
    "for date in df_af3['Date']:\n",
    "    year.append(date.year)"
   ]
  },
  {
   "cell_type": "code",
   "execution_count": 319,
   "metadata": {},
   "outputs": [
    {
     "name": "stdout",
     "output_type": "stream",
     "text": [
      "2016\n",
      "2018\n"
     ]
    }
   ],
   "source": [
    "print(min(year))\n",
    "print(max(year))"
   ]
  },
  {
   "cell_type": "code",
   "execution_count": 320,
   "metadata": {},
   "outputs": [],
   "source": [
    "outliner_date = Zscore_outlier(year)"
   ]
  },
  {
   "cell_type": "code",
   "execution_count": 321,
   "metadata": {},
   "outputs": [
    {
     "name": "stdout",
     "output_type": "stream",
     "text": [
      "[]\n"
     ]
    }
   ],
   "source": [
    "print(outliner_date)\n"
   ]
  },
  {
   "cell_type": "markdown",
   "metadata": {},
   "source": [
    "##### Date don't have any ouliner"
   ]
  },
  {
   "cell_type": "markdown",
   "metadata": {},
   "source": [
    "#### Remove Outliners: "
   ]
  },
  {
   "cell_type": "code",
   "execution_count": 322,
   "metadata": {},
   "outputs": [
    {
     "name": "stdout",
     "output_type": "stream",
     "text": [
      "[5.0, 6, 2855000.0, 29.8, 4.0, 8888.0, 407.0]\n"
     ]
    }
   ],
   "source": [
    "temp_min = [min(outliner_car),min(outliner_rooms),min(outliner_price),\n",
    "min(outliner_distance),min(outliner_Bathroom),min(outliner_Landsize),min(outliner_BuildingArea)]\n",
    "print(temp_min)\n",
    "temp_feature = ['Car','Rooms','Price','Distance','Bathroom','Landsize','BuildingArea']"
   ]
  },
  {
   "cell_type": "code",
   "execution_count": 323,
   "metadata": {},
   "outputs": [],
   "source": [
    "for i in range(len(temp_min)):\n",
    "    df_af3 = df_af3[df_af3[temp_feature[i]] < temp_min[i]]"
   ]
  },
  {
   "cell_type": "code",
   "execution_count": 324,
   "metadata": {},
   "outputs": [],
   "source": [
    "df_af3 = df_af3[df_af3['YearBuilt'] != 2106 ]\n",
    "df_af3 = df_af3[df_af3['YearBuilt'] > 1886 ]"
   ]
  },
  {
   "cell_type": "code",
   "execution_count": 325,
   "metadata": {},
   "outputs": [
    {
     "data": {
      "text/html": [
       "<div>\n",
       "<style scoped>\n",
       "    .dataframe tbody tr th:only-of-type {\n",
       "        vertical-align: middle;\n",
       "    }\n",
       "\n",
       "    .dataframe tbody tr th {\n",
       "        vertical-align: top;\n",
       "    }\n",
       "\n",
       "    .dataframe thead th {\n",
       "        text-align: right;\n",
       "    }\n",
       "</style>\n",
       "<table border=\"1\" class=\"dataframe\">\n",
       "  <thead>\n",
       "    <tr style=\"text-align: right;\">\n",
       "      <th></th>\n",
       "      <th>Rooms</th>\n",
       "      <th>Price</th>\n",
       "      <th>Distance</th>\n",
       "      <th>Bathroom</th>\n",
       "      <th>Car</th>\n",
       "      <th>Landsize</th>\n",
       "      <th>BuildingArea</th>\n",
       "      <th>YearBuilt</th>\n",
       "    </tr>\n",
       "  </thead>\n",
       "  <tbody>\n",
       "    <tr>\n",
       "      <th>count</th>\n",
       "      <td>26315.000000</td>\n",
       "      <td>2.631500e+04</td>\n",
       "      <td>26315.000000</td>\n",
       "      <td>26315.000000</td>\n",
       "      <td>26315.000000</td>\n",
       "      <td>26315.000000</td>\n",
       "      <td>26315.000000</td>\n",
       "      <td>26315.000000</td>\n",
       "    </tr>\n",
       "    <tr>\n",
       "      <th>mean</th>\n",
       "      <td>3.013718</td>\n",
       "      <td>1.021027e+06</td>\n",
       "      <td>10.300426</td>\n",
       "      <td>1.694281</td>\n",
       "      <td>1.769295</td>\n",
       "      <td>544.631769</td>\n",
       "      <td>144.535790</td>\n",
       "      <td>1964.024511</td>\n",
       "    </tr>\n",
       "    <tr>\n",
       "      <th>std</th>\n",
       "      <td>0.873248</td>\n",
       "      <td>4.431508e+05</td>\n",
       "      <td>5.056171</td>\n",
       "      <td>0.574452</td>\n",
       "      <td>0.738171</td>\n",
       "      <td>401.765930</td>\n",
       "      <td>39.145726</td>\n",
       "      <td>23.758369</td>\n",
       "    </tr>\n",
       "    <tr>\n",
       "      <th>min</th>\n",
       "      <td>1.000000</td>\n",
       "      <td>1.120000e+05</td>\n",
       "      <td>0.700000</td>\n",
       "      <td>0.000000</td>\n",
       "      <td>0.000000</td>\n",
       "      <td>1.000000</td>\n",
       "      <td>0.010000</td>\n",
       "      <td>1887.000000</td>\n",
       "    </tr>\n",
       "    <tr>\n",
       "      <th>25%</th>\n",
       "      <td>2.000000</td>\n",
       "      <td>7.400000e+05</td>\n",
       "      <td>6.400000</td>\n",
       "      <td>1.000000</td>\n",
       "      <td>1.000000</td>\n",
       "      <td>416.000000</td>\n",
       "      <td>141.000000</td>\n",
       "      <td>1965.000000</td>\n",
       "    </tr>\n",
       "    <tr>\n",
       "      <th>50%</th>\n",
       "      <td>3.000000</td>\n",
       "      <td>9.320000e+05</td>\n",
       "      <td>10.100000</td>\n",
       "      <td>2.000000</td>\n",
       "      <td>2.000000</td>\n",
       "      <td>544.000000</td>\n",
       "      <td>141.000000</td>\n",
       "      <td>1965.000000</td>\n",
       "    </tr>\n",
       "    <tr>\n",
       "      <th>75%</th>\n",
       "      <td>4.000000</td>\n",
       "      <td>1.200000e+06</td>\n",
       "      <td>13.500000</td>\n",
       "      <td>2.000000</td>\n",
       "      <td>2.000000</td>\n",
       "      <td>592.000000</td>\n",
       "      <td>141.000000</td>\n",
       "      <td>1965.000000</td>\n",
       "    </tr>\n",
       "    <tr>\n",
       "      <th>max</th>\n",
       "      <td>5.000000</td>\n",
       "      <td>2.852000e+06</td>\n",
       "      <td>27.200000</td>\n",
       "      <td>3.000000</td>\n",
       "      <td>4.000000</td>\n",
       "      <td>8680.000000</td>\n",
       "      <td>406.000000</td>\n",
       "      <td>2019.000000</td>\n",
       "    </tr>\n",
       "  </tbody>\n",
       "</table>\n",
       "</div>"
      ],
      "text/plain": [
       "              Rooms         Price      Distance      Bathroom           Car  \\\n",
       "count  26315.000000  2.631500e+04  26315.000000  26315.000000  26315.000000   \n",
       "mean       3.013718  1.021027e+06     10.300426      1.694281      1.769295   \n",
       "std        0.873248  4.431508e+05      5.056171      0.574452      0.738171   \n",
       "min        1.000000  1.120000e+05      0.700000      0.000000      0.000000   \n",
       "25%        2.000000  7.400000e+05      6.400000      1.000000      1.000000   \n",
       "50%        3.000000  9.320000e+05     10.100000      2.000000      2.000000   \n",
       "75%        4.000000  1.200000e+06     13.500000      2.000000      2.000000   \n",
       "max        5.000000  2.852000e+06     27.200000      3.000000      4.000000   \n",
       "\n",
       "           Landsize  BuildingArea     YearBuilt  \n",
       "count  26315.000000  26315.000000  26315.000000  \n",
       "mean     544.631769    144.535790   1964.024511  \n",
       "std      401.765930     39.145726     23.758369  \n",
       "min        1.000000      0.010000   1887.000000  \n",
       "25%      416.000000    141.000000   1965.000000  \n",
       "50%      544.000000    141.000000   1965.000000  \n",
       "75%      592.000000    141.000000   1965.000000  \n",
       "max     8680.000000    406.000000   2019.000000  "
      ]
     },
     "execution_count": 325,
     "metadata": {},
     "output_type": "execute_result"
    }
   ],
   "source": [
    "df_af3.describe()\n"
   ]
  },
  {
   "cell_type": "code",
   "execution_count": 326,
   "metadata": {},
   "outputs": [
    {
     "name": "stdout",
     "output_type": "stream",
     "text": [
      "<class 'pandas.core.frame.DataFrame'>\n",
      "Int64Index: 26315 entries, 0 to 30623\n",
      "Data columns (total 13 columns):\n",
      " #   Column        Non-Null Count  Dtype  \n",
      "---  ------        --------------  -----  \n",
      " 0   Suburb        26315 non-null  object \n",
      " 1   Address       26315 non-null  object \n",
      " 2   Rooms         26315 non-null  int64  \n",
      " 3   Type          26315 non-null  object \n",
      " 4   Price         26315 non-null  float64\n",
      " 5   Method        26315 non-null  object \n",
      " 6   Date          26315 non-null  object \n",
      " 7   Distance      26315 non-null  float64\n",
      " 8   Bathroom      26315 non-null  float64\n",
      " 9   Car           26315 non-null  float64\n",
      " 10  Landsize      26315 non-null  float64\n",
      " 11  BuildingArea  26315 non-null  float64\n",
      " 12  YearBuilt     26315 non-null  float64\n",
      "dtypes: float64(7), int64(1), object(5)\n",
      "memory usage: 2.8+ MB\n"
     ]
    }
   ],
   "source": [
    "df_af3.info()"
   ]
  },
  {
   "cell_type": "code",
   "execution_count": 327,
   "metadata": {},
   "outputs": [
    {
     "data": {
      "text/html": [
       "<div>\n",
       "<style scoped>\n",
       "    .dataframe tbody tr th:only-of-type {\n",
       "        vertical-align: middle;\n",
       "    }\n",
       "\n",
       "    .dataframe tbody tr th {\n",
       "        vertical-align: top;\n",
       "    }\n",
       "\n",
       "    .dataframe thead th {\n",
       "        text-align: right;\n",
       "    }\n",
       "</style>\n",
       "<table border=\"1\" class=\"dataframe\">\n",
       "  <thead>\n",
       "    <tr style=\"text-align: right;\">\n",
       "      <th></th>\n",
       "      <th>Suburb</th>\n",
       "      <th>Address</th>\n",
       "      <th>Rooms</th>\n",
       "      <th>Type</th>\n",
       "      <th>Price</th>\n",
       "      <th>Method</th>\n",
       "      <th>Date</th>\n",
       "      <th>Distance</th>\n",
       "      <th>Bathroom</th>\n",
       "      <th>Car</th>\n",
       "      <th>Landsize</th>\n",
       "      <th>BuildingArea</th>\n",
       "      <th>YearBuilt</th>\n",
       "    </tr>\n",
       "  </thead>\n",
       "  <tbody>\n",
       "    <tr>\n",
       "      <th>0</th>\n",
       "      <td>Abbotsford</td>\n",
       "      <td>68 Studley St</td>\n",
       "      <td>2</td>\n",
       "      <td>h</td>\n",
       "      <td>932000.0</td>\n",
       "      <td>SS</td>\n",
       "      <td>2016-03-09</td>\n",
       "      <td>2.5</td>\n",
       "      <td>1.0</td>\n",
       "      <td>1.0</td>\n",
       "      <td>126.0</td>\n",
       "      <td>141.0</td>\n",
       "      <td>1965.0</td>\n",
       "    </tr>\n",
       "    <tr>\n",
       "      <th>1</th>\n",
       "      <td>Reservoir</td>\n",
       "      <td>36a Ashton St</td>\n",
       "      <td>3</td>\n",
       "      <td>u</td>\n",
       "      <td>666000.0</td>\n",
       "      <td>S</td>\n",
       "      <td>2016-03-09</td>\n",
       "      <td>11.2</td>\n",
       "      <td>2.0</td>\n",
       "      <td>2.0</td>\n",
       "      <td>544.0</td>\n",
       "      <td>141.0</td>\n",
       "      <td>1965.0</td>\n",
       "    </tr>\n",
       "    <tr>\n",
       "      <th>2</th>\n",
       "      <td>Reservoir</td>\n",
       "      <td>3/39 Chaleyer St</td>\n",
       "      <td>2</td>\n",
       "      <td>u</td>\n",
       "      <td>932000.0</td>\n",
       "      <td>S</td>\n",
       "      <td>2016-03-09</td>\n",
       "      <td>11.2</td>\n",
       "      <td>1.0</td>\n",
       "      <td>1.0</td>\n",
       "      <td>147.0</td>\n",
       "      <td>141.0</td>\n",
       "      <td>1998.0</td>\n",
       "    </tr>\n",
       "    <tr>\n",
       "      <th>3</th>\n",
       "      <td>Reservoir</td>\n",
       "      <td>1/21 Dumbarton St</td>\n",
       "      <td>3</td>\n",
       "      <td>u</td>\n",
       "      <td>475000.0</td>\n",
       "      <td>S</td>\n",
       "      <td>2016-03-09</td>\n",
       "      <td>11.2</td>\n",
       "      <td>1.0</td>\n",
       "      <td>1.0</td>\n",
       "      <td>191.0</td>\n",
       "      <td>107.0</td>\n",
       "      <td>1990.0</td>\n",
       "    </tr>\n",
       "    <tr>\n",
       "      <th>4</th>\n",
       "      <td>Reservoir</td>\n",
       "      <td>39 Gertz Av</td>\n",
       "      <td>5</td>\n",
       "      <td>h</td>\n",
       "      <td>932000.0</td>\n",
       "      <td>W</td>\n",
       "      <td>2016-03-09</td>\n",
       "      <td>11.2</td>\n",
       "      <td>2.0</td>\n",
       "      <td>2.0</td>\n",
       "      <td>544.0</td>\n",
       "      <td>141.0</td>\n",
       "      <td>1965.0</td>\n",
       "    </tr>\n",
       "  </tbody>\n",
       "</table>\n",
       "</div>"
      ],
      "text/plain": [
       "       Suburb            Address  Rooms Type     Price Method        Date  \\\n",
       "0  Abbotsford      68 Studley St      2    h  932000.0     SS  2016-03-09   \n",
       "1   Reservoir      36a Ashton St      3    u  666000.0      S  2016-03-09   \n",
       "2   Reservoir   3/39 Chaleyer St      2    u  932000.0      S  2016-03-09   \n",
       "3   Reservoir  1/21 Dumbarton St      3    u  475000.0      S  2016-03-09   \n",
       "4   Reservoir        39 Gertz Av      5    h  932000.0      W  2016-03-09   \n",
       "\n",
       "   Distance  Bathroom  Car  Landsize  BuildingArea  YearBuilt  \n",
       "0       2.5       1.0  1.0     126.0         141.0     1965.0  \n",
       "1      11.2       2.0  2.0     544.0         141.0     1965.0  \n",
       "2      11.2       1.0  1.0     147.0         141.0     1998.0  \n",
       "3      11.2       1.0  1.0     191.0         107.0     1990.0  \n",
       "4      11.2       2.0  2.0     544.0         141.0     1965.0  "
      ]
     },
     "execution_count": 327,
     "metadata": {},
     "output_type": "execute_result"
    }
   ],
   "source": [
    "df_af3.head(5)"
   ]
  },
  {
   "cell_type": "markdown",
   "metadata": {},
   "source": [
    "## Next is changing categories to numbers.\n",
    "#### Change ADDRESS to 0,1 ( we assume that price will be affect by alleys or main streets)\n"
   ]
  },
  {
   "cell_type": "code",
   "execution_count": 328,
   "metadata": {},
   "outputs": [],
   "source": [
    "test = df_af3['Address'].str.contains('/')\n",
    "temp = {False:'1', True: '0'}\n",
    "address = test.replace(temp)"
   ]
  },
  {
   "cell_type": "code",
   "execution_count": 329,
   "metadata": {},
   "outputs": [
    {
     "name": "stdout",
     "output_type": "stream",
     "text": [
      "0        1\n",
      "1        1\n",
      "2        0\n",
      "3        0\n",
      "4        1\n",
      "        ..\n",
      "30618    1\n",
      "30619    1\n",
      "30620    1\n",
      "30621    0\n",
      "30623    1\n",
      "Name: Address, Length: 26315, dtype: object\n"
     ]
    }
   ],
   "source": [
    "print(address)"
   ]
  },
  {
   "cell_type": "code",
   "execution_count": 330,
   "metadata": {},
   "outputs": [
    {
     "data": {
      "text/html": [
       "<div>\n",
       "<style scoped>\n",
       "    .dataframe tbody tr th:only-of-type {\n",
       "        vertical-align: middle;\n",
       "    }\n",
       "\n",
       "    .dataframe tbody tr th {\n",
       "        vertical-align: top;\n",
       "    }\n",
       "\n",
       "    .dataframe thead th {\n",
       "        text-align: right;\n",
       "    }\n",
       "</style>\n",
       "<table border=\"1\" class=\"dataframe\">\n",
       "  <thead>\n",
       "    <tr style=\"text-align: right;\">\n",
       "      <th></th>\n",
       "      <th>Suburb</th>\n",
       "      <th>Address</th>\n",
       "      <th>Rooms</th>\n",
       "      <th>Type</th>\n",
       "      <th>Price</th>\n",
       "      <th>Method</th>\n",
       "      <th>Date</th>\n",
       "      <th>Distance</th>\n",
       "      <th>Bathroom</th>\n",
       "      <th>Car</th>\n",
       "      <th>Landsize</th>\n",
       "      <th>BuildingArea</th>\n",
       "      <th>YearBuilt</th>\n",
       "    </tr>\n",
       "  </thead>\n",
       "  <tbody>\n",
       "    <tr>\n",
       "      <th>0</th>\n",
       "      <td>Abbotsford</td>\n",
       "      <td>68 Studley St</td>\n",
       "      <td>2</td>\n",
       "      <td>h</td>\n",
       "      <td>932000.0</td>\n",
       "      <td>SS</td>\n",
       "      <td>2016-03-09</td>\n",
       "      <td>2.5</td>\n",
       "      <td>1.0</td>\n",
       "      <td>1.0</td>\n",
       "      <td>126.0</td>\n",
       "      <td>141.0</td>\n",
       "      <td>1965.0</td>\n",
       "    </tr>\n",
       "    <tr>\n",
       "      <th>1</th>\n",
       "      <td>Reservoir</td>\n",
       "      <td>36a Ashton St</td>\n",
       "      <td>3</td>\n",
       "      <td>u</td>\n",
       "      <td>666000.0</td>\n",
       "      <td>S</td>\n",
       "      <td>2016-03-09</td>\n",
       "      <td>11.2</td>\n",
       "      <td>2.0</td>\n",
       "      <td>2.0</td>\n",
       "      <td>544.0</td>\n",
       "      <td>141.0</td>\n",
       "      <td>1965.0</td>\n",
       "    </tr>\n",
       "    <tr>\n",
       "      <th>2</th>\n",
       "      <td>Reservoir</td>\n",
       "      <td>3/39 Chaleyer St</td>\n",
       "      <td>2</td>\n",
       "      <td>u</td>\n",
       "      <td>932000.0</td>\n",
       "      <td>S</td>\n",
       "      <td>2016-03-09</td>\n",
       "      <td>11.2</td>\n",
       "      <td>1.0</td>\n",
       "      <td>1.0</td>\n",
       "      <td>147.0</td>\n",
       "      <td>141.0</td>\n",
       "      <td>1998.0</td>\n",
       "    </tr>\n",
       "    <tr>\n",
       "      <th>3</th>\n",
       "      <td>Reservoir</td>\n",
       "      <td>1/21 Dumbarton St</td>\n",
       "      <td>3</td>\n",
       "      <td>u</td>\n",
       "      <td>475000.0</td>\n",
       "      <td>S</td>\n",
       "      <td>2016-03-09</td>\n",
       "      <td>11.2</td>\n",
       "      <td>1.0</td>\n",
       "      <td>1.0</td>\n",
       "      <td>191.0</td>\n",
       "      <td>107.0</td>\n",
       "      <td>1990.0</td>\n",
       "    </tr>\n",
       "    <tr>\n",
       "      <th>4</th>\n",
       "      <td>Reservoir</td>\n",
       "      <td>39 Gertz Av</td>\n",
       "      <td>5</td>\n",
       "      <td>h</td>\n",
       "      <td>932000.0</td>\n",
       "      <td>W</td>\n",
       "      <td>2016-03-09</td>\n",
       "      <td>11.2</td>\n",
       "      <td>2.0</td>\n",
       "      <td>2.0</td>\n",
       "      <td>544.0</td>\n",
       "      <td>141.0</td>\n",
       "      <td>1965.0</td>\n",
       "    </tr>\n",
       "  </tbody>\n",
       "</table>\n",
       "</div>"
      ],
      "text/plain": [
       "       Suburb            Address  Rooms Type     Price Method        Date  \\\n",
       "0  Abbotsford      68 Studley St      2    h  932000.0     SS  2016-03-09   \n",
       "1   Reservoir      36a Ashton St      3    u  666000.0      S  2016-03-09   \n",
       "2   Reservoir   3/39 Chaleyer St      2    u  932000.0      S  2016-03-09   \n",
       "3   Reservoir  1/21 Dumbarton St      3    u  475000.0      S  2016-03-09   \n",
       "4   Reservoir        39 Gertz Av      5    h  932000.0      W  2016-03-09   \n",
       "\n",
       "   Distance  Bathroom  Car  Landsize  BuildingArea  YearBuilt  \n",
       "0       2.5       1.0  1.0     126.0         141.0     1965.0  \n",
       "1      11.2       2.0  2.0     544.0         141.0     1965.0  \n",
       "2      11.2       1.0  1.0     147.0         141.0     1998.0  \n",
       "3      11.2       1.0  1.0     191.0         107.0     1990.0  \n",
       "4      11.2       2.0  2.0     544.0         141.0     1965.0  "
      ]
     },
     "execution_count": 330,
     "metadata": {},
     "output_type": "execute_result"
    }
   ],
   "source": [
    "df_af4 = df_af3.copy()\n",
    "df_af4.head(5)"
   ]
  },
  {
   "cell_type": "code",
   "execution_count": 331,
   "metadata": {},
   "outputs": [
    {
     "data": {
      "text/html": [
       "<div>\n",
       "<style scoped>\n",
       "    .dataframe tbody tr th:only-of-type {\n",
       "        vertical-align: middle;\n",
       "    }\n",
       "\n",
       "    .dataframe tbody tr th {\n",
       "        vertical-align: top;\n",
       "    }\n",
       "\n",
       "    .dataframe thead th {\n",
       "        text-align: right;\n",
       "    }\n",
       "</style>\n",
       "<table border=\"1\" class=\"dataframe\">\n",
       "  <thead>\n",
       "    <tr style=\"text-align: right;\">\n",
       "      <th></th>\n",
       "      <th>Suburb</th>\n",
       "      <th>Address</th>\n",
       "      <th>Rooms</th>\n",
       "      <th>Type</th>\n",
       "      <th>Price</th>\n",
       "      <th>Method</th>\n",
       "      <th>Date</th>\n",
       "      <th>Distance</th>\n",
       "      <th>Bathroom</th>\n",
       "      <th>Car</th>\n",
       "      <th>Landsize</th>\n",
       "      <th>BuildingArea</th>\n",
       "      <th>YearBuilt</th>\n",
       "    </tr>\n",
       "  </thead>\n",
       "  <tbody>\n",
       "    <tr>\n",
       "      <th>0</th>\n",
       "      <td>Abbotsford</td>\n",
       "      <td>1</td>\n",
       "      <td>2</td>\n",
       "      <td>h</td>\n",
       "      <td>932000.0</td>\n",
       "      <td>SS</td>\n",
       "      <td>2016-03-09</td>\n",
       "      <td>2.5</td>\n",
       "      <td>1.0</td>\n",
       "      <td>1.0</td>\n",
       "      <td>126.0</td>\n",
       "      <td>141.0</td>\n",
       "      <td>1965.0</td>\n",
       "    </tr>\n",
       "    <tr>\n",
       "      <th>1</th>\n",
       "      <td>Reservoir</td>\n",
       "      <td>1</td>\n",
       "      <td>3</td>\n",
       "      <td>u</td>\n",
       "      <td>666000.0</td>\n",
       "      <td>S</td>\n",
       "      <td>2016-03-09</td>\n",
       "      <td>11.2</td>\n",
       "      <td>2.0</td>\n",
       "      <td>2.0</td>\n",
       "      <td>544.0</td>\n",
       "      <td>141.0</td>\n",
       "      <td>1965.0</td>\n",
       "    </tr>\n",
       "    <tr>\n",
       "      <th>2</th>\n",
       "      <td>Reservoir</td>\n",
       "      <td>0</td>\n",
       "      <td>2</td>\n",
       "      <td>u</td>\n",
       "      <td>932000.0</td>\n",
       "      <td>S</td>\n",
       "      <td>2016-03-09</td>\n",
       "      <td>11.2</td>\n",
       "      <td>1.0</td>\n",
       "      <td>1.0</td>\n",
       "      <td>147.0</td>\n",
       "      <td>141.0</td>\n",
       "      <td>1998.0</td>\n",
       "    </tr>\n",
       "    <tr>\n",
       "      <th>3</th>\n",
       "      <td>Reservoir</td>\n",
       "      <td>0</td>\n",
       "      <td>3</td>\n",
       "      <td>u</td>\n",
       "      <td>475000.0</td>\n",
       "      <td>S</td>\n",
       "      <td>2016-03-09</td>\n",
       "      <td>11.2</td>\n",
       "      <td>1.0</td>\n",
       "      <td>1.0</td>\n",
       "      <td>191.0</td>\n",
       "      <td>107.0</td>\n",
       "      <td>1990.0</td>\n",
       "    </tr>\n",
       "    <tr>\n",
       "      <th>4</th>\n",
       "      <td>Reservoir</td>\n",
       "      <td>1</td>\n",
       "      <td>5</td>\n",
       "      <td>h</td>\n",
       "      <td>932000.0</td>\n",
       "      <td>W</td>\n",
       "      <td>2016-03-09</td>\n",
       "      <td>11.2</td>\n",
       "      <td>2.0</td>\n",
       "      <td>2.0</td>\n",
       "      <td>544.0</td>\n",
       "      <td>141.0</td>\n",
       "      <td>1965.0</td>\n",
       "    </tr>\n",
       "  </tbody>\n",
       "</table>\n",
       "</div>"
      ],
      "text/plain": [
       "       Suburb Address  Rooms Type     Price Method        Date  Distance  \\\n",
       "0  Abbotsford       1      2    h  932000.0     SS  2016-03-09       2.5   \n",
       "1   Reservoir       1      3    u  666000.0      S  2016-03-09      11.2   \n",
       "2   Reservoir       0      2    u  932000.0      S  2016-03-09      11.2   \n",
       "3   Reservoir       0      3    u  475000.0      S  2016-03-09      11.2   \n",
       "4   Reservoir       1      5    h  932000.0      W  2016-03-09      11.2   \n",
       "\n",
       "   Bathroom  Car  Landsize  BuildingArea  YearBuilt  \n",
       "0       1.0  1.0     126.0         141.0     1965.0  \n",
       "1       2.0  2.0     544.0         141.0     1965.0  \n",
       "2       1.0  1.0     147.0         141.0     1998.0  \n",
       "3       1.0  1.0     191.0         107.0     1990.0  \n",
       "4       2.0  2.0     544.0         141.0     1965.0  "
      ]
     },
     "execution_count": 331,
     "metadata": {},
     "output_type": "execute_result"
    }
   ],
   "source": [
    "df_af4['Address'] = address\n",
    "df_af4.head(5)"
   ]
  },
  {
   "cell_type": "markdown",
   "metadata": {},
   "source": [
    "#### Change date to year (because we aim to similar this feature, other option is divide date into quarters and index them)"
   ]
  },
  {
   "cell_type": "code",
   "execution_count": 332,
   "metadata": {},
   "outputs": [],
   "source": [
    "temp =[]\n",
    "\n",
    "for i in df_af4['Date']:\n",
    "    temp.append(i.year)\n",
    "df_af4['Date'] = temp\n"
   ]
  },
  {
   "cell_type": "code",
   "execution_count": 333,
   "metadata": {},
   "outputs": [
    {
     "data": {
      "text/html": [
       "<div>\n",
       "<style scoped>\n",
       "    .dataframe tbody tr th:only-of-type {\n",
       "        vertical-align: middle;\n",
       "    }\n",
       "\n",
       "    .dataframe tbody tr th {\n",
       "        vertical-align: top;\n",
       "    }\n",
       "\n",
       "    .dataframe thead th {\n",
       "        text-align: right;\n",
       "    }\n",
       "</style>\n",
       "<table border=\"1\" class=\"dataframe\">\n",
       "  <thead>\n",
       "    <tr style=\"text-align: right;\">\n",
       "      <th></th>\n",
       "      <th>Suburb</th>\n",
       "      <th>Address</th>\n",
       "      <th>Rooms</th>\n",
       "      <th>Type</th>\n",
       "      <th>Price</th>\n",
       "      <th>Method</th>\n",
       "      <th>Date</th>\n",
       "      <th>Distance</th>\n",
       "      <th>Bathroom</th>\n",
       "      <th>Car</th>\n",
       "      <th>Landsize</th>\n",
       "      <th>BuildingArea</th>\n",
       "      <th>YearBuilt</th>\n",
       "    </tr>\n",
       "  </thead>\n",
       "  <tbody>\n",
       "    <tr>\n",
       "      <th>0</th>\n",
       "      <td>Abbotsford</td>\n",
       "      <td>1</td>\n",
       "      <td>2</td>\n",
       "      <td>h</td>\n",
       "      <td>932000.0</td>\n",
       "      <td>SS</td>\n",
       "      <td>2016</td>\n",
       "      <td>2.5</td>\n",
       "      <td>1.0</td>\n",
       "      <td>1.0</td>\n",
       "      <td>126.0</td>\n",
       "      <td>141.0</td>\n",
       "      <td>1965.0</td>\n",
       "    </tr>\n",
       "    <tr>\n",
       "      <th>1</th>\n",
       "      <td>Reservoir</td>\n",
       "      <td>1</td>\n",
       "      <td>3</td>\n",
       "      <td>u</td>\n",
       "      <td>666000.0</td>\n",
       "      <td>S</td>\n",
       "      <td>2016</td>\n",
       "      <td>11.2</td>\n",
       "      <td>2.0</td>\n",
       "      <td>2.0</td>\n",
       "      <td>544.0</td>\n",
       "      <td>141.0</td>\n",
       "      <td>1965.0</td>\n",
       "    </tr>\n",
       "    <tr>\n",
       "      <th>2</th>\n",
       "      <td>Reservoir</td>\n",
       "      <td>0</td>\n",
       "      <td>2</td>\n",
       "      <td>u</td>\n",
       "      <td>932000.0</td>\n",
       "      <td>S</td>\n",
       "      <td>2016</td>\n",
       "      <td>11.2</td>\n",
       "      <td>1.0</td>\n",
       "      <td>1.0</td>\n",
       "      <td>147.0</td>\n",
       "      <td>141.0</td>\n",
       "      <td>1998.0</td>\n",
       "    </tr>\n",
       "    <tr>\n",
       "      <th>3</th>\n",
       "      <td>Reservoir</td>\n",
       "      <td>0</td>\n",
       "      <td>3</td>\n",
       "      <td>u</td>\n",
       "      <td>475000.0</td>\n",
       "      <td>S</td>\n",
       "      <td>2016</td>\n",
       "      <td>11.2</td>\n",
       "      <td>1.0</td>\n",
       "      <td>1.0</td>\n",
       "      <td>191.0</td>\n",
       "      <td>107.0</td>\n",
       "      <td>1990.0</td>\n",
       "    </tr>\n",
       "  </tbody>\n",
       "</table>\n",
       "</div>"
      ],
      "text/plain": [
       "       Suburb Address  Rooms Type     Price Method  Date  Distance  Bathroom  \\\n",
       "0  Abbotsford       1      2    h  932000.0     SS  2016       2.5       1.0   \n",
       "1   Reservoir       1      3    u  666000.0      S  2016      11.2       2.0   \n",
       "2   Reservoir       0      2    u  932000.0      S  2016      11.2       1.0   \n",
       "3   Reservoir       0      3    u  475000.0      S  2016      11.2       1.0   \n",
       "\n",
       "   Car  Landsize  BuildingArea  YearBuilt  \n",
       "0  1.0     126.0         141.0     1965.0  \n",
       "1  2.0     544.0         141.0     1965.0  \n",
       "2  1.0     147.0         141.0     1998.0  \n",
       "3  1.0     191.0         107.0     1990.0  "
      ]
     },
     "execution_count": 333,
     "metadata": {},
     "output_type": "execute_result"
    }
   ],
   "source": [
    "df_af4.head(4)"
   ]
  },
  {
   "cell_type": "markdown",
   "metadata": {},
   "source": [
    "## Change Suburbs to numbers"
   ]
  },
  {
   "cell_type": "code",
   "execution_count": 334,
   "metadata": {},
   "outputs": [],
   "source": [
    "list_Suburb = pd.DataFrame()\n",
    "list_Suburb['Suburb'] = df_af4['Suburb'].unique()"
   ]
  },
  {
   "cell_type": "code",
   "execution_count": 335,
   "metadata": {},
   "outputs": [
    {
     "data": {
      "text/html": [
       "<div>\n",
       "<style scoped>\n",
       "    .dataframe tbody tr th:only-of-type {\n",
       "        vertical-align: middle;\n",
       "    }\n",
       "\n",
       "    .dataframe tbody tr th {\n",
       "        vertical-align: top;\n",
       "    }\n",
       "\n",
       "    .dataframe thead th {\n",
       "        text-align: right;\n",
       "    }\n",
       "</style>\n",
       "<table border=\"1\" class=\"dataframe\">\n",
       "  <thead>\n",
       "    <tr style=\"text-align: right;\">\n",
       "      <th></th>\n",
       "      <th>Suburb</th>\n",
       "    </tr>\n",
       "  </thead>\n",
       "  <tbody>\n",
       "    <tr>\n",
       "      <th>0</th>\n",
       "      <td>Abbotsford</td>\n",
       "    </tr>\n",
       "    <tr>\n",
       "      <th>1</th>\n",
       "      <td>Reservoir</td>\n",
       "    </tr>\n",
       "    <tr>\n",
       "      <th>2</th>\n",
       "      <td>Bentleigh East</td>\n",
       "    </tr>\n",
       "    <tr>\n",
       "      <th>3</th>\n",
       "      <td>Richmond</td>\n",
       "    </tr>\n",
       "    <tr>\n",
       "      <th>4</th>\n",
       "      <td>Glen Iris</td>\n",
       "    </tr>\n",
       "  </tbody>\n",
       "</table>\n",
       "</div>"
      ],
      "text/plain": [
       "           Suburb\n",
       "0      Abbotsford\n",
       "1       Reservoir\n",
       "2  Bentleigh East\n",
       "3        Richmond\n",
       "4       Glen Iris"
      ]
     },
     "execution_count": 335,
     "metadata": {},
     "output_type": "execute_result"
    }
   ],
   "source": [
    "list_Suburb.head(5)"
   ]
  },
  {
   "cell_type": "code",
   "execution_count": 336,
   "metadata": {},
   "outputs": [],
   "source": [
    "df_af4 = df_af4.replace(np.squeeze(list_Suburb.values), list(list_Suburb.index))"
   ]
  },
  {
   "cell_type": "code",
   "execution_count": 337,
   "metadata": {},
   "outputs": [
    {
     "data": {
      "text/html": [
       "<div>\n",
       "<style scoped>\n",
       "    .dataframe tbody tr th:only-of-type {\n",
       "        vertical-align: middle;\n",
       "    }\n",
       "\n",
       "    .dataframe tbody tr th {\n",
       "        vertical-align: top;\n",
       "    }\n",
       "\n",
       "    .dataframe thead th {\n",
       "        text-align: right;\n",
       "    }\n",
       "</style>\n",
       "<table border=\"1\" class=\"dataframe\">\n",
       "  <thead>\n",
       "    <tr style=\"text-align: right;\">\n",
       "      <th></th>\n",
       "      <th>Suburb</th>\n",
       "      <th>Address</th>\n",
       "      <th>Rooms</th>\n",
       "      <th>Type</th>\n",
       "      <th>Price</th>\n",
       "      <th>Method</th>\n",
       "      <th>Date</th>\n",
       "      <th>Distance</th>\n",
       "      <th>Bathroom</th>\n",
       "      <th>Car</th>\n",
       "      <th>Landsize</th>\n",
       "      <th>BuildingArea</th>\n",
       "      <th>YearBuilt</th>\n",
       "    </tr>\n",
       "  </thead>\n",
       "  <tbody>\n",
       "    <tr>\n",
       "      <th>0</th>\n",
       "      <td>0</td>\n",
       "      <td>1</td>\n",
       "      <td>2</td>\n",
       "      <td>h</td>\n",
       "      <td>932000.0</td>\n",
       "      <td>SS</td>\n",
       "      <td>2016</td>\n",
       "      <td>2.5</td>\n",
       "      <td>1.0</td>\n",
       "      <td>1.0</td>\n",
       "      <td>126.0</td>\n",
       "      <td>141.0</td>\n",
       "      <td>1965.0</td>\n",
       "    </tr>\n",
       "    <tr>\n",
       "      <th>1</th>\n",
       "      <td>1</td>\n",
       "      <td>1</td>\n",
       "      <td>3</td>\n",
       "      <td>u</td>\n",
       "      <td>666000.0</td>\n",
       "      <td>S</td>\n",
       "      <td>2016</td>\n",
       "      <td>11.2</td>\n",
       "      <td>2.0</td>\n",
       "      <td>2.0</td>\n",
       "      <td>544.0</td>\n",
       "      <td>141.0</td>\n",
       "      <td>1965.0</td>\n",
       "    </tr>\n",
       "    <tr>\n",
       "      <th>2</th>\n",
       "      <td>1</td>\n",
       "      <td>0</td>\n",
       "      <td>2</td>\n",
       "      <td>u</td>\n",
       "      <td>932000.0</td>\n",
       "      <td>S</td>\n",
       "      <td>2016</td>\n",
       "      <td>11.2</td>\n",
       "      <td>1.0</td>\n",
       "      <td>1.0</td>\n",
       "      <td>147.0</td>\n",
       "      <td>141.0</td>\n",
       "      <td>1998.0</td>\n",
       "    </tr>\n",
       "    <tr>\n",
       "      <th>3</th>\n",
       "      <td>1</td>\n",
       "      <td>0</td>\n",
       "      <td>3</td>\n",
       "      <td>u</td>\n",
       "      <td>475000.0</td>\n",
       "      <td>S</td>\n",
       "      <td>2016</td>\n",
       "      <td>11.2</td>\n",
       "      <td>1.0</td>\n",
       "      <td>1.0</td>\n",
       "      <td>191.0</td>\n",
       "      <td>107.0</td>\n",
       "      <td>1990.0</td>\n",
       "    </tr>\n",
       "    <tr>\n",
       "      <th>4</th>\n",
       "      <td>1</td>\n",
       "      <td>1</td>\n",
       "      <td>5</td>\n",
       "      <td>h</td>\n",
       "      <td>932000.0</td>\n",
       "      <td>W</td>\n",
       "      <td>2016</td>\n",
       "      <td>11.2</td>\n",
       "      <td>2.0</td>\n",
       "      <td>2.0</td>\n",
       "      <td>544.0</td>\n",
       "      <td>141.0</td>\n",
       "      <td>1965.0</td>\n",
       "    </tr>\n",
       "  </tbody>\n",
       "</table>\n",
       "</div>"
      ],
      "text/plain": [
       "   Suburb Address  Rooms Type     Price Method  Date  Distance  Bathroom  Car  \\\n",
       "0       0       1      2    h  932000.0     SS  2016       2.5       1.0  1.0   \n",
       "1       1       1      3    u  666000.0      S  2016      11.2       2.0  2.0   \n",
       "2       1       0      2    u  932000.0      S  2016      11.2       1.0  1.0   \n",
       "3       1       0      3    u  475000.0      S  2016      11.2       1.0  1.0   \n",
       "4       1       1      5    h  932000.0      W  2016      11.2       2.0  2.0   \n",
       "\n",
       "   Landsize  BuildingArea  YearBuilt  \n",
       "0     126.0         141.0     1965.0  \n",
       "1     544.0         141.0     1965.0  \n",
       "2     147.0         141.0     1998.0  \n",
       "3     191.0         107.0     1990.0  \n",
       "4     544.0         141.0     1965.0  "
      ]
     },
     "execution_count": 337,
     "metadata": {},
     "output_type": "execute_result"
    }
   ],
   "source": [
    "df_af4.head(5)"
   ]
  },
  {
   "cell_type": "markdown",
   "metadata": {},
   "source": [
    "## Similar with Type và Method"
   ]
  },
  {
   "cell_type": "code",
   "execution_count": 338,
   "metadata": {},
   "outputs": [],
   "source": [
    "list_Type = pd.DataFrame()\n",
    "list_Type['Type'] = df_af4['Type'].unique()\n",
    "list_Method = pd.DataFrame()\n",
    "list_Method['Method'] = df_af4['Method'].unique()"
   ]
  },
  {
   "cell_type": "code",
   "execution_count": 339,
   "metadata": {},
   "outputs": [
    {
     "data": {
      "text/html": [
       "<div>\n",
       "<style scoped>\n",
       "    .dataframe tbody tr th:only-of-type {\n",
       "        vertical-align: middle;\n",
       "    }\n",
       "\n",
       "    .dataframe tbody tr th {\n",
       "        vertical-align: top;\n",
       "    }\n",
       "\n",
       "    .dataframe thead th {\n",
       "        text-align: right;\n",
       "    }\n",
       "</style>\n",
       "<table border=\"1\" class=\"dataframe\">\n",
       "  <thead>\n",
       "    <tr style=\"text-align: right;\">\n",
       "      <th></th>\n",
       "      <th>Type</th>\n",
       "    </tr>\n",
       "  </thead>\n",
       "  <tbody>\n",
       "    <tr>\n",
       "      <th>0</th>\n",
       "      <td>h</td>\n",
       "    </tr>\n",
       "    <tr>\n",
       "      <th>1</th>\n",
       "      <td>u</td>\n",
       "    </tr>\n",
       "    <tr>\n",
       "      <th>2</th>\n",
       "      <td>t</td>\n",
       "    </tr>\n",
       "  </tbody>\n",
       "</table>\n",
       "</div>"
      ],
      "text/plain": [
       "  Type\n",
       "0    h\n",
       "1    u\n",
       "2    t"
      ]
     },
     "execution_count": 339,
     "metadata": {},
     "output_type": "execute_result"
    }
   ],
   "source": [
    "list_Type.head(5)"
   ]
  },
  {
   "cell_type": "code",
   "execution_count": 340,
   "metadata": {},
   "outputs": [
    {
     "data": {
      "text/html": [
       "<div>\n",
       "<style scoped>\n",
       "    .dataframe tbody tr th:only-of-type {\n",
       "        vertical-align: middle;\n",
       "    }\n",
       "\n",
       "    .dataframe tbody tr th {\n",
       "        vertical-align: top;\n",
       "    }\n",
       "\n",
       "    .dataframe thead th {\n",
       "        text-align: right;\n",
       "    }\n",
       "</style>\n",
       "<table border=\"1\" class=\"dataframe\">\n",
       "  <thead>\n",
       "    <tr style=\"text-align: right;\">\n",
       "      <th></th>\n",
       "      <th>Method</th>\n",
       "    </tr>\n",
       "  </thead>\n",
       "  <tbody>\n",
       "    <tr>\n",
       "      <th>0</th>\n",
       "      <td>SS</td>\n",
       "    </tr>\n",
       "    <tr>\n",
       "      <th>1</th>\n",
       "      <td>S</td>\n",
       "    </tr>\n",
       "    <tr>\n",
       "      <th>2</th>\n",
       "      <td>W</td>\n",
       "    </tr>\n",
       "    <tr>\n",
       "      <th>3</th>\n",
       "      <td>PI</td>\n",
       "    </tr>\n",
       "    <tr>\n",
       "      <th>4</th>\n",
       "      <td>SN</td>\n",
       "    </tr>\n",
       "  </tbody>\n",
       "</table>\n",
       "</div>"
      ],
      "text/plain": [
       "  Method\n",
       "0     SS\n",
       "1      S\n",
       "2      W\n",
       "3     PI\n",
       "4     SN"
      ]
     },
     "execution_count": 340,
     "metadata": {},
     "output_type": "execute_result"
    }
   ],
   "source": [
    "list_Method.head(5)"
   ]
  },
  {
   "cell_type": "code",
   "execution_count": 341,
   "metadata": {},
   "outputs": [],
   "source": [
    "df_af4 = df_af4.replace(np.squeeze(list_Type.values), list(list_Type.index))\n",
    "df_af4 = df_af4.replace(np.squeeze(list_Method.values), list(list_Method.index))"
   ]
  },
  {
   "cell_type": "markdown",
   "metadata": {},
   "source": [
    "# Summary:"
   ]
  },
  {
   "cell_type": "code",
   "execution_count": 342,
   "metadata": {},
   "outputs": [
    {
     "data": {
      "text/html": [
       "<div>\n",
       "<style scoped>\n",
       "    .dataframe tbody tr th:only-of-type {\n",
       "        vertical-align: middle;\n",
       "    }\n",
       "\n",
       "    .dataframe tbody tr th {\n",
       "        vertical-align: top;\n",
       "    }\n",
       "\n",
       "    .dataframe thead th {\n",
       "        text-align: right;\n",
       "    }\n",
       "</style>\n",
       "<table border=\"1\" class=\"dataframe\">\n",
       "  <thead>\n",
       "    <tr style=\"text-align: right;\">\n",
       "      <th></th>\n",
       "      <th>Suburb</th>\n",
       "      <th>Address</th>\n",
       "      <th>Rooms</th>\n",
       "      <th>Type</th>\n",
       "      <th>Price</th>\n",
       "      <th>Method</th>\n",
       "      <th>Date</th>\n",
       "      <th>Distance</th>\n",
       "      <th>Bathroom</th>\n",
       "      <th>Car</th>\n",
       "      <th>Landsize</th>\n",
       "      <th>BuildingArea</th>\n",
       "      <th>YearBuilt</th>\n",
       "    </tr>\n",
       "  </thead>\n",
       "  <tbody>\n",
       "    <tr>\n",
       "      <th>0</th>\n",
       "      <td>0</td>\n",
       "      <td>1</td>\n",
       "      <td>2</td>\n",
       "      <td>0</td>\n",
       "      <td>932000.0</td>\n",
       "      <td>0</td>\n",
       "      <td>2016</td>\n",
       "      <td>2.5</td>\n",
       "      <td>1.0</td>\n",
       "      <td>1.0</td>\n",
       "      <td>126.0</td>\n",
       "      <td>141.0</td>\n",
       "      <td>1965.0</td>\n",
       "    </tr>\n",
       "    <tr>\n",
       "      <th>1</th>\n",
       "      <td>1</td>\n",
       "      <td>1</td>\n",
       "      <td>3</td>\n",
       "      <td>1</td>\n",
       "      <td>666000.0</td>\n",
       "      <td>1</td>\n",
       "      <td>2016</td>\n",
       "      <td>11.2</td>\n",
       "      <td>2.0</td>\n",
       "      <td>2.0</td>\n",
       "      <td>544.0</td>\n",
       "      <td>141.0</td>\n",
       "      <td>1965.0</td>\n",
       "    </tr>\n",
       "    <tr>\n",
       "      <th>2</th>\n",
       "      <td>1</td>\n",
       "      <td>0</td>\n",
       "      <td>2</td>\n",
       "      <td>1</td>\n",
       "      <td>932000.0</td>\n",
       "      <td>1</td>\n",
       "      <td>2016</td>\n",
       "      <td>11.2</td>\n",
       "      <td>1.0</td>\n",
       "      <td>1.0</td>\n",
       "      <td>147.0</td>\n",
       "      <td>141.0</td>\n",
       "      <td>1998.0</td>\n",
       "    </tr>\n",
       "    <tr>\n",
       "      <th>3</th>\n",
       "      <td>1</td>\n",
       "      <td>0</td>\n",
       "      <td>3</td>\n",
       "      <td>1</td>\n",
       "      <td>475000.0</td>\n",
       "      <td>1</td>\n",
       "      <td>2016</td>\n",
       "      <td>11.2</td>\n",
       "      <td>1.0</td>\n",
       "      <td>1.0</td>\n",
       "      <td>191.0</td>\n",
       "      <td>107.0</td>\n",
       "      <td>1990.0</td>\n",
       "    </tr>\n",
       "    <tr>\n",
       "      <th>4</th>\n",
       "      <td>1</td>\n",
       "      <td>1</td>\n",
       "      <td>5</td>\n",
       "      <td>0</td>\n",
       "      <td>932000.0</td>\n",
       "      <td>2</td>\n",
       "      <td>2016</td>\n",
       "      <td>11.2</td>\n",
       "      <td>2.0</td>\n",
       "      <td>2.0</td>\n",
       "      <td>544.0</td>\n",
       "      <td>141.0</td>\n",
       "      <td>1965.0</td>\n",
       "    </tr>\n",
       "    <tr>\n",
       "      <th>5</th>\n",
       "      <td>1</td>\n",
       "      <td>1</td>\n",
       "      <td>3</td>\n",
       "      <td>0</td>\n",
       "      <td>738000.0</td>\n",
       "      <td>1</td>\n",
       "      <td>2016</td>\n",
       "      <td>11.2</td>\n",
       "      <td>2.0</td>\n",
       "      <td>2.0</td>\n",
       "      <td>544.0</td>\n",
       "      <td>141.0</td>\n",
       "      <td>1965.0</td>\n",
       "    </tr>\n",
       "    <tr>\n",
       "      <th>6</th>\n",
       "      <td>1</td>\n",
       "      <td>0</td>\n",
       "      <td>2</td>\n",
       "      <td>2</td>\n",
       "      <td>355000.0</td>\n",
       "      <td>3</td>\n",
       "      <td>2016</td>\n",
       "      <td>11.2</td>\n",
       "      <td>2.0</td>\n",
       "      <td>2.0</td>\n",
       "      <td>544.0</td>\n",
       "      <td>141.0</td>\n",
       "      <td>1965.0</td>\n",
       "    </tr>\n",
       "    <tr>\n",
       "      <th>7</th>\n",
       "      <td>1</td>\n",
       "      <td>1</td>\n",
       "      <td>3</td>\n",
       "      <td>0</td>\n",
       "      <td>590000.0</td>\n",
       "      <td>1</td>\n",
       "      <td>2016</td>\n",
       "      <td>11.2</td>\n",
       "      <td>2.0</td>\n",
       "      <td>2.0</td>\n",
       "      <td>544.0</td>\n",
       "      <td>141.0</td>\n",
       "      <td>1965.0</td>\n",
       "    </tr>\n",
       "    <tr>\n",
       "      <th>8</th>\n",
       "      <td>1</td>\n",
       "      <td>1</td>\n",
       "      <td>2</td>\n",
       "      <td>0</td>\n",
       "      <td>932000.0</td>\n",
       "      <td>4</td>\n",
       "      <td>2016</td>\n",
       "      <td>11.2</td>\n",
       "      <td>1.0</td>\n",
       "      <td>1.0</td>\n",
       "      <td>695.0</td>\n",
       "      <td>122.0</td>\n",
       "      <td>1950.0</td>\n",
       "    </tr>\n",
       "    <tr>\n",
       "      <th>9</th>\n",
       "      <td>1</td>\n",
       "      <td>0</td>\n",
       "      <td>2</td>\n",
       "      <td>1</td>\n",
       "      <td>415000.0</td>\n",
       "      <td>3</td>\n",
       "      <td>2016</td>\n",
       "      <td>11.2</td>\n",
       "      <td>1.0</td>\n",
       "      <td>1.0</td>\n",
       "      <td>189.0</td>\n",
       "      <td>84.0</td>\n",
       "      <td>2012.0</td>\n",
       "    </tr>\n",
       "  </tbody>\n",
       "</table>\n",
       "</div>"
      ],
      "text/plain": [
       "   Suburb Address  Rooms  Type     Price  Method  Date  Distance  Bathroom  \\\n",
       "0       0       1      2     0  932000.0       0  2016       2.5       1.0   \n",
       "1       1       1      3     1  666000.0       1  2016      11.2       2.0   \n",
       "2       1       0      2     1  932000.0       1  2016      11.2       1.0   \n",
       "3       1       0      3     1  475000.0       1  2016      11.2       1.0   \n",
       "4       1       1      5     0  932000.0       2  2016      11.2       2.0   \n",
       "5       1       1      3     0  738000.0       1  2016      11.2       2.0   \n",
       "6       1       0      2     2  355000.0       3  2016      11.2       2.0   \n",
       "7       1       1      3     0  590000.0       1  2016      11.2       2.0   \n",
       "8       1       1      2     0  932000.0       4  2016      11.2       1.0   \n",
       "9       1       0      2     1  415000.0       3  2016      11.2       1.0   \n",
       "\n",
       "   Car  Landsize  BuildingArea  YearBuilt  \n",
       "0  1.0     126.0         141.0     1965.0  \n",
       "1  2.0     544.0         141.0     1965.0  \n",
       "2  1.0     147.0         141.0     1998.0  \n",
       "3  1.0     191.0         107.0     1990.0  \n",
       "4  2.0     544.0         141.0     1965.0  \n",
       "5  2.0     544.0         141.0     1965.0  \n",
       "6  2.0     544.0         141.0     1965.0  \n",
       "7  2.0     544.0         141.0     1965.0  \n",
       "8  1.0     695.0         122.0     1950.0  \n",
       "9  1.0     189.0          84.0     2012.0  "
      ]
     },
     "execution_count": 342,
     "metadata": {},
     "output_type": "execute_result"
    }
   ],
   "source": [
    "df_af4.head(10)"
   ]
  },
  {
   "cell_type": "code",
   "execution_count": 343,
   "metadata": {},
   "outputs": [
    {
     "data": {
      "text/html": [
       "<div>\n",
       "<style scoped>\n",
       "    .dataframe tbody tr th:only-of-type {\n",
       "        vertical-align: middle;\n",
       "    }\n",
       "\n",
       "    .dataframe tbody tr th {\n",
       "        vertical-align: top;\n",
       "    }\n",
       "\n",
       "    .dataframe thead th {\n",
       "        text-align: right;\n",
       "    }\n",
       "</style>\n",
       "<table border=\"1\" class=\"dataframe\">\n",
       "  <thead>\n",
       "    <tr style=\"text-align: right;\">\n",
       "      <th></th>\n",
       "      <th>Suburb</th>\n",
       "      <th>Rooms</th>\n",
       "      <th>Type</th>\n",
       "      <th>Price</th>\n",
       "      <th>Method</th>\n",
       "      <th>Date</th>\n",
       "      <th>Distance</th>\n",
       "      <th>Bathroom</th>\n",
       "      <th>Car</th>\n",
       "      <th>Landsize</th>\n",
       "      <th>BuildingArea</th>\n",
       "      <th>YearBuilt</th>\n",
       "    </tr>\n",
       "  </thead>\n",
       "  <tbody>\n",
       "    <tr>\n",
       "      <th>count</th>\n",
       "      <td>26315.000000</td>\n",
       "      <td>26315.000000</td>\n",
       "      <td>26315.000000</td>\n",
       "      <td>2.631500e+04</td>\n",
       "      <td>26315.000000</td>\n",
       "      <td>26315.000000</td>\n",
       "      <td>26315.000000</td>\n",
       "      <td>26315.000000</td>\n",
       "      <td>26315.000000</td>\n",
       "      <td>26315.000000</td>\n",
       "      <td>26315.000000</td>\n",
       "      <td>26315.000000</td>\n",
       "    </tr>\n",
       "    <tr>\n",
       "      <th>mean</th>\n",
       "      <td>53.743454</td>\n",
       "      <td>3.013718</td>\n",
       "      <td>0.411324</td>\n",
       "      <td>1.021027e+06</td>\n",
       "      <td>2.644727</td>\n",
       "      <td>2016.837659</td>\n",
       "      <td>10.300426</td>\n",
       "      <td>1.694281</td>\n",
       "      <td>1.769295</td>\n",
       "      <td>544.631769</td>\n",
       "      <td>144.535790</td>\n",
       "      <td>1964.024511</td>\n",
       "    </tr>\n",
       "    <tr>\n",
       "      <th>std</th>\n",
       "      <td>43.349606</td>\n",
       "      <td>0.873248</td>\n",
       "      <td>0.690323</td>\n",
       "      <td>4.431508e+05</td>\n",
       "      <td>2.271909</td>\n",
       "      <td>0.639592</td>\n",
       "      <td>5.056171</td>\n",
       "      <td>0.574452</td>\n",
       "      <td>0.738171</td>\n",
       "      <td>401.765930</td>\n",
       "      <td>39.145726</td>\n",
       "      <td>23.758369</td>\n",
       "    </tr>\n",
       "    <tr>\n",
       "      <th>min</th>\n",
       "      <td>0.000000</td>\n",
       "      <td>1.000000</td>\n",
       "      <td>0.000000</td>\n",
       "      <td>1.120000e+05</td>\n",
       "      <td>0.000000</td>\n",
       "      <td>2016.000000</td>\n",
       "      <td>0.700000</td>\n",
       "      <td>0.000000</td>\n",
       "      <td>0.000000</td>\n",
       "      <td>1.000000</td>\n",
       "      <td>0.010000</td>\n",
       "      <td>1887.000000</td>\n",
       "    </tr>\n",
       "    <tr>\n",
       "      <th>25%</th>\n",
       "      <td>16.000000</td>\n",
       "      <td>2.000000</td>\n",
       "      <td>0.000000</td>\n",
       "      <td>7.400000e+05</td>\n",
       "      <td>1.000000</td>\n",
       "      <td>2016.000000</td>\n",
       "      <td>6.400000</td>\n",
       "      <td>1.000000</td>\n",
       "      <td>1.000000</td>\n",
       "      <td>416.000000</td>\n",
       "      <td>141.000000</td>\n",
       "      <td>1965.000000</td>\n",
       "    </tr>\n",
       "    <tr>\n",
       "      <th>50%</th>\n",
       "      <td>43.000000</td>\n",
       "      <td>3.000000</td>\n",
       "      <td>0.000000</td>\n",
       "      <td>9.320000e+05</td>\n",
       "      <td>1.000000</td>\n",
       "      <td>2017.000000</td>\n",
       "      <td>10.100000</td>\n",
       "      <td>2.000000</td>\n",
       "      <td>2.000000</td>\n",
       "      <td>544.000000</td>\n",
       "      <td>141.000000</td>\n",
       "      <td>1965.000000</td>\n",
       "    </tr>\n",
       "    <tr>\n",
       "      <th>75%</th>\n",
       "      <td>84.000000</td>\n",
       "      <td>4.000000</td>\n",
       "      <td>1.000000</td>\n",
       "      <td>1.200000e+06</td>\n",
       "      <td>4.000000</td>\n",
       "      <td>2017.000000</td>\n",
       "      <td>13.500000</td>\n",
       "      <td>2.000000</td>\n",
       "      <td>2.000000</td>\n",
       "      <td>592.000000</td>\n",
       "      <td>141.000000</td>\n",
       "      <td>1965.000000</td>\n",
       "    </tr>\n",
       "    <tr>\n",
       "      <th>max</th>\n",
       "      <td>159.000000</td>\n",
       "      <td>5.000000</td>\n",
       "      <td>2.000000</td>\n",
       "      <td>2.852000e+06</td>\n",
       "      <td>8.000000</td>\n",
       "      <td>2018.000000</td>\n",
       "      <td>27.200000</td>\n",
       "      <td>3.000000</td>\n",
       "      <td>4.000000</td>\n",
       "      <td>8680.000000</td>\n",
       "      <td>406.000000</td>\n",
       "      <td>2019.000000</td>\n",
       "    </tr>\n",
       "  </tbody>\n",
       "</table>\n",
       "</div>"
      ],
      "text/plain": [
       "             Suburb         Rooms          Type         Price        Method  \\\n",
       "count  26315.000000  26315.000000  26315.000000  2.631500e+04  26315.000000   \n",
       "mean      53.743454      3.013718      0.411324  1.021027e+06      2.644727   \n",
       "std       43.349606      0.873248      0.690323  4.431508e+05      2.271909   \n",
       "min        0.000000      1.000000      0.000000  1.120000e+05      0.000000   \n",
       "25%       16.000000      2.000000      0.000000  7.400000e+05      1.000000   \n",
       "50%       43.000000      3.000000      0.000000  9.320000e+05      1.000000   \n",
       "75%       84.000000      4.000000      1.000000  1.200000e+06      4.000000   \n",
       "max      159.000000      5.000000      2.000000  2.852000e+06      8.000000   \n",
       "\n",
       "               Date      Distance      Bathroom           Car      Landsize  \\\n",
       "count  26315.000000  26315.000000  26315.000000  26315.000000  26315.000000   \n",
       "mean    2016.837659     10.300426      1.694281      1.769295    544.631769   \n",
       "std        0.639592      5.056171      0.574452      0.738171    401.765930   \n",
       "min     2016.000000      0.700000      0.000000      0.000000      1.000000   \n",
       "25%     2016.000000      6.400000      1.000000      1.000000    416.000000   \n",
       "50%     2017.000000     10.100000      2.000000      2.000000    544.000000   \n",
       "75%     2017.000000     13.500000      2.000000      2.000000    592.000000   \n",
       "max     2018.000000     27.200000      3.000000      4.000000   8680.000000   \n",
       "\n",
       "       BuildingArea     YearBuilt  \n",
       "count  26315.000000  26315.000000  \n",
       "mean     144.535790   1964.024511  \n",
       "std       39.145726     23.758369  \n",
       "min        0.010000   1887.000000  \n",
       "25%      141.000000   1965.000000  \n",
       "50%      141.000000   1965.000000  \n",
       "75%      141.000000   1965.000000  \n",
       "max      406.000000   2019.000000  "
      ]
     },
     "execution_count": 343,
     "metadata": {},
     "output_type": "execute_result"
    }
   ],
   "source": [
    "df_af4.describe()"
   ]
  },
  {
   "cell_type": "code",
   "execution_count": 344,
   "metadata": {},
   "outputs": [
    {
     "name": "stdout",
     "output_type": "stream",
     "text": [
      "<class 'pandas.core.frame.DataFrame'>\n",
      "Int64Index: 26315 entries, 0 to 30623\n",
      "Data columns (total 13 columns):\n",
      " #   Column        Non-Null Count  Dtype  \n",
      "---  ------        --------------  -----  \n",
      " 0   Suburb        26315 non-null  int64  \n",
      " 1   Address       26315 non-null  object \n",
      " 2   Rooms         26315 non-null  int64  \n",
      " 3   Type          26315 non-null  int64  \n",
      " 4   Price         26315 non-null  float64\n",
      " 5   Method        26315 non-null  int64  \n",
      " 6   Date          26315 non-null  int64  \n",
      " 7   Distance      26315 non-null  float64\n",
      " 8   Bathroom      26315 non-null  float64\n",
      " 9   Car           26315 non-null  float64\n",
      " 10  Landsize      26315 non-null  float64\n",
      " 11  BuildingArea  26315 non-null  float64\n",
      " 12  YearBuilt     26315 non-null  float64\n",
      "dtypes: float64(7), int64(5), object(1)\n",
      "memory usage: 2.8+ MB\n"
     ]
    }
   ],
   "source": [
    "df_af4.info()"
   ]
  },
  {
   "cell_type": "markdown",
   "metadata": {},
   "source": [
    "\n",
    "# Test Anova \n"
   ]
  },
  {
   "cell_type": "markdown",
   "metadata": {},
   "source": [
    "### We have filled potential features and ready to use them for building ML model, but first, we should do an Anova test to make sure if these actually affect to Price"
   ]
  },
  {
   "cell_type": "markdown",
   "metadata": {},
   "source": [
    "#### Check distribution"
   ]
  },
  {
   "cell_type": "code",
   "execution_count": 345,
   "metadata": {},
   "outputs": [
    {
     "data": {
      "image/png": "[encoded data removed]",
      "text/plain": [
       "<Figure size 432x288 with 1 Axes>"
      ]
     },
     "metadata": {},
     "output_type": "display_data"
    },
    {
     "data": {
      "image/png": "[encoded data removed]",
      "text/plain": [
       "<Figure size 432x288 with 1 Axes>"
      ]
     },
     "metadata": {},
     "output_type": "display_data"
    },
    {
     "data": {
      "image/png": "[encoded data removed]",
      "text/plain": [
       "<Figure size 432x288 with 1 Axes>"
      ]
     },
     "metadata": {},
     "output_type": "display_data"
    },
    {
     "data": {
      "image/png": "[encoded data removed]",
      "text/plain": [
       "<Figure size 432x288 with 1 Axes>"
      ]
     },
     "metadata": {},
     "output_type": "display_data"
    },
    {
     "data": {
      "image/png": "[encoded data removed]",
      "text/plain": [
       "<Figure size 432x288 with 1 Axes>"
      ]
     },
     "metadata": {},
     "output_type": "display_data"
    },
    {
     "data": {
      "image/png": "[encoded data removed]",
      "text/plain": [
       "<Figure size 432x288 with 1 Axes>"
      ]
     },
     "metadata": {},
     "output_type": "display_data"
    },
    {
     "data": {
      "image/png": "[encoded data removed]",
      "text/plain": [
       "<Figure size 432x288 with 1 Axes>"
      ]
     },
     "metadata": {},
     "output_type": "display_data"
    },
    {
     "data": {
      "image/png": "[encoded data removed]",
      "text/plain": [
       "<Figure size 432x288 with 1 Axes>"
      ]
     },
     "metadata": {},
     "output_type": "display_data"
    },
    {
     "data": {
      "image/png": "[encoded data removed]",
      "text/plain": [
       "<Figure size 432x288 with 1 Axes>"
      ]
     },
     "metadata": {},
     "output_type": "display_data"
    },
    {
     "data": {
      "image/png": "[encoded data removed]",
      "text/plain": [
       "<Figure size 432x288 with 1 Axes>"
      ]
     },
     "metadata": {},
     "output_type": "display_data"
    },
    {
     "data": {
      "image/png": "[encoded data removed]",
      "text/plain": [
       "<Figure size 432x288 with 1 Axes>"
      ]
     },
     "metadata": {},
     "output_type": "display_data"
    },
    {
     "data": {
      "image/png": "[encoded data removed]",
      "text/plain": [
       "<Figure size 432x288 with 1 Axes>"
      ]
     },
     "metadata": {},
     "output_type": "display_data"
    },
    {
     "data": {
      "image/png": "[encoded data removed]",
      "text/plain": [
       "<Figure size 432x288 with 1 Axes>"
      ]
     },
     "metadata": {},
     "output_type": "display_data"
    }
   ],
   "source": [
    "for i in df_af4:\n",
    "    ax = sns.histplot(df_af4[i])\n",
    "    plt.show()"
   ]
  },
  {
   "cell_type": "code",
   "execution_count": 346,
   "metadata": {},
   "outputs": [
    {
     "name": "stdout",
     "output_type": "stream",
     "text": [
      "Suburb / Price F_onewayResult(statistic=139678.41335007007, pvalue=0.0)\n",
      "Address / Price F_onewayResult(statistic=139692.9205450866, pvalue=0.0)\n",
      "Rooms / Price F_onewayResult(statistic=139692.29560516012, pvalue=0.0)\n",
      "Type / Price F_onewayResult(statistic=139693.00770378602, pvalue=0.0)\n",
      "Price / Price F_onewayResult(statistic=7.390303882875509e-29, pvalue=1.0)\n",
      "Method / Price F_onewayResult(statistic=139692.39656970333, pvalue=0.0)\n",
      "Date / Price F_onewayResult(statistic=139141.79296588397, pvalue=0.0)\n",
      "Distance / Price F_onewayResult(statistic=139690.30172055078, pvalue=0.0)\n",
      "Bathroom / Price F_onewayResult(statistic=139692.65664565063, pvalue=0.0)\n",
      "Car / Price F_onewayResult(statistic=139692.63611919506, pvalue=0.0)\n",
      "Landsize / Price F_onewayResult(statistic=139544.01634844695, pvalue=0.0)\n",
      "BuildingArea / Price F_onewayResult(statistic=139653.57227466197, pvalue=0.0)\n",
      "YearBuilt / Price F_onewayResult(statistic=139156.21578833085, pvalue=0.0)\n"
     ]
    }
   ],
   "source": [
    "for i in df_af4:\n",
    "    anova_test = f_oneway(list(df_af4.get('Price')), list(df_af4.get(i)))\n",
    "    print(i,'/ Price' , anova_test)"
   ]
  },
  {
   "cell_type": "markdown",
   "metadata": {},
   "source": [
    "#### All features have a pvalue = 0, so we can say that these actually affect price."
   ]
  },
  {
   "cell_type": "markdown",
   "metadata": {},
   "source": [
    "# Normalization\n"
   ]
  },
  {
   "cell_type": "code",
   "execution_count": 347,
   "metadata": {},
   "outputs": [],
   "source": [
    "df_final = df_af4.copy()"
   ]
  },
  {
   "cell_type": "markdown",
   "metadata": {},
   "source": [
    "#### Check distribution of Price base on BuildingArea"
   ]
  },
  {
   "cell_type": "code",
   "execution_count": 348,
   "metadata": {
    "scrolled": true
   },
   "outputs": [
    {
     "data": {
      "image/png": "[encoded data removed]",
      "text/plain": [
       "<Figure size 504x504 with 3 Axes>"
      ]
     },
     "metadata": {},
     "output_type": "display_data"
    }
   ],
   "source": [
    "sns.set_theme(style=\"darkgrid\")\n",
    "g = sns.jointplot(x=df_final['BuildingArea'], y=df_final['Price'],data=df_final,\n",
    "                  kind=\"reg\", truncate=False,\n",
    "                  color=\"m\", height=7)"
   ]
  },
  {
   "cell_type": "code",
   "execution_count": 349,
   "metadata": {},
   "outputs": [
    {
     "name": "stdout",
     "output_type": "stream",
     "text": [
      "<class 'pandas.core.frame.DataFrame'>\n",
      "Int64Index: 26315 entries, 0 to 30623\n",
      "Data columns (total 13 columns):\n",
      " #   Column        Non-Null Count  Dtype  \n",
      "---  ------        --------------  -----  \n",
      " 0   Suburb        26315 non-null  int64  \n",
      " 1   Address       26315 non-null  object \n",
      " 2   Rooms         26315 non-null  int64  \n",
      " 3   Type          26315 non-null  int64  \n",
      " 4   Price         26315 non-null  float64\n",
      " 5   Method        26315 non-null  int64  \n",
      " 6   Date          26315 non-null  int64  \n",
      " 7   Distance      26315 non-null  float64\n",
      " 8   Bathroom      26315 non-null  float64\n",
      " 9   Car           26315 non-null  float64\n",
      " 10  Landsize      26315 non-null  float64\n",
      " 11  BuildingArea  26315 non-null  float64\n",
      " 12  YearBuilt     26315 non-null  float64\n",
      "dtypes: float64(7), int64(5), object(1)\n",
      "memory usage: 2.8+ MB\n"
     ]
    }
   ],
   "source": [
    "df_final.info()"
   ]
  },
  {
   "cell_type": "code",
   "execution_count": 350,
   "metadata": {},
   "outputs": [],
   "source": [
    "df_final['Address'] = pd.to_numeric(df_final['Address'])"
   ]
  },
  {
   "cell_type": "code",
   "execution_count": 351,
   "metadata": {},
   "outputs": [
    {
     "data": {
      "text/html": [
       "<div>\n",
       "<style scoped>\n",
       "    .dataframe tbody tr th:only-of-type {\n",
       "        vertical-align: middle;\n",
       "    }\n",
       "\n",
       "    .dataframe tbody tr th {\n",
       "        vertical-align: top;\n",
       "    }\n",
       "\n",
       "    .dataframe thead th {\n",
       "        text-align: right;\n",
       "    }\n",
       "</style>\n",
       "<table border=\"1\" class=\"dataframe\">\n",
       "  <thead>\n",
       "    <tr style=\"text-align: right;\">\n",
       "      <th></th>\n",
       "      <th>Suburb</th>\n",
       "      <th>Address</th>\n",
       "      <th>Rooms</th>\n",
       "      <th>Type</th>\n",
       "      <th>Price</th>\n",
       "      <th>Method</th>\n",
       "      <th>Date</th>\n",
       "      <th>Distance</th>\n",
       "      <th>Bathroom</th>\n",
       "      <th>Car</th>\n",
       "      <th>Landsize</th>\n",
       "      <th>BuildingArea</th>\n",
       "      <th>YearBuilt</th>\n",
       "    </tr>\n",
       "  </thead>\n",
       "  <tbody>\n",
       "    <tr>\n",
       "      <th>count</th>\n",
       "      <td>26315.000000</td>\n",
       "      <td>26315.000000</td>\n",
       "      <td>26315.000000</td>\n",
       "      <td>26315.000000</td>\n",
       "      <td>2.631500e+04</td>\n",
       "      <td>26315.000000</td>\n",
       "      <td>26315.000000</td>\n",
       "      <td>26315.000000</td>\n",
       "      <td>26315.000000</td>\n",
       "      <td>26315.000000</td>\n",
       "      <td>26315.000000</td>\n",
       "      <td>26315.000000</td>\n",
       "      <td>26315.000000</td>\n",
       "    </tr>\n",
       "    <tr>\n",
       "      <th>mean</th>\n",
       "      <td>53.743454</td>\n",
       "      <td>0.729850</td>\n",
       "      <td>3.013718</td>\n",
       "      <td>0.411324</td>\n",
       "      <td>1.021027e+06</td>\n",
       "      <td>2.644727</td>\n",
       "      <td>2016.837659</td>\n",
       "      <td>10.300426</td>\n",
       "      <td>1.694281</td>\n",
       "      <td>1.769295</td>\n",
       "      <td>544.631769</td>\n",
       "      <td>144.535790</td>\n",
       "      <td>1964.024511</td>\n",
       "    </tr>\n",
       "    <tr>\n",
       "      <th>std</th>\n",
       "      <td>43.349606</td>\n",
       "      <td>0.444046</td>\n",
       "      <td>0.873248</td>\n",
       "      <td>0.690323</td>\n",
       "      <td>4.431508e+05</td>\n",
       "      <td>2.271909</td>\n",
       "      <td>0.639592</td>\n",
       "      <td>5.056171</td>\n",
       "      <td>0.574452</td>\n",
       "      <td>0.738171</td>\n",
       "      <td>401.765930</td>\n",
       "      <td>39.145726</td>\n",
       "      <td>23.758369</td>\n",
       "    </tr>\n",
       "    <tr>\n",
       "      <th>min</th>\n",
       "      <td>0.000000</td>\n",
       "      <td>0.000000</td>\n",
       "      <td>1.000000</td>\n",
       "      <td>0.000000</td>\n",
       "      <td>1.120000e+05</td>\n",
       "      <td>0.000000</td>\n",
       "      <td>2016.000000</td>\n",
       "      <td>0.700000</td>\n",
       "      <td>0.000000</td>\n",
       "      <td>0.000000</td>\n",
       "      <td>1.000000</td>\n",
       "      <td>0.010000</td>\n",
       "      <td>1887.000000</td>\n",
       "    </tr>\n",
       "    <tr>\n",
       "      <th>25%</th>\n",
       "      <td>16.000000</td>\n",
       "      <td>0.000000</td>\n",
       "      <td>2.000000</td>\n",
       "      <td>0.000000</td>\n",
       "      <td>7.400000e+05</td>\n",
       "      <td>1.000000</td>\n",
       "      <td>2016.000000</td>\n",
       "      <td>6.400000</td>\n",
       "      <td>1.000000</td>\n",
       "      <td>1.000000</td>\n",
       "      <td>416.000000</td>\n",
       "      <td>141.000000</td>\n",
       "      <td>1965.000000</td>\n",
       "    </tr>\n",
       "    <tr>\n",
       "      <th>50%</th>\n",
       "      <td>43.000000</td>\n",
       "      <td>1.000000</td>\n",
       "      <td>3.000000</td>\n",
       "      <td>0.000000</td>\n",
       "      <td>9.320000e+05</td>\n",
       "      <td>1.000000</td>\n",
       "      <td>2017.000000</td>\n",
       "      <td>10.100000</td>\n",
       "      <td>2.000000</td>\n",
       "      <td>2.000000</td>\n",
       "      <td>544.000000</td>\n",
       "      <td>141.000000</td>\n",
       "      <td>1965.000000</td>\n",
       "    </tr>\n",
       "    <tr>\n",
       "      <th>75%</th>\n",
       "      <td>84.000000</td>\n",
       "      <td>1.000000</td>\n",
       "      <td>4.000000</td>\n",
       "      <td>1.000000</td>\n",
       "      <td>1.200000e+06</td>\n",
       "      <td>4.000000</td>\n",
       "      <td>2017.000000</td>\n",
       "      <td>13.500000</td>\n",
       "      <td>2.000000</td>\n",
       "      <td>2.000000</td>\n",
       "      <td>592.000000</td>\n",
       "      <td>141.000000</td>\n",
       "      <td>1965.000000</td>\n",
       "    </tr>\n",
       "    <tr>\n",
       "      <th>max</th>\n",
       "      <td>159.000000</td>\n",
       "      <td>1.000000</td>\n",
       "      <td>5.000000</td>\n",
       "      <td>2.000000</td>\n",
       "      <td>2.852000e+06</td>\n",
       "      <td>8.000000</td>\n",
       "      <td>2018.000000</td>\n",
       "      <td>27.200000</td>\n",
       "      <td>3.000000</td>\n",
       "      <td>4.000000</td>\n",
       "      <td>8680.000000</td>\n",
       "      <td>406.000000</td>\n",
       "      <td>2019.000000</td>\n",
       "    </tr>\n",
       "  </tbody>\n",
       "</table>\n",
       "</div>"
      ],
      "text/plain": [
       "             Suburb       Address         Rooms          Type         Price  \\\n",
       "count  26315.000000  26315.000000  26315.000000  26315.000000  2.631500e+04   \n",
       "mean      53.743454      0.729850      3.013718      0.411324  1.021027e+06   \n",
       "std       43.349606      0.444046      0.873248      0.690323  4.431508e+05   \n",
       "min        0.000000      0.000000      1.000000      0.000000  1.120000e+05   \n",
       "25%       16.000000      0.000000      2.000000      0.000000  7.400000e+05   \n",
       "50%       43.000000      1.000000      3.000000      0.000000  9.320000e+05   \n",
       "75%       84.000000      1.000000      4.000000      1.000000  1.200000e+06   \n",
       "max      159.000000      1.000000      5.000000      2.000000  2.852000e+06   \n",
       "\n",
       "             Method          Date      Distance      Bathroom           Car  \\\n",
       "count  26315.000000  26315.000000  26315.000000  26315.000000  26315.000000   \n",
       "mean       2.644727   2016.837659     10.300426      1.694281      1.769295   \n",
       "std        2.271909      0.639592      5.056171      0.574452      0.738171   \n",
       "min        0.000000   2016.000000      0.700000      0.000000      0.000000   \n",
       "25%        1.000000   2016.000000      6.400000      1.000000      1.000000   \n",
       "50%        1.000000   2017.000000     10.100000      2.000000      2.000000   \n",
       "75%        4.000000   2017.000000     13.500000      2.000000      2.000000   \n",
       "max        8.000000   2018.000000     27.200000      3.000000      4.000000   \n",
       "\n",
       "           Landsize  BuildingArea     YearBuilt  \n",
       "count  26315.000000  26315.000000  26315.000000  \n",
       "mean     544.631769    144.535790   1964.024511  \n",
       "std      401.765930     39.145726     23.758369  \n",
       "min        1.000000      0.010000   1887.000000  \n",
       "25%      416.000000    141.000000   1965.000000  \n",
       "50%      544.000000    141.000000   1965.000000  \n",
       "75%      592.000000    141.000000   1965.000000  \n",
       "max     8680.000000    406.000000   2019.000000  "
      ]
     },
     "execution_count": 351,
     "metadata": {},
     "output_type": "execute_result"
    }
   ],
   "source": [
    "df_final.describe()"
   ]
  },
  {
   "cell_type": "markdown",
   "metadata": {},
   "source": [
    "#### define a normalize function ( redistribute all value from -1 to 1 )"
   ]
  },
  {
   "cell_type": "code",
   "execution_count": 352,
   "metadata": {},
   "outputs": [],
   "source": [
    "def mean_normalization(x):\n",
    "    e = (x - df_final[feature].mean()) / (df_final[feature].max() - df_final[feature].min())\n",
    "    return e"
   ]
  },
  {
   "cell_type": "code",
   "execution_count": 353,
   "metadata": {},
   "outputs": [
    {
     "data": {
      "text/html": [
       "<div>\n",
       "<style scoped>\n",
       "    .dataframe tbody tr th:only-of-type {\n",
       "        vertical-align: middle;\n",
       "    }\n",
       "\n",
       "    .dataframe tbody tr th {\n",
       "        vertical-align: top;\n",
       "    }\n",
       "\n",
       "    .dataframe thead th {\n",
       "        text-align: right;\n",
       "    }\n",
       "</style>\n",
       "<table border=\"1\" class=\"dataframe\">\n",
       "  <thead>\n",
       "    <tr style=\"text-align: right;\">\n",
       "      <th></th>\n",
       "      <th>Suburb</th>\n",
       "      <th>Address</th>\n",
       "      <th>Rooms</th>\n",
       "      <th>Type</th>\n",
       "      <th>Price</th>\n",
       "      <th>Method</th>\n",
       "      <th>Date</th>\n",
       "      <th>Distance</th>\n",
       "      <th>Bathroom</th>\n",
       "      <th>Car</th>\n",
       "      <th>Landsize</th>\n",
       "      <th>BuildingArea</th>\n",
       "      <th>YearBuilt</th>\n",
       "    </tr>\n",
       "  </thead>\n",
       "  <tbody>\n",
       "    <tr>\n",
       "      <th>0</th>\n",
       "      <td>0</td>\n",
       "      <td>1</td>\n",
       "      <td>2</td>\n",
       "      <td>0</td>\n",
       "      <td>932000.0</td>\n",
       "      <td>0</td>\n",
       "      <td>2016</td>\n",
       "      <td>2.5</td>\n",
       "      <td>1.0</td>\n",
       "      <td>1.0</td>\n",
       "      <td>126.0</td>\n",
       "      <td>141.0</td>\n",
       "      <td>1965.0</td>\n",
       "    </tr>\n",
       "    <tr>\n",
       "      <th>1</th>\n",
       "      <td>1</td>\n",
       "      <td>1</td>\n",
       "      <td>3</td>\n",
       "      <td>1</td>\n",
       "      <td>666000.0</td>\n",
       "      <td>1</td>\n",
       "      <td>2016</td>\n",
       "      <td>11.2</td>\n",
       "      <td>2.0</td>\n",
       "      <td>2.0</td>\n",
       "      <td>544.0</td>\n",
       "      <td>141.0</td>\n",
       "      <td>1965.0</td>\n",
       "    </tr>\n",
       "    <tr>\n",
       "      <th>2</th>\n",
       "      <td>1</td>\n",
       "      <td>0</td>\n",
       "      <td>2</td>\n",
       "      <td>1</td>\n",
       "      <td>932000.0</td>\n",
       "      <td>1</td>\n",
       "      <td>2016</td>\n",
       "      <td>11.2</td>\n",
       "      <td>1.0</td>\n",
       "      <td>1.0</td>\n",
       "      <td>147.0</td>\n",
       "      <td>141.0</td>\n",
       "      <td>1998.0</td>\n",
       "    </tr>\n",
       "    <tr>\n",
       "      <th>3</th>\n",
       "      <td>1</td>\n",
       "      <td>0</td>\n",
       "      <td>3</td>\n",
       "      <td>1</td>\n",
       "      <td>475000.0</td>\n",
       "      <td>1</td>\n",
       "      <td>2016</td>\n",
       "      <td>11.2</td>\n",
       "      <td>1.0</td>\n",
       "      <td>1.0</td>\n",
       "      <td>191.0</td>\n",
       "      <td>107.0</td>\n",
       "      <td>1990.0</td>\n",
       "    </tr>\n",
       "    <tr>\n",
       "      <th>4</th>\n",
       "      <td>1</td>\n",
       "      <td>1</td>\n",
       "      <td>5</td>\n",
       "      <td>0</td>\n",
       "      <td>932000.0</td>\n",
       "      <td>2</td>\n",
       "      <td>2016</td>\n",
       "      <td>11.2</td>\n",
       "      <td>2.0</td>\n",
       "      <td>2.0</td>\n",
       "      <td>544.0</td>\n",
       "      <td>141.0</td>\n",
       "      <td>1965.0</td>\n",
       "    </tr>\n",
       "  </tbody>\n",
       "</table>\n",
       "</div>"
      ],
      "text/plain": [
       "   Suburb  Address  Rooms  Type     Price  Method  Date  Distance  Bathroom  \\\n",
       "0       0        1      2     0  932000.0       0  2016       2.5       1.0   \n",
       "1       1        1      3     1  666000.0       1  2016      11.2       2.0   \n",
       "2       1        0      2     1  932000.0       1  2016      11.2       1.0   \n",
       "3       1        0      3     1  475000.0       1  2016      11.2       1.0   \n",
       "4       1        1      5     0  932000.0       2  2016      11.2       2.0   \n",
       "\n",
       "   Car  Landsize  BuildingArea  YearBuilt  \n",
       "0  1.0     126.0         141.0     1965.0  \n",
       "1  2.0     544.0         141.0     1965.0  \n",
       "2  1.0     147.0         141.0     1998.0  \n",
       "3  1.0     191.0         107.0     1990.0  \n",
       "4  2.0     544.0         141.0     1965.0  "
      ]
     },
     "execution_count": 353,
     "metadata": {},
     "output_type": "execute_result"
    }
   ],
   "source": [
    "df_final.head(5)"
   ]
  },
  {
   "cell_type": "code",
   "execution_count": 354,
   "metadata": {},
   "outputs": [],
   "source": [
    "df_final2 = df_final.copy()"
   ]
  },
  {
   "cell_type": "code",
   "execution_count": 355,
   "metadata": {},
   "outputs": [],
   "source": [
    "for feature in df_final:\n",
    "#     if feature != 'Price':\n",
    "    df_final2[feature] = df_final[feature].apply(lambda x: mean_normalization(x))"
   ]
  },
  {
   "cell_type": "code",
   "execution_count": 356,
   "metadata": {},
   "outputs": [
    {
     "data": {
      "text/html": [
       "<div>\n",
       "<style scoped>\n",
       "    .dataframe tbody tr th:only-of-type {\n",
       "        vertical-align: middle;\n",
       "    }\n",
       "\n",
       "    .dataframe tbody tr th {\n",
       "        vertical-align: top;\n",
       "    }\n",
       "\n",
       "    .dataframe thead th {\n",
       "        text-align: right;\n",
       "    }\n",
       "</style>\n",
       "<table border=\"1\" class=\"dataframe\">\n",
       "  <thead>\n",
       "    <tr style=\"text-align: right;\">\n",
       "      <th></th>\n",
       "      <th>Suburb</th>\n",
       "      <th>Address</th>\n",
       "      <th>Rooms</th>\n",
       "      <th>Type</th>\n",
       "      <th>Price</th>\n",
       "      <th>Method</th>\n",
       "      <th>Date</th>\n",
       "      <th>Distance</th>\n",
       "      <th>Bathroom</th>\n",
       "      <th>Car</th>\n",
       "      <th>Landsize</th>\n",
       "      <th>BuildingArea</th>\n",
       "      <th>YearBuilt</th>\n",
       "    </tr>\n",
       "  </thead>\n",
       "  <tbody>\n",
       "    <tr>\n",
       "      <th>0</th>\n",
       "      <td>-0.338009</td>\n",
       "      <td>0.27015</td>\n",
       "      <td>-0.25343</td>\n",
       "      <td>-0.205662</td>\n",
       "      <td>-0.032492</td>\n",
       "      <td>-0.330591</td>\n",
       "      <td>-0.41883</td>\n",
       "      <td>-0.294356</td>\n",
       "      <td>-0.231427</td>\n",
       "      <td>-0.192324</td>\n",
       "      <td>-0.048235</td>\n",
       "      <td>-0.008709</td>\n",
       "      <td>0.007390</td>\n",
       "    </tr>\n",
       "    <tr>\n",
       "      <th>1</th>\n",
       "      <td>-0.331720</td>\n",
       "      <td>0.27015</td>\n",
       "      <td>-0.00343</td>\n",
       "      <td>0.294338</td>\n",
       "      <td>-0.129572</td>\n",
       "      <td>-0.205591</td>\n",
       "      <td>-0.41883</td>\n",
       "      <td>0.033946</td>\n",
       "      <td>0.101906</td>\n",
       "      <td>0.057676</td>\n",
       "      <td>-0.000073</td>\n",
       "      <td>-0.008709</td>\n",
       "      <td>0.007390</td>\n",
       "    </tr>\n",
       "    <tr>\n",
       "      <th>2</th>\n",
       "      <td>-0.331720</td>\n",
       "      <td>-0.72985</td>\n",
       "      <td>-0.25343</td>\n",
       "      <td>0.294338</td>\n",
       "      <td>-0.032492</td>\n",
       "      <td>-0.205591</td>\n",
       "      <td>-0.41883</td>\n",
       "      <td>0.033946</td>\n",
       "      <td>-0.231427</td>\n",
       "      <td>-0.192324</td>\n",
       "      <td>-0.045815</td>\n",
       "      <td>-0.008709</td>\n",
       "      <td>0.257390</td>\n",
       "    </tr>\n",
       "    <tr>\n",
       "      <th>3</th>\n",
       "      <td>-0.331720</td>\n",
       "      <td>-0.72985</td>\n",
       "      <td>-0.00343</td>\n",
       "      <td>0.294338</td>\n",
       "      <td>-0.199280</td>\n",
       "      <td>-0.205591</td>\n",
       "      <td>-0.41883</td>\n",
       "      <td>0.033946</td>\n",
       "      <td>-0.231427</td>\n",
       "      <td>-0.192324</td>\n",
       "      <td>-0.040746</td>\n",
       "      <td>-0.092455</td>\n",
       "      <td>0.196784</td>\n",
       "    </tr>\n",
       "    <tr>\n",
       "      <th>4</th>\n",
       "      <td>-0.331720</td>\n",
       "      <td>0.27015</td>\n",
       "      <td>0.49657</td>\n",
       "      <td>-0.205662</td>\n",
       "      <td>-0.032492</td>\n",
       "      <td>-0.080591</td>\n",
       "      <td>-0.41883</td>\n",
       "      <td>0.033946</td>\n",
       "      <td>0.101906</td>\n",
       "      <td>0.057676</td>\n",
       "      <td>-0.000073</td>\n",
       "      <td>-0.008709</td>\n",
       "      <td>0.007390</td>\n",
       "    </tr>\n",
       "  </tbody>\n",
       "</table>\n",
       "</div>"
      ],
      "text/plain": [
       "     Suburb  Address    Rooms      Type     Price    Method     Date  \\\n",
       "0 -0.338009  0.27015 -0.25343 -0.205662 -0.032492 -0.330591 -0.41883   \n",
       "1 -0.331720  0.27015 -0.00343  0.294338 -0.129572 -0.205591 -0.41883   \n",
       "2 -0.331720 -0.72985 -0.25343  0.294338 -0.032492 -0.205591 -0.41883   \n",
       "3 -0.331720 -0.72985 -0.00343  0.294338 -0.199280 -0.205591 -0.41883   \n",
       "4 -0.331720  0.27015  0.49657 -0.205662 -0.032492 -0.080591 -0.41883   \n",
       "\n",
       "   Distance  Bathroom       Car  Landsize  BuildingArea  YearBuilt  \n",
       "0 -0.294356 -0.231427 -0.192324 -0.048235     -0.008709   0.007390  \n",
       "1  0.033946  0.101906  0.057676 -0.000073     -0.008709   0.007390  \n",
       "2  0.033946 -0.231427 -0.192324 -0.045815     -0.008709   0.257390  \n",
       "3  0.033946 -0.231427 -0.192324 -0.040746     -0.092455   0.196784  \n",
       "4  0.033946  0.101906  0.057676 -0.000073     -0.008709   0.007390  "
      ]
     },
     "execution_count": 356,
     "metadata": {},
     "output_type": "execute_result"
    }
   ],
   "source": [
    "df_final = df_final2.copy() \n",
    "df_final.head(5)"
   ]
  },
  {
   "cell_type": "code",
   "execution_count": null,
   "metadata": {},
   "outputs": [],
   "source": []
  },
  {
   "cell_type": "code",
   "execution_count": 357,
   "metadata": {
    "scrolled": true
   },
   "outputs": [
    {
     "data": {
      "text/html": [
       "<div>\n",
       "<style scoped>\n",
       "    .dataframe tbody tr th:only-of-type {\n",
       "        vertical-align: middle;\n",
       "    }\n",
       "\n",
       "    .dataframe tbody tr th {\n",
       "        vertical-align: top;\n",
       "    }\n",
       "\n",
       "    .dataframe thead th {\n",
       "        text-align: right;\n",
       "    }\n",
       "</style>\n",
       "<table border=\"1\" class=\"dataframe\">\n",
       "  <thead>\n",
       "    <tr style=\"text-align: right;\">\n",
       "      <th></th>\n",
       "      <th>Suburb</th>\n",
       "      <th>Address</th>\n",
       "      <th>Rooms</th>\n",
       "      <th>Type</th>\n",
       "      <th>Price</th>\n",
       "      <th>Method</th>\n",
       "      <th>Date</th>\n",
       "      <th>Distance</th>\n",
       "      <th>Bathroom</th>\n",
       "      <th>Car</th>\n",
       "      <th>Landsize</th>\n",
       "      <th>BuildingArea</th>\n",
       "      <th>YearBuilt</th>\n",
       "    </tr>\n",
       "  </thead>\n",
       "  <tbody>\n",
       "    <tr>\n",
       "      <th>count</th>\n",
       "      <td>2.631500e+04</td>\n",
       "      <td>2.631500e+04</td>\n",
       "      <td>2.631500e+04</td>\n",
       "      <td>2.631500e+04</td>\n",
       "      <td>2.631500e+04</td>\n",
       "      <td>2.631500e+04</td>\n",
       "      <td>2.631500e+04</td>\n",
       "      <td>2.631500e+04</td>\n",
       "      <td>2.631500e+04</td>\n",
       "      <td>2.631500e+04</td>\n",
       "      <td>2.631500e+04</td>\n",
       "      <td>2.631500e+04</td>\n",
       "      <td>2.631500e+04</td>\n",
       "    </tr>\n",
       "    <tr>\n",
       "      <th>mean</th>\n",
       "      <td>3.024161e-17</td>\n",
       "      <td>5.238278e-17</td>\n",
       "      <td>-4.860258e-17</td>\n",
       "      <td>-2.214118e-17</td>\n",
       "      <td>1.080057e-18</td>\n",
       "      <td>-4.478863e-17</td>\n",
       "      <td>5.500516e-14</td>\n",
       "      <td>-5.184275e-17</td>\n",
       "      <td>4.050215e-18</td>\n",
       "      <td>-1.593085e-17</td>\n",
       "      <td>3.375179e-18</td>\n",
       "      <td>-5.548795e-17</td>\n",
       "      <td>-3.799102e-16</td>\n",
       "    </tr>\n",
       "    <tr>\n",
       "      <th>std</th>\n",
       "      <td>2.726390e-01</td>\n",
       "      <td>4.440456e-01</td>\n",
       "      <td>2.183119e-01</td>\n",
       "      <td>3.451615e-01</td>\n",
       "      <td>1.617339e-01</td>\n",
       "      <td>2.839886e-01</td>\n",
       "      <td>3.197960e-01</td>\n",
       "      <td>1.907989e-01</td>\n",
       "      <td>1.914840e-01</td>\n",
       "      <td>1.845427e-01</td>\n",
       "      <td>4.629173e-02</td>\n",
       "      <td>9.642042e-02</td>\n",
       "      <td>1.799876e-01</td>\n",
       "    </tr>\n",
       "    <tr>\n",
       "      <th>min</th>\n",
       "      <td>-3.380091e-01</td>\n",
       "      <td>-7.298499e-01</td>\n",
       "      <td>-5.034296e-01</td>\n",
       "      <td>-2.056622e-01</td>\n",
       "      <td>-3.317618e-01</td>\n",
       "      <td>-3.305909e-01</td>\n",
       "      <td>-4.188296e-01</td>\n",
       "      <td>-3.622802e-01</td>\n",
       "      <td>-5.647603e-01</td>\n",
       "      <td>-4.423238e-01</td>\n",
       "      <td>-6.263760e-02</td>\n",
       "      <td>-3.559836e-01</td>\n",
       "      <td>-5.835190e-01</td>\n",
       "    </tr>\n",
       "    <tr>\n",
       "      <th>25%</th>\n",
       "      <td>-2.373802e-01</td>\n",
       "      <td>-7.298499e-01</td>\n",
       "      <td>-2.534296e-01</td>\n",
       "      <td>-2.056622e-01</td>\n",
       "      <td>-1.025647e-01</td>\n",
       "      <td>-2.055909e-01</td>\n",
       "      <td>-4.188296e-01</td>\n",
       "      <td>-1.471859e-01</td>\n",
       "      <td>-2.314269e-01</td>\n",
       "      <td>-1.923238e-01</td>\n",
       "      <td>-1.482104e-02</td>\n",
       "      <td>-8.709057e-03</td>\n",
       "      <td>7.390070e-03</td>\n",
       "    </tr>\n",
       "    <tr>\n",
       "      <th>50%</th>\n",
       "      <td>-6.756889e-02</td>\n",
       "      <td>2.701501e-01</td>\n",
       "      <td>-3.429603e-03</td>\n",
       "      <td>-2.056622e-01</td>\n",
       "      <td>-3.249169e-02</td>\n",
       "      <td>-2.055909e-01</td>\n",
       "      <td>8.117044e-02</td>\n",
       "      <td>-7.563231e-03</td>\n",
       "      <td>1.019064e-01</td>\n",
       "      <td>5.767623e-02</td>\n",
       "      <td>-7.279283e-05</td>\n",
       "      <td>-8.709057e-03</td>\n",
       "      <td>7.390070e-03</td>\n",
       "    </tr>\n",
       "    <tr>\n",
       "      <th>75%</th>\n",
       "      <td>1.902927e-01</td>\n",
       "      <td>2.701501e-01</td>\n",
       "      <td>2.465704e-01</td>\n",
       "      <td>2.943378e-01</td>\n",
       "      <td>6.531853e-02</td>\n",
       "      <td>1.694091e-01</td>\n",
       "      <td>8.117044e-02</td>\n",
       "      <td>1.207387e-01</td>\n",
       "      <td>1.019064e-01</td>\n",
       "      <td>5.767623e-02</td>\n",
       "      <td>5.457798e-03</td>\n",
       "      <td>-8.709057e-03</td>\n",
       "      <td>7.390070e-03</td>\n",
       "    </tr>\n",
       "    <tr>\n",
       "      <th>max</th>\n",
       "      <td>6.619909e-01</td>\n",
       "      <td>2.701501e-01</td>\n",
       "      <td>4.965704e-01</td>\n",
       "      <td>7.943378e-01</td>\n",
       "      <td>6.682382e-01</td>\n",
       "      <td>6.694091e-01</td>\n",
       "      <td>5.811704e-01</td>\n",
       "      <td>6.377198e-01</td>\n",
       "      <td>4.352397e-01</td>\n",
       "      <td>5.576762e-01</td>\n",
       "      <td>9.373624e-01</td>\n",
       "      <td>6.440164e-01</td>\n",
       "      <td>4.164810e-01</td>\n",
       "    </tr>\n",
       "  </tbody>\n",
       "</table>\n",
       "</div>"
      ],
      "text/plain": [
       "             Suburb       Address         Rooms          Type         Price  \\\n",
       "count  2.631500e+04  2.631500e+04  2.631500e+04  2.631500e+04  2.631500e+04   \n",
       "mean   3.024161e-17  5.238278e-17 -4.860258e-17 -2.214118e-17  1.080057e-18   \n",
       "std    2.726390e-01  4.440456e-01  2.183119e-01  3.451615e-01  1.617339e-01   \n",
       "min   -3.380091e-01 -7.298499e-01 -5.034296e-01 -2.056622e-01 -3.317618e-01   \n",
       "25%   -2.373802e-01 -7.298499e-01 -2.534296e-01 -2.056622e-01 -1.025647e-01   \n",
       "50%   -6.756889e-02  2.701501e-01 -3.429603e-03 -2.056622e-01 -3.249169e-02   \n",
       "75%    1.902927e-01  2.701501e-01  2.465704e-01  2.943378e-01  6.531853e-02   \n",
       "max    6.619909e-01  2.701501e-01  4.965704e-01  7.943378e-01  6.682382e-01   \n",
       "\n",
       "             Method          Date      Distance      Bathroom           Car  \\\n",
       "count  2.631500e+04  2.631500e+04  2.631500e+04  2.631500e+04  2.631500e+04   \n",
       "mean  -4.478863e-17  5.500516e-14 -5.184275e-17  4.050215e-18 -1.593085e-17   \n",
       "std    2.839886e-01  3.197960e-01  1.907989e-01  1.914840e-01  1.845427e-01   \n",
       "min   -3.305909e-01 -4.188296e-01 -3.622802e-01 -5.647603e-01 -4.423238e-01   \n",
       "25%   -2.055909e-01 -4.188296e-01 -1.471859e-01 -2.314269e-01 -1.923238e-01   \n",
       "50%   -2.055909e-01  8.117044e-02 -7.563231e-03  1.019064e-01  5.767623e-02   \n",
       "75%    1.694091e-01  8.117044e-02  1.207387e-01  1.019064e-01  5.767623e-02   \n",
       "max    6.694091e-01  5.811704e-01  6.377198e-01  4.352397e-01  5.576762e-01   \n",
       "\n",
       "           Landsize  BuildingArea     YearBuilt  \n",
       "count  2.631500e+04  2.631500e+04  2.631500e+04  \n",
       "mean   3.375179e-18 -5.548795e-17 -3.799102e-16  \n",
       "std    4.629173e-02  9.642042e-02  1.799876e-01  \n",
       "min   -6.263760e-02 -3.559836e-01 -5.835190e-01  \n",
       "25%   -1.482104e-02 -8.709057e-03  7.390070e-03  \n",
       "50%   -7.279283e-05 -8.709057e-03  7.390070e-03  \n",
       "75%    5.457798e-03 -8.709057e-03  7.390070e-03  \n",
       "max    9.373624e-01  6.440164e-01  4.164810e-01  "
      ]
     },
     "execution_count": 357,
     "metadata": {},
     "output_type": "execute_result"
    }
   ],
   "source": [
    "df_final.describe()"
   ]
  },
  {
   "cell_type": "markdown",
   "metadata": {},
   "source": [
    "### We can see that for now, all features is all numeric, range( -1, 1) and ready to fit to ML model"
   ]
  },
  {
   "cell_type": "markdown",
   "metadata": {},
   "source": [
    "# MODELlNG"
   ]
  },
  {
   "cell_type": "markdown",
   "metadata": {},
   "source": [
    "## Divide into train set, test set"
   ]
  },
  {
   "cell_type": "markdown",
   "metadata": {},
   "source": [
    "#### divide 80% train, 20% test"
   ]
  },
  {
   "cell_type": "code",
   "execution_count": 358,
   "metadata": {},
   "outputs": [],
   "source": [
    "train_dataset = df_final.sample(frac=0.8, random_state=None)\n",
    "test_dataset = df_final.drop(train_dataset.index)"
   ]
  },
  {
   "cell_type": "code",
   "execution_count": 359,
   "metadata": {},
   "outputs": [
    {
     "data": {
      "text/html": [
       "<div>\n",
       "<style scoped>\n",
       "    .dataframe tbody tr th:only-of-type {\n",
       "        vertical-align: middle;\n",
       "    }\n",
       "\n",
       "    .dataframe tbody tr th {\n",
       "        vertical-align: top;\n",
       "    }\n",
       "\n",
       "    .dataframe thead th {\n",
       "        text-align: right;\n",
       "    }\n",
       "</style>\n",
       "<table border=\"1\" class=\"dataframe\">\n",
       "  <thead>\n",
       "    <tr style=\"text-align: right;\">\n",
       "      <th></th>\n",
       "      <th>Suburb</th>\n",
       "      <th>Address</th>\n",
       "      <th>Rooms</th>\n",
       "      <th>Type</th>\n",
       "      <th>Price</th>\n",
       "      <th>Method</th>\n",
       "      <th>Date</th>\n",
       "      <th>Distance</th>\n",
       "      <th>Bathroom</th>\n",
       "      <th>Car</th>\n",
       "      <th>Landsize</th>\n",
       "      <th>BuildingArea</th>\n",
       "      <th>YearBuilt</th>\n",
       "    </tr>\n",
       "  </thead>\n",
       "  <tbody>\n",
       "    <tr>\n",
       "      <th>28488</th>\n",
       "      <td>0.485890</td>\n",
       "      <td>0.27015</td>\n",
       "      <td>0.24657</td>\n",
       "      <td>-0.205662</td>\n",
       "      <td>0.269698</td>\n",
       "      <td>-0.205591</td>\n",
       "      <td>0.08117</td>\n",
       "      <td>0.116965</td>\n",
       "      <td>0.101906</td>\n",
       "      <td>0.057676</td>\n",
       "      <td>-0.000073</td>\n",
       "      <td>-0.008709</td>\n",
       "      <td>0.007390</td>\n",
       "    </tr>\n",
       "    <tr>\n",
       "      <th>27752</th>\n",
       "      <td>0.435576</td>\n",
       "      <td>0.27015</td>\n",
       "      <td>-0.00343</td>\n",
       "      <td>-0.205662</td>\n",
       "      <td>-0.025922</td>\n",
       "      <td>-0.205591</td>\n",
       "      <td>0.08117</td>\n",
       "      <td>0.241493</td>\n",
       "      <td>0.101906</td>\n",
       "      <td>0.057676</td>\n",
       "      <td>0.012256</td>\n",
       "      <td>-0.008709</td>\n",
       "      <td>0.007390</td>\n",
       "    </tr>\n",
       "    <tr>\n",
       "      <th>1609</th>\n",
       "      <td>-0.319141</td>\n",
       "      <td>-0.72985</td>\n",
       "      <td>-0.25343</td>\n",
       "      <td>0.794338</td>\n",
       "      <td>-0.025922</td>\n",
       "      <td>-0.205591</td>\n",
       "      <td>-0.41883</td>\n",
       "      <td>-0.290582</td>\n",
       "      <td>0.101906</td>\n",
       "      <td>0.057676</td>\n",
       "      <td>-0.000073</td>\n",
       "      <td>-0.008709</td>\n",
       "      <td>0.007390</td>\n",
       "    </tr>\n",
       "    <tr>\n",
       "      <th>14994</th>\n",
       "      <td>-0.080148</td>\n",
       "      <td>0.27015</td>\n",
       "      <td>-0.00343</td>\n",
       "      <td>-0.205662</td>\n",
       "      <td>0.096340</td>\n",
       "      <td>-0.205591</td>\n",
       "      <td>0.08117</td>\n",
       "      <td>-0.150959</td>\n",
       "      <td>-0.231427</td>\n",
       "      <td>0.057676</td>\n",
       "      <td>-0.041322</td>\n",
       "      <td>-0.158959</td>\n",
       "      <td>-0.333519</td>\n",
       "    </tr>\n",
       "    <tr>\n",
       "      <th>11442</th>\n",
       "      <td>-0.168198</td>\n",
       "      <td>0.27015</td>\n",
       "      <td>0.24657</td>\n",
       "      <td>-0.205662</td>\n",
       "      <td>-0.032492</td>\n",
       "      <td>-0.205591</td>\n",
       "      <td>0.58117</td>\n",
       "      <td>-0.003790</td>\n",
       "      <td>0.101906</td>\n",
       "      <td>-0.442324</td>\n",
       "      <td>-0.029108</td>\n",
       "      <td>-0.011172</td>\n",
       "      <td>-0.409277</td>\n",
       "    </tr>\n",
       "  </tbody>\n",
       "</table>\n",
       "</div>"
      ],
      "text/plain": [
       "         Suburb  Address    Rooms      Type     Price    Method     Date  \\\n",
       "28488  0.485890  0.27015  0.24657 -0.205662  0.269698 -0.205591  0.08117   \n",
       "27752  0.435576  0.27015 -0.00343 -0.205662 -0.025922 -0.205591  0.08117   \n",
       "1609  -0.319141 -0.72985 -0.25343  0.794338 -0.025922 -0.205591 -0.41883   \n",
       "14994 -0.080148  0.27015 -0.00343 -0.205662  0.096340 -0.205591  0.08117   \n",
       "11442 -0.168198  0.27015  0.24657 -0.205662 -0.032492 -0.205591  0.58117   \n",
       "\n",
       "       Distance  Bathroom       Car  Landsize  BuildingArea  YearBuilt  \n",
       "28488  0.116965  0.101906  0.057676 -0.000073     -0.008709   0.007390  \n",
       "27752  0.241493  0.101906  0.057676  0.012256     -0.008709   0.007390  \n",
       "1609  -0.290582  0.101906  0.057676 -0.000073     -0.008709   0.007390  \n",
       "14994 -0.150959 -0.231427  0.057676 -0.041322     -0.158959  -0.333519  \n",
       "11442 -0.003790  0.101906 -0.442324 -0.029108     -0.011172  -0.409277  "
      ]
     },
     "execution_count": 359,
     "metadata": {},
     "output_type": "execute_result"
    }
   ],
   "source": [
    "train_dataset.head(5)"
   ]
  },
  {
   "cell_type": "code",
   "execution_count": 360,
   "metadata": {},
   "outputs": [],
   "source": [
    "price_train = np.array(train_dataset['Price'])\n",
    "feature_train = list()\n",
    "price_test = np.array(test_dataset['Price'])\n",
    "feature_test = list()"
   ]
  },
  {
   "cell_type": "markdown",
   "metadata": {},
   "source": [
    "#### create arrays feature and price"
   ]
  },
  {
   "cell_type": "code",
   "execution_count": 361,
   "metadata": {},
   "outputs": [],
   "source": [
    "for i in df_final:\n",
    "    if i != 'Price':\n",
    "        feature_train.append(list(train_dataset[i]))\n",
    "        feature_test.append(list(test_dataset[i]))"
   ]
  },
  {
   "cell_type": "code",
   "execution_count": 362,
   "metadata": {
    "scrolled": true
   },
   "outputs": [],
   "source": [
    "feature_train = np.array(feature_train).transpose()\n",
    "feature_test = np.array(feature_test).transpose()\n"
   ]
  },
  {
   "cell_type": "code",
   "execution_count": 363,
   "metadata": {},
   "outputs": [
    {
     "name": "stdout",
     "output_type": "stream",
     "text": [
      "feature train shape: (21052, 12)\n",
      "price train shape: (21052,)\n",
      "feature test shape: (5263, 12)\n",
      "price test shape: (5263,)\n"
     ]
    }
   ],
   "source": [
    "print('feature train shape:', feature_train.shape)\n",
    "print('price train shape:', price_train.shape)\n",
    "print('feature test shape:', feature_test.shape)\n",
    "print('price test shape:', price_test.shape)"
   ]
  },
  {
   "cell_type": "code",
   "execution_count": 364,
   "metadata": {},
   "outputs": [],
   "source": [
    "from tensorflow import keras\n",
    "from tensorflow.keras import layers\n",
    "from tensorflow.keras.layers.experimental import preprocessing"
   ]
  },
  {
   "cell_type": "markdown",
   "metadata": {},
   "source": [
    "# Basic Linear Regression"
   ]
  },
  {
   "cell_type": "code",
   "execution_count": 365,
   "metadata": {},
   "outputs": [],
   "source": [
    "model_linear = tf.keras.Sequential([\n",
    "    layers.Dense(1)\n",
    "])"
   ]
  },
  {
   "cell_type": "code",
   "execution_count": 366,
   "metadata": {},
   "outputs": [],
   "source": [
    "model_linear.compile(\n",
    "    optimizer=tf.optimizers.Adam(learning_rate=0.00001),\n",
    "    loss= tf.keras.losses.MeanSquaredError())"
   ]
  },
  {
   "cell_type": "code",
   "execution_count": 367,
   "metadata": {},
   "outputs": [],
   "source": [
    "history_linear = model_linear.fit(\n",
    "    feature_train, price_train,\n",
    "    epochs = 50,\n",
    "    verbose = 0,\n",
    "    validation_split = 0.2)"
   ]
  },
  {
   "cell_type": "code",
   "execution_count": 368,
   "metadata": {},
   "outputs": [
    {
     "data": {
      "text/html": [
       "<div>\n",
       "<style scoped>\n",
       "    .dataframe tbody tr th:only-of-type {\n",
       "        vertical-align: middle;\n",
       "    }\n",
       "\n",
       "    .dataframe tbody tr th {\n",
       "        vertical-align: top;\n",
       "    }\n",
       "\n",
       "    .dataframe thead th {\n",
       "        text-align: right;\n",
       "    }\n",
       "</style>\n",
       "<table border=\"1\" class=\"dataframe\">\n",
       "  <thead>\n",
       "    <tr style=\"text-align: right;\">\n",
       "      <th></th>\n",
       "      <th>loss</th>\n",
       "      <th>val_loss</th>\n",
       "      <th>epoch</th>\n",
       "    </tr>\n",
       "  </thead>\n",
       "  <tbody>\n",
       "    <tr>\n",
       "      <th>45</th>\n",
       "      <td>0.041958</td>\n",
       "      <td>0.041035</td>\n",
       "      <td>45</td>\n",
       "    </tr>\n",
       "    <tr>\n",
       "      <th>46</th>\n",
       "      <td>0.041364</td>\n",
       "      <td>0.040458</td>\n",
       "      <td>46</td>\n",
       "    </tr>\n",
       "    <tr>\n",
       "      <th>47</th>\n",
       "      <td>0.040783</td>\n",
       "      <td>0.039892</td>\n",
       "      <td>47</td>\n",
       "    </tr>\n",
       "    <tr>\n",
       "      <th>48</th>\n",
       "      <td>0.040216</td>\n",
       "      <td>0.039340</td>\n",
       "      <td>48</td>\n",
       "    </tr>\n",
       "    <tr>\n",
       "      <th>49</th>\n",
       "      <td>0.039661</td>\n",
       "      <td>0.038798</td>\n",
       "      <td>49</td>\n",
       "    </tr>\n",
       "  </tbody>\n",
       "</table>\n",
       "</div>"
      ],
      "text/plain": [
       "        loss  val_loss  epoch\n",
       "45  0.041958  0.041035     45\n",
       "46  0.041364  0.040458     46\n",
       "47  0.040783  0.039892     47\n",
       "48  0.040216  0.039340     48\n",
       "49  0.039661  0.038798     49"
      ]
     },
     "execution_count": 368,
     "metadata": {},
     "output_type": "execute_result"
    }
   ],
   "source": [
    "hist_linear = pd.DataFrame(history_linear.history)\n",
    "hist_linear['epoch'] = history_linear.epoch\n",
    "hist_linear.tail()"
   ]
  },
  {
   "cell_type": "code",
   "execution_count": 369,
   "metadata": {},
   "outputs": [],
   "source": [
    "def plot_loss(history):\n",
    "  plt.plot(history.history['loss'], label='loss')\n",
    "  plt.plot(history.history['val_loss'], label='val_loss')\n",
    "  plt.ylim([0, 0.2])\n",
    "  plt.xlabel('Epoch')\n",
    "  plt.ylabel('Error')\n",
    "  plt.legend()\n",
    "  plt.grid(True)"
   ]
  },
  {
   "cell_type": "markdown",
   "metadata": {},
   "source": [
    "#### Because feature's range is from -1 to 1 so we have 2 is a max difference between two values"
   ]
  },
  {
   "cell_type": "code",
   "execution_count": 370,
   "metadata": {},
   "outputs": [
    {
     "name": "stdout",
     "output_type": "stream",
     "text": [
      "Train Percent: 98.01692962646484\n",
      "Val Percent: 98.06009288877249\n"
     ]
    },
    {
     "data": {
      "image/png": "[encoded data removed]",
      "text/plain": [
       "<Figure size 432x288 with 1 Axes>"
      ]
     },
     "metadata": {},
     "output_type": "display_data"
    }
   ],
   "source": [
    "plot_loss(history_linear)\n",
    "print('Train Percent:', ((2 - history_linear.history['loss'][-1] ) / 2) * 100)\n",
    "print('Val Percent:', ((2 - history_linear.history['val_loss'][-1] ) / 2) * 100)\n"
   ]
  },
  {
   "cell_type": "markdown",
   "metadata": {},
   "source": [
    "#### Comment:\n",
    "#### The error decrease over time, so that we can pretend our model worked.\n",
    "#### Its not over yet, we can see that the line can be down more if we increase the number of epoch.\n",
    "#### Performent is quite good, train and val percent is not too difference."
   ]
  },
  {
   "cell_type": "markdown",
   "metadata": {},
   "source": [
    "### Evaluate model with Test sample"
   ]
  },
  {
   "cell_type": "code",
   "execution_count": 371,
   "metadata": {},
   "outputs": [],
   "source": [
    "test_predictions_linear = model_linear.predict(feature_test)\n",
    "test_percent_linear = ((2 - (np.abs(test_predictions_linear - price_test_reshape))) / 2) * 100"
   ]
  },
  {
   "cell_type": "code",
   "execution_count": 372,
   "metadata": {},
   "outputs": [
    {
     "name": "stdout",
     "output_type": "stream",
     "text": [
      "Test Percent linear: [[86.04085499]\n",
      " [90.04923559]\n",
      " [93.7478725 ]\n",
      " ...\n",
      " [95.74320188]\n",
      " [98.39440092]\n",
      " [95.04048701]]\n",
      "min of test percent linear: [52.73547076]\n",
      "max of test percent linear: [99.99595808]\n"
     ]
    }
   ],
   "source": [
    "#test_result = model.evaluate(feature_test_transpose, price_test_reshape)\n",
    "print('Test Percent linear:', test_percent_linear)\n",
    "print('min of test percent linear:', min(test_percent_linear))\n",
    "print('max of test percent linear:', max(test_percent_linear))"
   ]
  },
  {
   "cell_type": "code",
   "execution_count": 373,
   "metadata": {},
   "outputs": [
    {
     "name": "stderr",
     "output_type": "stream",
     "text": [
      "c:\\users\\admin\\desktop\\python\\neuralnetwork\\venv1\\lib\\site-packages\\seaborn\\_decorators.py:36: FutureWarning: Pass the following variable as a keyword arg: x. From version 0.12, the only valid positional argument will be `data`, and passing other arguments without an explicit keyword will result in an error or misinterpretation.\n",
      "  warnings.warn(\n"
     ]
    },
    {
     "data": {
      "text/plain": [
       "<AxesSubplot:>"
      ]
     },
     "execution_count": 373,
     "metadata": {},
     "output_type": "execute_result"
    },
    {
     "data": {
      "image/png": "[encoded data removed]",
      "text/plain": [
       "<Figure size 432x288 with 1 Axes>"
      ]
     },
     "metadata": {},
     "output_type": "display_data"
    }
   ],
   "source": [
    "sns.boxplot(test_percent_linear)"
   ]
  },
  {
   "cell_type": "markdown",
   "metadata": {},
   "source": [
    "# BASIC NEURAL NETWORK"
   ]
  },
  {
   "cell_type": "code",
   "execution_count": 374,
   "metadata": {},
   "outputs": [],
   "source": [
    "model_nn = tf.keras.Sequential([\n",
    "    layers.Dense(32, activation='relu'),\n",
    "    layers.Dense(1)\n",
    "])"
   ]
  },
  {
   "cell_type": "code",
   "execution_count": 375,
   "metadata": {},
   "outputs": [],
   "source": [
    "model_nn.compile(\n",
    "    optimizer=tf.optimizers.Adam(learning_rate=0.00001),\n",
    "    loss= tf.keras.losses.MeanSquaredError())"
   ]
  },
  {
   "cell_type": "code",
   "execution_count": 376,
   "metadata": {},
   "outputs": [],
   "source": [
    "history_nn = model_nn.fit(\n",
    "    feature_train, price_train,\n",
    "    epochs = 50,\n",
    "    verbose = 0,\n",
    "    validation_split = 0.2)"
   ]
  },
  {
   "cell_type": "code",
   "execution_count": 377,
   "metadata": {},
   "outputs": [
    {
     "data": {
      "text/html": [
       "<div>\n",
       "<style scoped>\n",
       "    .dataframe tbody tr th:only-of-type {\n",
       "        vertical-align: middle;\n",
       "    }\n",
       "\n",
       "    .dataframe tbody tr th {\n",
       "        vertical-align: top;\n",
       "    }\n",
       "\n",
       "    .dataframe thead th {\n",
       "        text-align: right;\n",
       "    }\n",
       "</style>\n",
       "<table border=\"1\" class=\"dataframe\">\n",
       "  <thead>\n",
       "    <tr style=\"text-align: right;\">\n",
       "      <th></th>\n",
       "      <th>loss</th>\n",
       "      <th>val_loss</th>\n",
       "      <th>epoch</th>\n",
       "    </tr>\n",
       "  </thead>\n",
       "  <tbody>\n",
       "    <tr>\n",
       "      <th>45</th>\n",
       "      <td>0.019038</td>\n",
       "      <td>0.018518</td>\n",
       "      <td>45</td>\n",
       "    </tr>\n",
       "    <tr>\n",
       "      <th>46</th>\n",
       "      <td>0.018986</td>\n",
       "      <td>0.018473</td>\n",
       "      <td>46</td>\n",
       "    </tr>\n",
       "    <tr>\n",
       "      <th>47</th>\n",
       "      <td>0.018936</td>\n",
       "      <td>0.018428</td>\n",
       "      <td>47</td>\n",
       "    </tr>\n",
       "    <tr>\n",
       "      <th>48</th>\n",
       "      <td>0.018890</td>\n",
       "      <td>0.018386</td>\n",
       "      <td>48</td>\n",
       "    </tr>\n",
       "    <tr>\n",
       "      <th>49</th>\n",
       "      <td>0.018844</td>\n",
       "      <td>0.018348</td>\n",
       "      <td>49</td>\n",
       "    </tr>\n",
       "  </tbody>\n",
       "</table>\n",
       "</div>"
      ],
      "text/plain": [
       "        loss  val_loss  epoch\n",
       "45  0.019038  0.018518     45\n",
       "46  0.018986  0.018473     46\n",
       "47  0.018936  0.018428     47\n",
       "48  0.018890  0.018386     48\n",
       "49  0.018844  0.018348     49"
      ]
     },
     "execution_count": 377,
     "metadata": {},
     "output_type": "execute_result"
    }
   ],
   "source": [
    "hist_nn = pd.DataFrame(history_nn.history)\n",
    "hist_nn['epoch'] = history_nn.epoch\n",
    "hist_nn.tail()"
   ]
  },
  {
   "cell_type": "code",
   "execution_count": 378,
   "metadata": {},
   "outputs": [
    {
     "name": "stdout",
     "output_type": "stream",
     "text": [
      "Train Percent: 99.05779100954533\n",
      "Val Percent: 99.0826123394072\n"
     ]
    },
    {
     "data": {
      "image/png": "[encoded data removed]",
      "text/plain": [
       "<Figure size 432x288 with 1 Axes>"
      ]
     },
     "metadata": {},
     "output_type": "display_data"
    }
   ],
   "source": [
    "plot_loss(history_nn)\n",
    "print('Train Percent:', ((2 - history_nn.history['loss'][-1] ) / 2) * 100)\n",
    "print('Val Percent:', ((2 - history_nn.history['val_loss'][-1] ) / 2) * 100)\n"
   ]
  },
  {
   "cell_type": "markdown",
   "metadata": {},
   "source": [
    "#### Comment:\n",
    "#### The error decrease over time, so that we can pretend our model worked.\n",
    "#### Its almost linear after 30 epoch, so we can assume that the model is completed predict now.\n"
   ]
  },
  {
   "cell_type": "code",
   "execution_count": 379,
   "metadata": {},
   "outputs": [],
   "source": [
    "test_predictions_nn = model_nn.predict(feature_test)\n",
    "test_percent_nn = ((2 - (np.abs(test_predictions_nn - price_test_reshape))) / 2) * 100"
   ]
  },
  {
   "cell_type": "code",
   "execution_count": 380,
   "metadata": {},
   "outputs": [
    {
     "name": "stdout",
     "output_type": "stream",
     "text": [
      "Test Percent NN: [[95.31760009]\n",
      " [97.11733234]\n",
      " [92.82446206]\n",
      " ...\n",
      " [98.80967641]\n",
      " [97.38515744]\n",
      " [96.97983882]]\n",
      "min of test percent NN: [60.53257317]\n",
      "max of test percent NN: [99.99433887]\n"
     ]
    }
   ],
   "source": [
    "#test_result = model.evaluate(feature_test_transpose, price_test_reshape)\n",
    "print('Test Percent NN:', test_percent)\n",
    "print('min of test percent NN:', min(test_percent))\n",
    "print('max of test percent NN:', max(test_percent))"
   ]
  },
  {
   "cell_type": "code",
   "execution_count": 381,
   "metadata": {},
   "outputs": [
    {
     "name": "stderr",
     "output_type": "stream",
     "text": [
      "c:\\users\\admin\\desktop\\python\\neuralnetwork\\venv1\\lib\\site-packages\\seaborn\\_decorators.py:36: FutureWarning: Pass the following variable as a keyword arg: x. From version 0.12, the only valid positional argument will be `data`, and passing other arguments without an explicit keyword will result in an error or misinterpretation.\n",
      "  warnings.warn(\n"
     ]
    },
    {
     "data": {
      "text/plain": [
       "<AxesSubplot:>"
      ]
     },
     "execution_count": 381,
     "metadata": {},
     "output_type": "execute_result"
    },
    {
     "data": {
      "image/png": "[encoded data removed]",
      "text/plain": [
       "<Figure size 432x288 with 1 Axes>"
      ]
     },
     "metadata": {},
     "output_type": "display_data"
    }
   ],
   "source": [
    "sns.boxplot(test_percent_nn)"
   ]
  },
  {
   "cell_type": "markdown",
   "metadata": {},
   "source": [
    "#### Outliner start at 80% so almost every times, model will have more than 80% accurate.\n",
    "#### We can see that many times, the accurate will be over 90%, that mean if a house cost 1,000,000 USD, model will have a high chance predict price in range 900,000 to 1,100,000"
   ]
  },
  {
   "cell_type": "markdown",
   "metadata": {},
   "source": [
    "# TEST WITH PCA "
   ]
  },
  {
   "cell_type": "code",
   "execution_count": 382,
   "metadata": {},
   "outputs": [],
   "source": [
    "from sklearn.decomposition import TruncatedSVD"
   ]
  },
  {
   "cell_type": "code",
   "execution_count": 383,
   "metadata": {},
   "outputs": [],
   "source": [
    "modelsvd = TruncatedSVD(n_components=1)\n",
    "feature_train_svd = modelsvd.fit(feature_train.T).components_.transpose()\n",
    "feature_test_svd = modelsvd.fit(feature_test.T).components_.transpose()"
   ]
  },
  {
   "cell_type": "code",
   "execution_count": 384,
   "metadata": {},
   "outputs": [
    {
     "name": "stdout",
     "output_type": "stream",
     "text": [
      "feature train pca shape: (21052, 1)\n",
      "price train shape: (21052,)\n",
      "feature test pca shape: (5263, 1)\n",
      "price test shape: (5263,)\n"
     ]
    }
   ],
   "source": [
    "print('feature train pca shape:', feature_train_svd.shape)\n",
    "print('price train shape:', price_train.shape)\n",
    "print('feature test pca shape:', feature_test_svd.shape)\n",
    "print('price test shape:', price_test.shape)"
   ]
  },
  {
   "cell_type": "code",
   "execution_count": 385,
   "metadata": {},
   "outputs": [
    {
     "data": {
      "image/png": "[encoded data removed]",
      "text/plain": [
       "<Figure size 504x504 with 3 Axes>"
      ]
     },
     "metadata": {},
     "output_type": "display_data"
    }
   ],
   "source": [
    "sns.set_theme(style=\"darkgrid\")\n",
    "g = sns.jointplot(x=feature_train_svd.flatten(), y=price_train.flatten(),\n",
    "                  kind=\"reg\", truncate=False,\n",
    "                  color=\"m\", height=7)"
   ]
  },
  {
   "cell_type": "code",
   "execution_count": 386,
   "metadata": {},
   "outputs": [],
   "source": [
    "model_pca = tf.keras.Sequential([\n",
    "    layers.Dense(32, activation='relu'),\n",
    "    layers.Dense(1)\n",
    "])"
   ]
  },
  {
   "cell_type": "code",
   "execution_count": 387,
   "metadata": {},
   "outputs": [],
   "source": [
    "model_pca.compile(\n",
    "    optimizer=tf.optimizers.Adam(learning_rate=0.00001),\n",
    "    loss= tf.keras.losses.MeanSquaredError())"
   ]
  },
  {
   "cell_type": "code",
   "execution_count": 388,
   "metadata": {},
   "outputs": [],
   "source": [
    "history_pca = model_pca.fit(\n",
    "    feature_train_svd, price_train,\n",
    "    epochs = 50,\n",
    "    verbose = 0,\n",
    "    validation_split = 0.2)\n"
   ]
  },
  {
   "cell_type": "code",
   "execution_count": 389,
   "metadata": {},
   "outputs": [
    {
     "data": {
      "text/html": [
       "<div>\n",
       "<style scoped>\n",
       "    .dataframe tbody tr th:only-of-type {\n",
       "        vertical-align: middle;\n",
       "    }\n",
       "\n",
       "    .dataframe tbody tr th {\n",
       "        vertical-align: top;\n",
       "    }\n",
       "\n",
       "    .dataframe thead th {\n",
       "        text-align: right;\n",
       "    }\n",
       "</style>\n",
       "<table border=\"1\" class=\"dataframe\">\n",
       "  <thead>\n",
       "    <tr style=\"text-align: right;\">\n",
       "      <th></th>\n",
       "      <th>loss</th>\n",
       "      <th>val_loss</th>\n",
       "      <th>epoch</th>\n",
       "    </tr>\n",
       "  </thead>\n",
       "  <tbody>\n",
       "    <tr>\n",
       "      <th>45</th>\n",
       "      <td>0.024322</td>\n",
       "      <td>0.022805</td>\n",
       "      <td>45</td>\n",
       "    </tr>\n",
       "    <tr>\n",
       "      <th>46</th>\n",
       "      <td>0.024292</td>\n",
       "      <td>0.022777</td>\n",
       "      <td>46</td>\n",
       "    </tr>\n",
       "    <tr>\n",
       "      <th>47</th>\n",
       "      <td>0.024262</td>\n",
       "      <td>0.022749</td>\n",
       "      <td>47</td>\n",
       "    </tr>\n",
       "    <tr>\n",
       "      <th>48</th>\n",
       "      <td>0.024232</td>\n",
       "      <td>0.022722</td>\n",
       "      <td>48</td>\n",
       "    </tr>\n",
       "    <tr>\n",
       "      <th>49</th>\n",
       "      <td>0.024204</td>\n",
       "      <td>0.022696</td>\n",
       "      <td>49</td>\n",
       "    </tr>\n",
       "  </tbody>\n",
       "</table>\n",
       "</div>"
      ],
      "text/plain": [
       "        loss  val_loss  epoch\n",
       "45  0.024322  0.022805     45\n",
       "46  0.024292  0.022777     46\n",
       "47  0.024262  0.022749     47\n",
       "48  0.024232  0.022722     48\n",
       "49  0.024204  0.022696     49"
      ]
     },
     "execution_count": 389,
     "metadata": {},
     "output_type": "execute_result"
    }
   ],
   "source": [
    "hist_pca = pd.DataFrame(history_pca.history)\n",
    "hist_pca['epoch'] = history_pca.epoch\n",
    "hist_pca.tail()"
   ]
  },
  {
   "cell_type": "code",
   "execution_count": 390,
   "metadata": {},
   "outputs": [
    {
     "name": "stdout",
     "output_type": "stream",
     "text": [
      "Train Percent: 98.78981588408351\n",
      "Val Percent: 98.86520216241479\n"
     ]
    },
    {
     "data": {
      "image/png": "[encoded data removed]",
      "text/plain": [
       "<Figure size 432x288 with 1 Axes>"
      ]
     },
     "metadata": {},
     "output_type": "display_data"
    }
   ],
   "source": [
    "plot_loss(history_pca)\n",
    "print('Train Percent:', ((2 - history_pca.history['loss'][-1] ) / 2) * 100)\n",
    "print('Val Percent:', ((2 - history_pca.history['val_loss'][-1] ) / 2) * 100)\n"
   ]
  },
  {
   "cell_type": "code",
   "execution_count": 391,
   "metadata": {},
   "outputs": [],
   "source": [
    "test_predictions_pca = model_pca.predict(feature_test_svd)\n",
    "test_percent_pca = ((2 - (np.abs(test_predictions_pca - price_test_reshape))) / 2) * 100"
   ]
  },
  {
   "cell_type": "code",
   "execution_count": 392,
   "metadata": {},
   "outputs": [
    {
     "name": "stdout",
     "output_type": "stream",
     "text": [
      "Test Percent PCA: [[97.19112839]\n",
      " [89.76766636]\n",
      " [92.24025794]\n",
      " ...\n",
      " [96.46474959]\n",
      " [96.7978196 ]\n",
      " [97.46945913]]\n",
      "min of test percent PCA: [63.2395494]\n",
      "max of test percent PCA: [99.9978717]\n"
     ]
    }
   ],
   "source": [
    "#test_result = model.evaluate(feature_test_transpose, price_test_reshape)\n",
    "print('Test Percent PCA:', test_percent_pca)\n",
    "print('min of test percent PCA:', min(test_percent_pca))\n",
    "print('max of test percent PCA:', max(test_percent_pca))"
   ]
  },
  {
   "cell_type": "code",
   "execution_count": 393,
   "metadata": {},
   "outputs": [],
   "source": [
    "def plot(x, y):\n",
    "  plt.scatter(feature_train_svd, price_train, label='Data')\n",
    "  plt.plot(x, y, color='k', label='Predictions')\n",
    "  plt.xlabel('pca')\n",
    "  plt.ylabel('price')\n",
    "  plt.legend()"
   ]
  },
  {
   "cell_type": "code",
   "execution_count": 394,
   "metadata": {},
   "outputs": [
    {
     "data": {
      "image/png": "[encoded data removed]",
      "text/plain": [
       "<Figure size 432x288 with 1 Axes>"
      ]
     },
     "metadata": {},
     "output_type": "display_data"
    }
   ],
   "source": [
    "x = tf.linspace(-0.02, 0.02, 200)\n",
    "plot(x , model_pca.predict(x))"
   ]
  },
  {
   "cell_type": "code",
   "execution_count": null,
   "metadata": {},
   "outputs": [],
   "source": []
  },
  {
   "cell_type": "code",
   "execution_count": null,
   "metadata": {},
   "outputs": [],
   "source": []
  }
 ],
 "metadata": {
  "kernelspec": {
   "display_name": "Python 3",
   "language": "python",
   "name": "python3"
  },
  "language_info": {
   "codemirror_mode": {
    "name": "ipython",
    "version": 3
   },
   "file_extension": ".py",
   "mimetype": "text/x-python",
   "name": "python",
   "nbconvert_exporter": "python",
   "pygments_lexer": "ipython3",
   "version": "3.8.5"
  }
 },
 "nbformat": 4,
 "nbformat_minor": 4
}
