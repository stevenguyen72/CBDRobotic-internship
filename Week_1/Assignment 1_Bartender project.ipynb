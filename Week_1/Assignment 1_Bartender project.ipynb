{
 "cells": [
  {
   "cell_type": "code",
   "execution_count": 1,
   "metadata": {},
   "outputs": [],
   "source": [
    "import random"
   ]
  },
  {
   "cell_type": "code",
   "execution_count": 2,
   "metadata": {},
   "outputs": [],
   "source": [
    "questions = {\n",
    "    \"strong\": \"Do ye like yer drinks strong?\",\n",
    "    \"salty\": \"Do ye like it with a salty tang?\",\n",
    "    \"bitter\": \"Are ye a lubber who like it bitter?\",\n",
    "    \"sweet\": \"Would ye like a bit of sweetness with yer poison?\",\n",
    "    \"fruity\": \"Are ye one for a fruity finish?\",\n",
    "}\n",
    "\n",
    "ingredients = {\n",
    "\"strong\": [\"glug of rum\", \"slug of whisky\", \"splash of gin\"],\n",
    "\"salty\": [\"olive on a stick\", \"salt-dusted rim\", \"rasher of bacon\"],\n",
    "\"bitter\": [\"shake of bitters\", \"splash of tonic\", \"twist of lemon peel\"],\n",
    "\"sweet\": [\"sugar cube\", \"spoonful of honey\", \"spash of cola\"],\n",
    "\"fruity\": [\"slice of orange\", \"dash of cassis\", \"cherry on top\"],\n",
    "}"
   ]
  },
  {
   "cell_type": "code",
   "execution_count": 5,
   "metadata": {},
   "outputs": [
    {
     "name": "stdout",
     "output_type": "stream",
     "text": [
      "[\"Please answer 'yes' or 'no'\", 'Do ye like yer drinks strong?']yes\n",
      "[\"Please answer 'yes' or 'no'\", 'Do ye like it with a salty tang?']es\n",
      "[\"Please answer 'yes' or 'no'\", 'Are ye a lubber who like it bitter?']yes\n",
      "[\"Please answer 'yes' or 'no'\", 'Would ye like a bit of sweetness with yer poison?']yes\n",
      "[\"Please answer 'yes' or 'no'\", 'Are ye one for a fruity finish?']yes\n",
      "------------------------------------------------------------------------------------------\n",
      "Mixture recipe is:\n",
      "glug of rum\n",
      "shake of bitters\n",
      "sugar cube\n",
      "cherry on top\n"
     ]
    }
   ],
   "source": [
    "guest_favorite = []\n",
    "random_mix = []\n",
    "\n",
    "for key in questions:\n",
    "  a = input([\"Please answer 'yes' or 'no'\", questions[key]])\n",
    "  if a == \"yes\":\n",
    "    guest_favorite.append(key)\n",
    "\n",
    "for key2 in guest_favorite:\n",
    "    temp = random.choice(ingredients[key2])\n",
    "    random_mix.append(temp)\n",
    "print(\"------------------------------------------------------------------------------------------\")\n",
    "print(\"Mixture recipe is:\")\n",
    "for i in random_mix:\n",
    "    print(i)"
   ]
  },
  {
   "cell_type": "code",
   "execution_count": null,
   "metadata": {},
   "outputs": [],
   "source": []
  }
 ],
 "metadata": {
  "kernelspec": {
   "display_name": "Python 3",
   "language": "python",
   "name": "python3"
  },
  "language_info": {
   "codemirror_mode": {
    "name": "ipython",
    "version": 3
   },
   "file_extension": ".py",
   "mimetype": "text/x-python",
   "name": "python",
   "nbconvert_exporter": "python",
   "pygments_lexer": "ipython3",
   "version": "3.6.10"
  }
 },
 "nbformat": 4,
 "nbformat_minor": 4
}
