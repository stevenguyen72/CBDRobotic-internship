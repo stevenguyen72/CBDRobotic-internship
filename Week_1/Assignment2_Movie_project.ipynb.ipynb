{
 "cells": [
  {
   "cell_type": "markdown",
   "metadata": {},
   "source": [
    "## ASSIGNMENT 2\n",
    "# PHÂN TÍCH DỮ LIỆU TMDB MOVIE\n",
    "## Dựa vào dataset để phân tích và trả lời 3 câu hỏi sau:\n",
    "   ### 1. Khu vực nào có ảnh hưởng nhất tới doanh thu?\n",
    "   ### 2. Thể loại phim ảnh hưởng đến doanh thu và điểm trung bình như thế nào?\n",
    "   ### 3. Ngày phát hành ảnh hưởng như thế nào đến doanh thu?"
   ]
  },
  {
   "cell_type": "code",
   "execution_count": 70,
   "metadata": {},
   "outputs": [],
   "source": [
    "import pandas as pd\n",
    "import json\n",
    "import matplotlib.pyplot as plt\n",
    "import numpy as np\n",
    "from scipy.stats import f_oneway\n"
   ]
  },
  {
   "cell_type": "markdown",
   "metadata": {},
   "source": [
    "### Xử lí dữ liệu đầu vào"
   ]
  },
  {
   "cell_type": "code",
   "execution_count": 71,
   "metadata": {},
   "outputs": [],
   "source": [
    "\n",
    "def load_tmdb_movies(path):\n",
    "    df = pd.read_csv(path)\n",
    "    df['release_date'] = pd.to_datetime(df['release_date']).apply(lambda x: x.date())\n",
    "    json_columns = ['genres', 'keywords', 'production_countries',\n",
    "                    'production_companies', 'spoken_languages']\n",
    "    for column in json_columns:\n",
    "        df[column] = df[column].apply(json.loads)\n",
    "    return df\n",
    "\n",
    "df = load_tmdb_movies(\"C:/Users/Admin/Desktop/1CBDRobotic/res/week2/tmdb_5000_movies.csv/5000_movies.csv\")"
   ]
  },
  {
   "cell_type": "markdown",
   "metadata": {},
   "source": [
    "### Insight của dataset"
   ]
  },
  {
   "cell_type": "code",
   "execution_count": 72,
   "metadata": {},
   "outputs": [
    {
     "data": {
      "text/html": [
       "<div>\n",
       "<style scoped>\n",
       "    .dataframe tbody tr th:only-of-type {\n",
       "        vertical-align: middle;\n",
       "    }\n",
       "\n",
       "    .dataframe tbody tr th {\n",
       "        vertical-align: top;\n",
       "    }\n",
       "\n",
       "    .dataframe thead th {\n",
       "        text-align: right;\n",
       "    }\n",
       "</style>\n",
       "<table border=\"1\" class=\"dataframe\">\n",
       "  <thead>\n",
       "    <tr style=\"text-align: right;\">\n",
       "      <th></th>\n",
       "      <th>budget</th>\n",
       "      <th>genres</th>\n",
       "      <th>homepage</th>\n",
       "      <th>id</th>\n",
       "      <th>keywords</th>\n",
       "      <th>original_language</th>\n",
       "      <th>original_title</th>\n",
       "      <th>overview</th>\n",
       "      <th>popularity</th>\n",
       "      <th>production_companies</th>\n",
       "      <th>production_countries</th>\n",
       "      <th>release_date</th>\n",
       "      <th>revenue</th>\n",
       "      <th>runtime</th>\n",
       "      <th>spoken_languages</th>\n",
       "      <th>status</th>\n",
       "      <th>tagline</th>\n",
       "      <th>title</th>\n",
       "      <th>vote_average</th>\n",
       "      <th>vote_count</th>\n",
       "    </tr>\n",
       "  </thead>\n",
       "  <tbody>\n",
       "    <tr>\n",
       "      <th>0</th>\n",
       "      <td>237000000</td>\n",
       "      <td>[{'id': 28, 'name': 'Action'}, {'id': 12, 'nam...</td>\n",
       "      <td>http://www.avatarmovie.com/</td>\n",
       "      <td>19995</td>\n",
       "      <td>[{'id': 1463, 'name': 'culture clash'}, {'id':...</td>\n",
       "      <td>en</td>\n",
       "      <td>Avatar</td>\n",
       "      <td>In the 22nd century, a paraplegic Marine is di...</td>\n",
       "      <td>150.437577</td>\n",
       "      <td>[{'name': 'Ingenious Film Partners', 'id': 289...</td>\n",
       "      <td>[{'iso_3166_1': 'US', 'name': 'United States o...</td>\n",
       "      <td>2009-12-10</td>\n",
       "      <td>2787965087</td>\n",
       "      <td>162.0</td>\n",
       "      <td>[{'iso_639_1': 'en', 'name': 'English'}, {'iso...</td>\n",
       "      <td>Released</td>\n",
       "      <td>Enter the World of Pandora.</td>\n",
       "      <td>Avatar</td>\n",
       "      <td>7.2</td>\n",
       "      <td>11800</td>\n",
       "    </tr>\n",
       "    <tr>\n",
       "      <th>1</th>\n",
       "      <td>300000000</td>\n",
       "      <td>[{'id': 12, 'name': 'Adventure'}, {'id': 14, '...</td>\n",
       "      <td>http://disney.go.com/disneypictures/pirates/</td>\n",
       "      <td>285</td>\n",
       "      <td>[{'id': 270, 'name': 'ocean'}, {'id': 726, 'na...</td>\n",
       "      <td>en</td>\n",
       "      <td>Pirates of the Caribbean: At World's End</td>\n",
       "      <td>Captain Barbossa, long believed to be dead, ha...</td>\n",
       "      <td>139.082615</td>\n",
       "      <td>[{'name': 'Walt Disney Pictures', 'id': 2}, {'...</td>\n",
       "      <td>[{'iso_3166_1': 'US', 'name': 'United States o...</td>\n",
       "      <td>2007-05-19</td>\n",
       "      <td>961000000</td>\n",
       "      <td>169.0</td>\n",
       "      <td>[{'iso_639_1': 'en', 'name': 'English'}]</td>\n",
       "      <td>Released</td>\n",
       "      <td>At the end of the world, the adventure begins.</td>\n",
       "      <td>Pirates of the Caribbean: At World's End</td>\n",
       "      <td>6.9</td>\n",
       "      <td>4500</td>\n",
       "    </tr>\n",
       "    <tr>\n",
       "      <th>2</th>\n",
       "      <td>245000000</td>\n",
       "      <td>[{'id': 28, 'name': 'Action'}, {'id': 12, 'nam...</td>\n",
       "      <td>http://www.sonypictures.com/movies/spectre/</td>\n",
       "      <td>206647</td>\n",
       "      <td>[{'id': 470, 'name': 'spy'}, {'id': 818, 'name...</td>\n",
       "      <td>en</td>\n",
       "      <td>Spectre</td>\n",
       "      <td>A cryptic message from Bond’s past sends him o...</td>\n",
       "      <td>107.376788</td>\n",
       "      <td>[{'name': 'Columbia Pictures', 'id': 5}, {'nam...</td>\n",
       "      <td>[{'iso_3166_1': 'GB', 'name': 'United Kingdom'...</td>\n",
       "      <td>2015-10-26</td>\n",
       "      <td>880674609</td>\n",
       "      <td>148.0</td>\n",
       "      <td>[{'iso_639_1': 'fr', 'name': 'Français'}, {'is...</td>\n",
       "      <td>Released</td>\n",
       "      <td>A Plan No One Escapes</td>\n",
       "      <td>Spectre</td>\n",
       "      <td>6.3</td>\n",
       "      <td>4466</td>\n",
       "    </tr>\n",
       "  </tbody>\n",
       "</table>\n",
       "</div>"
      ],
      "text/plain": [
       "      budget                                             genres  \\\n",
       "0  237000000  [{'id': 28, 'name': 'Action'}, {'id': 12, 'nam...   \n",
       "1  300000000  [{'id': 12, 'name': 'Adventure'}, {'id': 14, '...   \n",
       "2  245000000  [{'id': 28, 'name': 'Action'}, {'id': 12, 'nam...   \n",
       "\n",
       "                                       homepage      id  \\\n",
       "0                   http://www.avatarmovie.com/   19995   \n",
       "1  http://disney.go.com/disneypictures/pirates/     285   \n",
       "2   http://www.sonypictures.com/movies/spectre/  206647   \n",
       "\n",
       "                                            keywords original_language  \\\n",
       "0  [{'id': 1463, 'name': 'culture clash'}, {'id':...                en   \n",
       "1  [{'id': 270, 'name': 'ocean'}, {'id': 726, 'na...                en   \n",
       "2  [{'id': 470, 'name': 'spy'}, {'id': 818, 'name...                en   \n",
       "\n",
       "                             original_title  \\\n",
       "0                                    Avatar   \n",
       "1  Pirates of the Caribbean: At World's End   \n",
       "2                                   Spectre   \n",
       "\n",
       "                                            overview  popularity  \\\n",
       "0  In the 22nd century, a paraplegic Marine is di...  150.437577   \n",
       "1  Captain Barbossa, long believed to be dead, ha...  139.082615   \n",
       "2  A cryptic message from Bond’s past sends him o...  107.376788   \n",
       "\n",
       "                                production_companies  \\\n",
       "0  [{'name': 'Ingenious Film Partners', 'id': 289...   \n",
       "1  [{'name': 'Walt Disney Pictures', 'id': 2}, {'...   \n",
       "2  [{'name': 'Columbia Pictures', 'id': 5}, {'nam...   \n",
       "\n",
       "                                production_countries release_date     revenue  \\\n",
       "0  [{'iso_3166_1': 'US', 'name': 'United States o...   2009-12-10  2787965087   \n",
       "1  [{'iso_3166_1': 'US', 'name': 'United States o...   2007-05-19   961000000   \n",
       "2  [{'iso_3166_1': 'GB', 'name': 'United Kingdom'...   2015-10-26   880674609   \n",
       "\n",
       "   runtime                                   spoken_languages    status  \\\n",
       "0    162.0  [{'iso_639_1': 'en', 'name': 'English'}, {'iso...  Released   \n",
       "1    169.0           [{'iso_639_1': 'en', 'name': 'English'}]  Released   \n",
       "2    148.0  [{'iso_639_1': 'fr', 'name': 'Français'}, {'is...  Released   \n",
       "\n",
       "                                          tagline  \\\n",
       "0                     Enter the World of Pandora.   \n",
       "1  At the end of the world, the adventure begins.   \n",
       "2                           A Plan No One Escapes   \n",
       "\n",
       "                                      title  vote_average  vote_count  \n",
       "0                                    Avatar           7.2       11800  \n",
       "1  Pirates of the Caribbean: At World's End           6.9        4500  \n",
       "2                                   Spectre           6.3        4466  "
      ]
     },
     "execution_count": 72,
     "metadata": {},
     "output_type": "execute_result"
    }
   ],
   "source": [
    "df.head(3)"
   ]
  },
  {
   "cell_type": "code",
   "execution_count": 73,
   "metadata": {},
   "outputs": [
    {
     "name": "stdout",
     "output_type": "stream",
     "text": [
      "(4803, 20)\n"
     ]
    }
   ],
   "source": [
    "print(df.shape)"
   ]
  },
  {
   "cell_type": "code",
   "execution_count": 74,
   "metadata": {},
   "outputs": [
    {
     "name": "stdout",
     "output_type": "stream",
     "text": [
      "<class 'pandas.core.frame.DataFrame'>\n",
      "RangeIndex: 4803 entries, 0 to 4802\n",
      "Data columns (total 20 columns):\n",
      " #   Column                Non-Null Count  Dtype  \n",
      "---  ------                --------------  -----  \n",
      " 0   budget                4803 non-null   int64  \n",
      " 1   genres                4803 non-null   object \n",
      " 2   homepage              1712 non-null   object \n",
      " 3   id                    4803 non-null   int64  \n",
      " 4   keywords              4803 non-null   object \n",
      " 5   original_language     4803 non-null   object \n",
      " 6   original_title        4803 non-null   object \n",
      " 7   overview              4800 non-null   object \n",
      " 8   popularity            4803 non-null   float64\n",
      " 9   production_companies  4803 non-null   object \n",
      " 10  production_countries  4803 non-null   object \n",
      " 11  release_date          4802 non-null   object \n",
      " 12  revenue               4803 non-null   int64  \n",
      " 13  runtime               4801 non-null   float64\n",
      " 14  spoken_languages      4803 non-null   object \n",
      " 15  status                4803 non-null   object \n",
      " 16  tagline               3959 non-null   object \n",
      " 17  title                 4803 non-null   object \n",
      " 18  vote_average          4803 non-null   float64\n",
      " 19  vote_count            4803 non-null   int64  \n",
      "dtypes: float64(3), int64(4), object(13)\n",
      "memory usage: 750.6+ KB\n",
      "None\n"
     ]
    }
   ],
   "source": [
    "print(df.info())"
   ]
  },
  {
   "cell_type": "markdown",
   "metadata": {},
   "source": [
    "Ta thấy dữ liệu không bị null nhiều, homepage là column có nhiều giá trị null nhất"
   ]
  },
  {
   "cell_type": "code",
   "execution_count": 75,
   "metadata": {},
   "outputs": [
    {
     "name": "stdout",
     "output_type": "stream",
     "text": [
      "             budget             id   popularity       revenue      runtime  \\\n",
      "count  4.803000e+03    4803.000000  4803.000000  4.803000e+03  4801.000000   \n",
      "mean   2.904504e+07   57165.484281    21.492301  8.226064e+07   106.875859   \n",
      "std    4.072239e+07   88694.614033    31.816650  1.628571e+08    22.611935   \n",
      "min    0.000000e+00       5.000000     0.000000  0.000000e+00     0.000000   \n",
      "25%    7.900000e+05    9014.500000     4.668070  0.000000e+00    94.000000   \n",
      "50%    1.500000e+07   14629.000000    12.921594  1.917000e+07   103.000000   \n",
      "75%    4.000000e+07   58610.500000    28.313505  9.291719e+07   118.000000   \n",
      "max    3.800000e+08  459488.000000   875.581305  2.787965e+09   338.000000   \n",
      "\n",
      "       vote_average    vote_count  \n",
      "count   4803.000000   4803.000000  \n",
      "mean       6.092172    690.217989  \n",
      "std        1.194612   1234.585891  \n",
      "min        0.000000      0.000000  \n",
      "25%        5.600000     54.000000  \n",
      "50%        6.200000    235.000000  \n",
      "75%        6.800000    737.000000  \n",
      "max       10.000000  13752.000000  \n"
     ]
    }
   ],
   "source": [
    "print(df.describe())"
   ]
  },
  {
   "cell_type": "markdown",
   "metadata": {},
   "source": [
    "Nhận xét về các thông số cơ bản của dataset, ta thấy có khá nhiều giá trị 0 trong dataset, đặc biệt là revenue và budget. Như vậy ta cần phải có giải pháp xử lí các giá trị 0 này, tránh để ảnh hưởng tới mô hình phân tích."
   ]
  },
  {
   "cell_type": "markdown",
   "metadata": {},
   "source": [
    "## 1. Khu vực nào có ảnh hưởng nhất tới doanh thu?\n",
    "### Đầu tiên, ta cần phải kiểm định xem liệu khu vực có thực sự ảnh hưởng tới doanh thu hay không?"
   ]
  },
  {
   "cell_type": "markdown",
   "metadata": {},
   "source": [
    "### Tìm tất cả các countries trong data"
   ]
  },
  {
   "cell_type": "code",
   "execution_count": 76,
   "metadata": {},
   "outputs": [
    {
     "name": "stdout",
     "output_type": "stream",
     "text": [
      "countries: ['US', 'GB', 'JM', 'BS', 'DM', 'CZ', 'PL', 'SI', 'NZ', 'DE', 'CN', 'CA', 'IT', 'JP', 'MT', 'AU', 'FR', 'BE', 'IN', 'NL', 'ES', 'AE', 'HK', 'TW', 'IE', 'MA', 'HU', 'SG', 'NO', 'SE', 'ZA', 'RU', 'RO', 'MX', 'MC', 'CH', 'PK', 'MY', 'FI', 'IS', 'DK', 'TN', 'PH', 'BG', 'KR', 'BR', 'PE', 'LU', 'BA', 'KZ', 'PT', 'AW', 'LY', 'RS', 'UA', 'CL', 'AR', 'PA', 'AT', 'GR', 'LT', 'KH', 'TH', 'SK', 'IL', 'FJ', 'CS', 'TR', 'NG', 'CY', 'JO', 'BO', 'EC', 'CO', 'EG', 'BT', 'LB', 'KG', 'DZ', 'ID', 'GY', 'IR', 'GP', 'AF', 'AO', 'DO', 'CM', 'KE']\n"
     ]
    }
   ],
   "source": [
    "countries = []\n",
    "for value in df['production_countries']:\n",
    "    for i in value:\n",
    "        if i['iso_3166_1'] not in countries:\n",
    "            countries.append(i['iso_3166_1'])\n",
    "print(\"countries:\", countries)"
   ]
  },
  {
   "cell_type": "markdown",
   "metadata": {},
   "source": [
    "### Tìm tất cả các index của countries, mà ở đó revenue != 0, giới hạn 20 index"
   ]
  },
  {
   "cell_type": "code",
   "execution_count": 77,
   "metadata": {},
   "outputs": [
    {
     "name": "stdout",
     "output_type": "stream",
     "text": [
      "[3011, 459, 2, 3, 1, 16, 4, 1, 22, 239, 39, 170, 48, 41, 4, 82, 207, 14, 31, 14, 49, 13, 29, 4, 27, 3, 8, 1, 9, 8, 10, 12, 7, 19, 1, 13, 2, 0, 3, 5, 10, 1, 1, 3, 9, 6, 2, 7, 0, 1, 1, 0, 0, 1, 0, 2, 3, 0, 5, 3, 1, 0, 3, 0, 1, 1, 1, 0, 0, 0, 0, 1, 0, 0, 0, 0, 0, 0, 0, 1, 0, 1, 0, 0, 1, 0, 0, 0]\n"
     ]
    }
   ],
   "source": [
    "nums = []\n",
    "index = []\n",
    "nums_actual = []\n",
    "for i in countries:\n",
    "    list_index_actual = list()\n",
    "    list_index = list()\n",
    "    idx = 0\n",
    "    for item in df['production_countries']:\n",
    "        try:\n",
    "            item = str(item)\n",
    "        except:\n",
    "            print(\"\")\n",
    "        if i in item:\n",
    "            if df.iloc[idx]['revenue'] != 0:\n",
    "                list_index_actual.append(idx)\n",
    "                if len(list_index) <= 19:\n",
    "                    list_index.append(idx)\n",
    "        idx = idx + 1\n",
    "\n",
    "    index.append(list_index)\n",
    "    nums.append(len(list_index))\n",
    "    nums_actual.append(len(list_index_actual))\n",
    "\n",
    "print(nums_actual)\n"
   ]
  },
  {
   "cell_type": "markdown",
   "metadata": {},
   "source": [
    "### Để phục vụ cho mục đích kiểm định bằng Anova test, ta chỉ lấy những quốc gia có số bộ phim = 20, những quốc gia có số bộ phim ít hơn 20 sẽ không dùng để kiểm định Anova."
   ]
  },
  {
   "cell_type": "code",
   "execution_count": 78,
   "metadata": {},
   "outputs": [
    {
     "name": "stdout",
     "output_type": "stream",
     "text": [
      "[3011, 459, 22, 239, 39, 170, 48, 41, 82, 207, 31, 49, 29, 27]\n",
      "['US', 'GB', 'NZ', 'DE', 'CN', 'CA', 'IT', 'JP', 'AU', 'FR', 'IN', 'ES', 'HK', 'IE']\n"
     ]
    }
   ],
   "source": [
    "countries2 = []\n",
    "index2 = []\n",
    "nums_actual2 =[]\n",
    "for i in range(len(nums)):\n",
    "    if nums[i] == 20:\n",
    "        countries2.append(countries[i])\n",
    "        index2.append(index[i])\n",
    "        nums_actual2.append(nums_actual[i])\n",
    "\n",
    "print(nums_actual2)\n",
    "print(countries2)\n",
    "\n",
    "countries2_copy = list(countries2)\n",
    "\n"
   ]
  },
  {
   "cell_type": "markdown",
   "metadata": {},
   "source": [
    "### Lấy ra revenue của các quốc gia có số bộ phim = 20\n",
    "### Vẽ biểu đồ boxplot"
   ]
  },
  {
   "cell_type": "code",
   "execution_count": 79,
   "metadata": {
    "scrolled": true
   },
   "outputs": [
    {
     "data": {
      "image/png": "[encoded data removed]",
      "text/plain": [
       "<Figure size 432x288 with 1 Axes>"
      ]
     },
     "metadata": {
      "needs_background": "light"
     },
     "output_type": "display_data"
    },
    {
     "data": {
      "text/plain": [
       "<Figure size 1296x432 with 0 Axes>"
      ]
     },
     "metadata": {},
     "output_type": "display_data"
    }
   ],
   "source": [
    "get_value = {}\n",
    "for i in range(len(countries2)):\n",
    "    a = df.iloc[index2[i]]['revenue'].array\n",
    "    get_value[countries2[i]] = a\n",
    "    countries2[i] = a\n",
    "\n",
    "obj = pd.DataFrame(get_value)\n",
    "\n",
    "#print(obj)\n",
    "\n",
    "obj.plot(kind='box')\n",
    "plt.figure(figsize=(18,6))\n",
    "plt.show()\n"
   ]
  },
  {
   "cell_type": "markdown",
   "metadata": {},
   "source": [
    "### Ta giả sử mỗi quốc gia lấy ra 20 bộ phim bất kì, kiểm định Anova để tìm ra xem liệu revenue có ảnh hưởng bởi các quốc gia khác nhau hay không\n",
    "\n",
    "### h0: khu vực không ảnh hưởng đến doanh thu\n",
    "### h1: khu vực có ảnh hưởng đến doanh thu"
   ]
  },
  {
   "cell_type": "code",
   "execution_count": 80,
   "metadata": {},
   "outputs": [
    {
     "name": "stdout",
     "output_type": "stream",
     "text": [
      "F_onewayResult(statistic=17.133459954687474, pvalue=1.80336892146178e-26)\n"
     ]
    }
   ],
   "source": [
    "anova_test = f_oneway(countries2[0],countries2[1],countries2[3],countries2[4],countries2[5],countries2[6]\n",
    "                      ,countries2[7],countries2[8],countries2[9],countries2[10],countries2[11],countries2[12]\n",
    "                      ,countries2[13])\n",
    "print(anova_test)"
   ]
  },
  {
   "cell_type": "markdown",
   "metadata": {},
   "source": [
    "### => Ta thấy pvalue < 0.05, do đó có thể phủ định H0 và chấp nhận giả thuyết H1: khu vực có ảnh hưởng đến doanh thu"
   ]
  },
  {
   "cell_type": "markdown",
   "metadata": {},
   "source": [
    "### Ta thấy khu vực ảnh hưởng nhất tới doanh thu sẽ là khu vực có số lượng bộ phim nhiều nhất"
   ]
  },
  {
   "cell_type": "code",
   "execution_count": 81,
   "metadata": {},
   "outputs": [
    {
     "data": {
      "image/png": "[encoded data removed]",
      "text/plain": [
       "<Figure size 432x288 with 1 Axes>"
      ]
     },
     "metadata": {
      "needs_background": "light"
     },
     "output_type": "display_data"
    }
   ],
   "source": [
    "plt.bar(countries2_copy, nums_actual2)\n",
    "plt.xlabel('Countries')\n",
    "plt.ylabel('Movies')\n",
    "plt.title('Amounts of movies by countries')\n",
    "plt.show()"
   ]
  },
  {
   "cell_type": "markdown",
   "metadata": {},
   "source": [
    "### => Ta thấy US có số lượng bộ phim vượt trội so với các quốc gia khác, có thể dễ dàng kết luận US là nước có ảnh hưởng nhất tới revenue của phim."
   ]
  },
  {
   "cell_type": "markdown",
   "metadata": {},
   "source": [
    "## 2. Thể loại phim ảnh hưởng đến doanh thu và điểm trung bình như thế nào?\n",
    "### Kiểm định xem thể loại phim có ảnh hưởng đến doanh thu và điểm trung bình hay không"
   ]
  },
  {
   "cell_type": "markdown",
   "metadata": {},
   "source": [
    "### Tìm tất cả các thể loại phim trong dataset"
   ]
  },
  {
   "cell_type": "code",
   "execution_count": 82,
   "metadata": {},
   "outputs": [
    {
     "name": "stdout",
     "output_type": "stream",
     "text": [
      "genres: ['Action', 'Adventure', 'Fantasy', 'Science Fiction', 'Crime', 'Drama', 'Thriller', 'Animation', 'Family', 'Western', 'Comedy', 'Romance', 'Horror', 'Mystery', 'History', 'War', 'Music', 'Documentary', 'Foreign', 'TV Movie']\n"
     ]
    }
   ],
   "source": [
    "genres = []\n",
    "for value in df['genres']:\n",
    "    for i in value:\n",
    "        if i['name'] not in genres:\n",
    "            genres.append(i['name'])\n",
    "            \n",
    "print(\"genres:\",genres)"
   ]
  },
  {
   "cell_type": "markdown",
   "metadata": {},
   "source": [
    "### Tìm tất cả các index của genres, mà ở đó revenue != 0, giới hạn 100 index"
   ]
  },
  {
   "cell_type": "code",
   "execution_count": 83,
   "metadata": {},
   "outputs": [],
   "source": [
    "nums = []\n",
    "index = []\n",
    "\n",
    "for i in genres:\n",
    "    list_index = list()\n",
    "    idx = 0\n",
    "    for item in df['genres']:\n",
    "        try:\n",
    "            item = str(item)\n",
    "        except:\n",
    "            print(\"\")\n",
    "        if i in item:\n",
    "            if df.iloc[idx]['revenue'] != 0:\n",
    "                 if len(list_index) <= 99:\n",
    "                    list_index.append(idx)\n",
    "        idx = idx + 1\n",
    "\n",
    "    index.append(list_index)\n",
    "    nums.append(len(list_index))\n"
   ]
  },
  {
   "cell_type": "markdown",
   "metadata": {},
   "source": [
    "### Để phục vụ cho mục đích kiểm định bằng Anova test, ta chỉ lấy những thể loại có số bộ phim = 100, những quốc gia có số bộ phim ít hơn 100 sẽ không dùng để kiểm định Anova."
   ]
  },
  {
   "cell_type": "code",
   "execution_count": 84,
   "metadata": {},
   "outputs": [],
   "source": [
    "index2 = []\n",
    "genres2 = []\n",
    "for i in range(len(nums)):\n",
    "    if nums[i] == 100:\n",
    "        index2.append(index[i])\n",
    "        genres2.append(genres[i])\n",
    "\n",
    "# print(index_genres_avenue)\n",
    "# print(genres_avenue)\n",
    "\n"
   ]
  },
  {
   "cell_type": "markdown",
   "metadata": {},
   "source": [
    "### Lấy ra revenue của các thể loại có số bộ phim = 100\n",
    "### Vẽ biểu đồ boxplot"
   ]
  },
  {
   "cell_type": "code",
   "execution_count": 85,
   "metadata": {},
   "outputs": [],
   "source": [
    "get_value2 = {}\n",
    "genres_score = list(genres2)\n",
    "\n",
    "for i in range(len(genres2)):\n",
    "    temp_revenue = df.iloc[index2[i]]['revenue'].array\n",
    "    temp_score = df.iloc[index2[i]]['vote_average'].array\n",
    "    get_value2[genres2[i]] = temp_revenue\n",
    "    genres2[i] = temp_revenue\n",
    "    genres_score[i] = temp_score\n",
    "\n",
    "obj2 = pd.DataFrame(get_value2)\n",
    "\n",
    "# print(obj)\n"
   ]
  },
  {
   "cell_type": "markdown",
   "metadata": {},
   "source": [
    "### Ta giả sử mỗi thể loại lấy ra 100 bộ phim bất kì, kiểm định Anova để tìm ra xem liệu revenue và score có ảnh hưởng bởi các thể loại khác nhau hay không\n",
    "\n",
    "### h0: thể loại không ảnh hưởng đến revenue và score\n",
    "### h1: thể loại có ảnh hưởng đến revenue và score"
   ]
  },
  {
   "cell_type": "code",
   "execution_count": 86,
   "metadata": {},
   "outputs": [
    {
     "name": "stdout",
     "output_type": "stream",
     "text": [
      "F_onewayResult(statistic=50.291340308889595, pvalue=2.652138939960255e-122)\n",
      "F_onewayResult(statistic=8.897106671974027, pvalue=3.900561888405041e-20)\n"
     ]
    }
   ],
   "source": [
    "\n",
    "genres_and_avenue = f_oneway(genres2[0],genres2[1],genres2[2],genres2[3],genres2[4],genres2[5],genres2[6],genres2[7],\n",
    "                      genres2[8],genres2[9],genres2[10],genres2[11],genres2[12],genres2[13],genres2[14],genres2[15])\n",
    "\n",
    "genres_and_score = f_oneway(genres_score[0],genres_score[1],genres_score[2],genres_score[3],genres_score[4],genres_score[5],genres_score[6],genres_score[7],\n",
    "                      genres_score[8],genres_score[9],genres_score[10],genres_score[11],genres_score[12],genres_score[13],genres_score[14],genres_score[15])\n",
    "\n",
    "print(genres_and_avenue)\n",
    "print(genres_and_score)"
   ]
  },
  {
   "cell_type": "markdown",
   "metadata": {},
   "source": [
    "### => Cả pvalue của genres_and_avenue và pvalue của genres_and_score đều < 0.05\n",
    "### => ta có thể phủ định H0 và chấp nhận giả thuyết H1: thể loại phim có ảnh hưởng đến doanh thu và điểm trung bình"
   ]
  },
  {
   "cell_type": "markdown",
   "metadata": {},
   "source": [
    "## 3. Ngày phát hành ảnh hưởng như thế nào đến doanh thu?\n",
    "### Kiểm định xem ngày phát hành có ảnh hưởng đến doanh thu hay không"
   ]
  },
  {
   "cell_type": "markdown",
   "metadata": {},
   "source": [
    "### Đầu tiên, ta thấy 1 bộ phim sẽ có thể bị ảnh hưởng bởi giá trị years và months trong date, do đó việc của ta là sẽ kiểm định 2 phần, đầu tiên sẽ kiểm định xem liệu năm phát hành có ảnh hưởng tới revenue hay không, sau đó sẽ kiểm định liệu tháng phát hành có ảnh hưởng hay không\n",
    "### Từ đó sẽ kết luận được liệu ngày phát hành có ảnh hưởng đến doanh thu không\n"
   ]
  },
  {
   "cell_type": "markdown",
   "metadata": {},
   "source": [
    "## a. Kiểm định với years\n",
    "### lấy ra 20 năm gần nhất"
   ]
  },
  {
   "cell_type": "code",
   "execution_count": 87,
   "metadata": {},
   "outputs": [
    {
     "name": "stdout",
     "output_type": "stream",
     "text": [
      "years: [2017, 2016, 2015, 2014, 2013, 2012, 2011, 2010, 2009, 2008, 2007, 2006, 2005, 2004, 2003, 2002, 2001, 2000, 1999, 1998]\n"
     ]
    }
   ],
   "source": [
    "years = list()\n",
    "\n",
    "for value in df['release_date']:\n",
    "    if value.year not in years:\n",
    "        years.append(value.year)\n",
    "\n",
    "years.sort(reverse=True)\n",
    "del years[20:len(years)]\n",
    "\n",
    "print(\"years:\",years)\n"
   ]
  },
  {
   "cell_type": "markdown",
   "metadata": {},
   "source": [
    "### lấy ra các năm có 50 bộ phim"
   ]
  },
  {
   "cell_type": "code",
   "execution_count": 88,
   "metadata": {},
   "outputs": [],
   "source": [
    "nums = []\n",
    "index = []\n",
    "\n",
    "for i in years :\n",
    "    list_index = list()\n",
    "    idx = 0\n",
    "    for item in df['release_date']:\n",
    "        if i == item.year:\n",
    "            if df.iloc[idx]['revenue'] != 0:\n",
    "                if len(list_index) <= 49:\n",
    "                    list_index.append(idx)\n",
    "        idx = idx + 1\n",
    "\n",
    "    index.append(list_index)\n",
    "    nums.append(len(list_index))\n"
   ]
  },
  {
   "cell_type": "markdown",
   "metadata": {},
   "source": [
    "### tính toán và kiểm định Anova dựa trên 50 bộ phim của mỗi năm\n",
    "### H0: năm không ảnh hưởng tới doanh thu\n",
    "### H1: năm có ảnh hưởng đến doanh thu"
   ]
  },
  {
   "cell_type": "code",
   "execution_count": 89,
   "metadata": {
    "scrolled": true
   },
   "outputs": [
    {
     "name": "stdout",
     "output_type": "stream",
     "text": [
      "F_onewayResult(statistic=4.149885656486562, pvalue=1.7221399045956696e-08)\n"
     ]
    }
   ],
   "source": [
    "index2 = []\n",
    "years2 = []\n",
    "for i in range(len(nums)):\n",
    "    if nums[i] == 50:\n",
    "        index2.append(index[i])\n",
    "        years2.append(years[i])\n",
    "\n",
    "get_value3 = {}\n",
    "\n",
    "for i in range(len(years2)):\n",
    "    temp_revenue = df.iloc[index2[i]]['revenue'].array\n",
    "    get_value3[years2[i]] = temp_revenue\n",
    "    years2[i] = temp_revenue\n",
    "\n",
    "obj3 = pd.DataFrame(get_value3)\n",
    "\n",
    "years_and_avenue = f_oneway(years2[0],years2[1],years2[2],years2[3],years2[4],years2[5],years2[6],years2[7],years2[8],\n",
    "                            years2[9],years2[10],years2[11],years2[12],years2[13],years2[14],years2[15],years2[16],\n",
    "                            years2[17],years2[18])\n",
    "\n",
    "print(years_and_avenue)"
   ]
  },
  {
   "cell_type": "markdown",
   "metadata": {},
   "source": [
    "### => Ta thấy giá trị pvalue < 0.05, ta chấp nhận H1"
   ]
  },
  {
   "cell_type": "markdown",
   "metadata": {},
   "source": [
    "## b. Kiểm định với months"
   ]
  },
  {
   "cell_type": "markdown",
   "metadata": {},
   "source": [
    "### Lấy ra các tháng có 200 bộ phim"
   ]
  },
  {
   "cell_type": "code",
   "execution_count": 90,
   "metadata": {},
   "outputs": [
    {
     "name": "stdout",
     "output_type": "stream",
     "text": [
      "month: [ 1  2  3  4  5  6  7  8  9 10 11 12]\n"
     ]
    }
   ],
   "source": [
    "months = np.arange(1,13)\n",
    "\n",
    "print(\"month:\", months)\n",
    "\n",
    "nums = []\n",
    "index = []\n",
    "\n",
    "for i in months :\n",
    "    list_index = list()\n",
    "    # a = list()\n",
    "    idx = 0\n",
    "    for item in df['release_date']:\n",
    "        if i == item.month:\n",
    "            if df.iloc[idx]['revenue'] != 0:\n",
    "                # a.append(idx)\n",
    "                if len(list_index) <= 199:\n",
    "                    list_index.append(idx)\n",
    "        idx = idx + 1\n",
    "\n",
    "    index.append(list_index)\n",
    "    nums.append(len(list_index))\n"
   ]
  },
  {
   "cell_type": "markdown",
   "metadata": {},
   "source": [
    "### tính toán và kiểm định Anova dựa trên 200 bộ phim của mỗi tháng\n",
    "### H0: tháng không ảnh hưởng tới doanh thu\n",
    "### H1: tháng có ảnh hưởng đến doanh thu"
   ]
  },
  {
   "cell_type": "code",
   "execution_count": 91,
   "metadata": {},
   "outputs": [
    {
     "name": "stdout",
     "output_type": "stream",
     "text": [
      "F_onewayResult(statistic=25.39556732646321, pvalue=3.635052379321253e-50)\n"
     ]
    }
   ],
   "source": [
    "index2 = []\n",
    "months2 = []\n",
    "for i in range(len(nums)):\n",
    "    if nums[i] == 200:\n",
    "        index2.append(index[i])\n",
    "        months2.append(months[i])\n",
    "\n",
    "\n",
    "get_value4 = {}\n",
    "\n",
    "for i in range(len(months2)):\n",
    "    temp_revenue = df.iloc[index2[i]]['revenue'].array\n",
    "    get_value4[months2[i]] = temp_revenue\n",
    "    months2[i] = temp_revenue\n",
    "\n",
    "obj4 = pd.DataFrame(get_value4)\n",
    "#print(obj4)\n",
    "#print(get_value4)\n",
    "\n",
    "months_and_avenue = f_oneway(months2[0],months2[1],months2[2],months2[3],months2[4],months2[5],months2[6],months2[7],months2[8],\n",
    "                            months2[9],months2[10],years2[11])\n",
    "\n",
    "print(months_and_avenue)"
   ]
  },
  {
   "cell_type": "markdown",
   "metadata": {},
   "source": [
    "### => Ta thấy giá trị pvalue < 0.05, ta chấp nhận H1¶\n",
    "### => cả months và years đều ảnh hưởng tới doanh thu, vậy ta kết luận rằng ngày phát hành có ảnh hưởng đến doanh thu"
   ]
  },
  {
   "cell_type": "code",
   "execution_count": null,
   "metadata": {},
   "outputs": [],
   "source": []
  }
 ],
 "metadata": {
  "kernelspec": {
   "display_name": "Python 3",
   "language": "python",
   "name": "python3"
  },
  "language_info": {
   "codemirror_mode": {
    "name": "ipython",
    "version": 3
   },
   "file_extension": ".py",
   "mimetype": "text/x-python",
   "name": "python",
   "nbconvert_exporter": "python",
   "pygments_lexer": "ipython3",
   "version": "3.8.5"
  }
 },
 "nbformat": 4,
 "nbformat_minor": 4
}
